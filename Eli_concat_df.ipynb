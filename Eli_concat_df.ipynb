{
 "cells": [
  {
   "cell_type": "code",
   "execution_count": 2,
   "id": "2ea556d2-e3ff-41cc-a133-c7135934e7c9",
   "metadata": {
    "tags": []
   },
   "outputs": [],
   "source": [
    "#imports\n",
    "import pandas as pd"
   ]
  },
  {
   "cell_type": "markdown",
   "id": "631f7243-a4e1-4a19-892c-400e19cb0c18",
   "metadata": {},
   "source": [
    "# Adolescent Births"
   ]
  },
  {
   "cell_type": "code",
   "execution_count": 3,
   "id": "3259ff1a-1f4e-4180-8aaa-f9c27a6fc424",
   "metadata": {
    "tags": []
   },
   "outputs": [],
   "source": [
    "#read in Adolescent Births dataset\n",
    "adolescent_birth_1 = pd.read_csv('../../../../../Downloads/chhs-165e1016-991f-487c-bdd0-84dd1c0a6fe8/data/adolescent_births_2014_2016.csv')"
   ]
  },
  {
   "cell_type": "code",
   "execution_count": 4,
   "id": "7717c1ab-ba44-4f0f-844b-afc183c10c9b",
   "metadata": {
    "tags": []
   },
   "outputs": [
    {
     "data": {
      "text/html": [
       "<div>\n",
       "<style scoped>\n",
       "    .dataframe tbody tr th:only-of-type {\n",
       "        vertical-align: middle;\n",
       "    }\n",
       "\n",
       "    .dataframe tbody tr th {\n",
       "        vertical-align: top;\n",
       "    }\n",
       "\n",
       "    .dataframe thead th {\n",
       "        text-align: right;\n",
       "    }\n",
       "</style>\n",
       "<table border=\"1\" class=\"dataframe\">\n",
       "  <thead>\n",
       "    <tr style=\"text-align: right;\">\n",
       "      <th></th>\n",
       "      <th>year</th>\n",
       "      <th>county</th>\n",
       "      <th>strata</th>\n",
       "      <th>strata_name</th>\n",
       "      <th>population</th>\n",
       "      <th>births</th>\n",
       "      <th>abr</th>\n",
       "      <th>lower</th>\n",
       "      <th>upper</th>\n",
       "    </tr>\n",
       "  </thead>\n",
       "  <tbody>\n",
       "    <tr>\n",
       "      <th>0</th>\n",
       "      <td>2014-2016</td>\n",
       "      <td>Alameda</td>\n",
       "      <td>Age 15-19</td>\n",
       "      <td>All</td>\n",
       "      <td>154934</td>\n",
       "      <td>1508</td>\n",
       "      <td>9.7</td>\n",
       "      <td>9.2</td>\n",
       "      <td>10.2</td>\n",
       "    </tr>\n",
       "    <tr>\n",
       "      <th>1</th>\n",
       "      <td>2014-2016</td>\n",
       "      <td>Alameda</td>\n",
       "      <td>Age 15-17</td>\n",
       "      <td>All</td>\n",
       "      <td>86666</td>\n",
       "      <td>367</td>\n",
       "      <td>4.2</td>\n",
       "      <td>3.8</td>\n",
       "      <td>4.6</td>\n",
       "    </tr>\n",
       "    <tr>\n",
       "      <th>2</th>\n",
       "      <td>2014-2016</td>\n",
       "      <td>Alameda</td>\n",
       "      <td>Age 18-19</td>\n",
       "      <td>All</td>\n",
       "      <td>68268</td>\n",
       "      <td>1141</td>\n",
       "      <td>16.7</td>\n",
       "      <td>15.7</td>\n",
       "      <td>17.7</td>\n",
       "    </tr>\n",
       "    <tr>\n",
       "      <th>3</th>\n",
       "      <td>2014-2016</td>\n",
       "      <td>Alameda</td>\n",
       "      <td>Age 15-19</td>\n",
       "      <td>Hispanic</td>\n",
       "      <td>46722</td>\n",
       "      <td>890</td>\n",
       "      <td>19</td>\n",
       "      <td>17.8</td>\n",
       "      <td>20.2</td>\n",
       "    </tr>\n",
       "    <tr>\n",
       "      <th>4</th>\n",
       "      <td>2014-2016</td>\n",
       "      <td>Alameda</td>\n",
       "      <td>Age 15-19</td>\n",
       "      <td>AsianPI</td>\n",
       "      <td>41518</td>\n",
       "      <td>82</td>\n",
       "      <td>2</td>\n",
       "      <td>1.6</td>\n",
       "      <td>2.5</td>\n",
       "    </tr>\n",
       "    <tr>\n",
       "      <th>...</th>\n",
       "      <td>...</td>\n",
       "      <td>...</td>\n",
       "      <td>...</td>\n",
       "      <td>...</td>\n",
       "      <td>...</td>\n",
       "      <td>...</td>\n",
       "      <td>...</td>\n",
       "      <td>...</td>\n",
       "      <td>...</td>\n",
       "    </tr>\n",
       "    <tr>\n",
       "      <th>517</th>\n",
       "      <td>2014-2016</td>\n",
       "      <td>Yuba</td>\n",
       "      <td>Age 15-19</td>\n",
       "      <td>Hispanic</td>\n",
       "      <td>3072</td>\n",
       "      <td>S</td>\n",
       "      <td>S</td>\n",
       "      <td>S</td>\n",
       "      <td>S</td>\n",
       "    </tr>\n",
       "    <tr>\n",
       "      <th>518</th>\n",
       "      <td>2014-2016</td>\n",
       "      <td>Yuba</td>\n",
       "      <td>Age 15-19</td>\n",
       "      <td>AsianPI</td>\n",
       "      <td>548</td>\n",
       "      <td>S</td>\n",
       "      <td>S</td>\n",
       "      <td>S</td>\n",
       "      <td>S</td>\n",
       "    </tr>\n",
       "    <tr>\n",
       "      <th>519</th>\n",
       "      <td>2014-2016</td>\n",
       "      <td>Yuba</td>\n",
       "      <td>Age 15-19</td>\n",
       "      <td>MultRace</td>\n",
       "      <td>493</td>\n",
       "      <td>S</td>\n",
       "      <td>S</td>\n",
       "      <td>S</td>\n",
       "      <td>S</td>\n",
       "    </tr>\n",
       "    <tr>\n",
       "      <th>520</th>\n",
       "      <td>2014-2016</td>\n",
       "      <td>Yuba</td>\n",
       "      <td>Age 15-19</td>\n",
       "      <td>Black</td>\n",
       "      <td>218</td>\n",
       "      <td>S</td>\n",
       "      <td>S</td>\n",
       "      <td>S</td>\n",
       "      <td>S</td>\n",
       "    </tr>\n",
       "    <tr>\n",
       "      <th>521</th>\n",
       "      <td>2014-2016</td>\n",
       "      <td>Yuba</td>\n",
       "      <td>Age 15-19</td>\n",
       "      <td>AIAN</td>\n",
       "      <td>113</td>\n",
       "      <td>S</td>\n",
       "      <td>S</td>\n",
       "      <td>S</td>\n",
       "      <td>S</td>\n",
       "    </tr>\n",
       "  </tbody>\n",
       "</table>\n",
       "<p>522 rows × 9 columns</p>\n",
       "</div>"
      ],
      "text/plain": [
       "          year   county     strata strata_name  population births   abr lower  \\\n",
       "0    2014-2016  Alameda  Age 15-19         All      154934   1508   9.7   9.2   \n",
       "1    2014-2016  Alameda  Age 15-17         All       86666    367   4.2   3.8   \n",
       "2    2014-2016  Alameda  Age 18-19         All       68268   1141  16.7  15.7   \n",
       "3    2014-2016  Alameda  Age 15-19    Hispanic       46722    890    19  17.8   \n",
       "4    2014-2016  Alameda  Age 15-19     AsianPI       41518     82     2   1.6   \n",
       "..         ...      ...        ...         ...         ...    ...   ...   ...   \n",
       "517  2014-2016     Yuba  Age 15-19    Hispanic        3072      S     S     S   \n",
       "518  2014-2016     Yuba  Age 15-19     AsianPI         548      S     S     S   \n",
       "519  2014-2016     Yuba  Age 15-19    MultRace         493      S     S     S   \n",
       "520  2014-2016     Yuba  Age 15-19       Black         218      S     S     S   \n",
       "521  2014-2016     Yuba  Age 15-19        AIAN         113      S     S     S   \n",
       "\n",
       "    upper  \n",
       "0    10.2  \n",
       "1     4.6  \n",
       "2    17.7  \n",
       "3    20.2  \n",
       "4     2.5  \n",
       "..    ...  \n",
       "517     S  \n",
       "518     S  \n",
       "519     S  \n",
       "520     S  \n",
       "521     S  \n",
       "\n",
       "[522 rows x 9 columns]"
      ]
     },
     "execution_count": 4,
     "metadata": {},
     "output_type": "execute_result"
    }
   ],
   "source": [
    "adolescent_birth_1"
   ]
  },
  {
   "cell_type": "code",
   "execution_count": 5,
   "id": "f510326d-05bd-4017-8f57-b85b7dfccc75",
   "metadata": {
    "tags": []
   },
   "outputs": [],
   "source": [
    "adolescent_birth_2 = pd.read_csv('../../../../../Downloads/chhs-165e1016-991f-487c-bdd0-84dd1c0a6fe8/data/adolescent_births_2.csv')"
   ]
  },
  {
   "cell_type": "code",
   "execution_count": 6,
   "id": "f2a0a8ad-a0fe-47d2-8bc5-3c787060384e",
   "metadata": {
    "tags": []
   },
   "outputs": [
    {
     "data": {
      "text/html": [
       "<div>\n",
       "<style scoped>\n",
       "    .dataframe tbody tr th:only-of-type {\n",
       "        vertical-align: middle;\n",
       "    }\n",
       "\n",
       "    .dataframe tbody tr th {\n",
       "        vertical-align: top;\n",
       "    }\n",
       "\n",
       "    .dataframe thead th {\n",
       "        text-align: right;\n",
       "    }\n",
       "</style>\n",
       "<table border=\"1\" class=\"dataframe\">\n",
       "  <thead>\n",
       "    <tr style=\"text-align: right;\">\n",
       "      <th></th>\n",
       "      <th>year</th>\n",
       "      <th>county</th>\n",
       "      <th>strata</th>\n",
       "      <th>strata_name</th>\n",
       "      <th>population</th>\n",
       "      <th>births</th>\n",
       "      <th>abr</th>\n",
       "      <th>lower</th>\n",
       "      <th>upper</th>\n",
       "    </tr>\n",
       "  </thead>\n",
       "  <tbody>\n",
       "    <tr>\n",
       "      <th>0</th>\n",
       "      <td>2014-2016</td>\n",
       "      <td>Alameda</td>\n",
       "      <td>Age 15-19</td>\n",
       "      <td>All</td>\n",
       "      <td>154934</td>\n",
       "      <td>1508</td>\n",
       "      <td>9.7</td>\n",
       "      <td>9.2</td>\n",
       "      <td>10.2</td>\n",
       "    </tr>\n",
       "    <tr>\n",
       "      <th>1</th>\n",
       "      <td>2014-2016</td>\n",
       "      <td>Alameda</td>\n",
       "      <td>Age 15-17</td>\n",
       "      <td>All</td>\n",
       "      <td>86666</td>\n",
       "      <td>367</td>\n",
       "      <td>4.2</td>\n",
       "      <td>3.8</td>\n",
       "      <td>4.6</td>\n",
       "    </tr>\n",
       "    <tr>\n",
       "      <th>2</th>\n",
       "      <td>2014-2016</td>\n",
       "      <td>Alameda</td>\n",
       "      <td>Age 18-19</td>\n",
       "      <td>All</td>\n",
       "      <td>68268</td>\n",
       "      <td>1141</td>\n",
       "      <td>16.7</td>\n",
       "      <td>15.7</td>\n",
       "      <td>17.7</td>\n",
       "    </tr>\n",
       "    <tr>\n",
       "      <th>3</th>\n",
       "      <td>2014-2016</td>\n",
       "      <td>Alameda</td>\n",
       "      <td>Age 15-19</td>\n",
       "      <td>Hispanic</td>\n",
       "      <td>46722</td>\n",
       "      <td>890</td>\n",
       "      <td>19</td>\n",
       "      <td>17.8</td>\n",
       "      <td>20.2</td>\n",
       "    </tr>\n",
       "    <tr>\n",
       "      <th>4</th>\n",
       "      <td>2014-2016</td>\n",
       "      <td>Alameda</td>\n",
       "      <td>Age 15-19</td>\n",
       "      <td>AsianPI</td>\n",
       "      <td>41518</td>\n",
       "      <td>82</td>\n",
       "      <td>2</td>\n",
       "      <td>1.6</td>\n",
       "      <td>2.5</td>\n",
       "    </tr>\n",
       "    <tr>\n",
       "      <th>...</th>\n",
       "      <td>...</td>\n",
       "      <td>...</td>\n",
       "      <td>...</td>\n",
       "      <td>...</td>\n",
       "      <td>...</td>\n",
       "      <td>...</td>\n",
       "      <td>...</td>\n",
       "      <td>...</td>\n",
       "      <td>...</td>\n",
       "    </tr>\n",
       "    <tr>\n",
       "      <th>517</th>\n",
       "      <td>2014-2016</td>\n",
       "      <td>Yuba</td>\n",
       "      <td>Age 15-19</td>\n",
       "      <td>Hispanic</td>\n",
       "      <td>3072</td>\n",
       "      <td>S</td>\n",
       "      <td>S</td>\n",
       "      <td>S</td>\n",
       "      <td>S</td>\n",
       "    </tr>\n",
       "    <tr>\n",
       "      <th>518</th>\n",
       "      <td>2014-2016</td>\n",
       "      <td>Yuba</td>\n",
       "      <td>Age 15-19</td>\n",
       "      <td>AsianPI</td>\n",
       "      <td>548</td>\n",
       "      <td>S</td>\n",
       "      <td>S</td>\n",
       "      <td>S</td>\n",
       "      <td>S</td>\n",
       "    </tr>\n",
       "    <tr>\n",
       "      <th>519</th>\n",
       "      <td>2014-2016</td>\n",
       "      <td>Yuba</td>\n",
       "      <td>Age 15-19</td>\n",
       "      <td>MultRace</td>\n",
       "      <td>493</td>\n",
       "      <td>S</td>\n",
       "      <td>S</td>\n",
       "      <td>S</td>\n",
       "      <td>S</td>\n",
       "    </tr>\n",
       "    <tr>\n",
       "      <th>520</th>\n",
       "      <td>2014-2016</td>\n",
       "      <td>Yuba</td>\n",
       "      <td>Age 15-19</td>\n",
       "      <td>Black</td>\n",
       "      <td>218</td>\n",
       "      <td>S</td>\n",
       "      <td>S</td>\n",
       "      <td>S</td>\n",
       "      <td>S</td>\n",
       "    </tr>\n",
       "    <tr>\n",
       "      <th>521</th>\n",
       "      <td>2014-2016</td>\n",
       "      <td>Yuba</td>\n",
       "      <td>Age 15-19</td>\n",
       "      <td>AIAN</td>\n",
       "      <td>113</td>\n",
       "      <td>S</td>\n",
       "      <td>S</td>\n",
       "      <td>S</td>\n",
       "      <td>S</td>\n",
       "    </tr>\n",
       "  </tbody>\n",
       "</table>\n",
       "<p>522 rows × 9 columns</p>\n",
       "</div>"
      ],
      "text/plain": [
       "          year   county     strata strata_name  population births   abr lower  \\\n",
       "0    2014-2016  Alameda  Age 15-19         All      154934   1508   9.7   9.2   \n",
       "1    2014-2016  Alameda  Age 15-17         All       86666    367   4.2   3.8   \n",
       "2    2014-2016  Alameda  Age 18-19         All       68268   1141  16.7  15.7   \n",
       "3    2014-2016  Alameda  Age 15-19    Hispanic       46722    890    19  17.8   \n",
       "4    2014-2016  Alameda  Age 15-19     AsianPI       41518     82     2   1.6   \n",
       "..         ...      ...        ...         ...         ...    ...   ...   ...   \n",
       "517  2014-2016     Yuba  Age 15-19    Hispanic        3072      S     S     S   \n",
       "518  2014-2016     Yuba  Age 15-19     AsianPI         548      S     S     S   \n",
       "519  2014-2016     Yuba  Age 15-19    MultRace         493      S     S     S   \n",
       "520  2014-2016     Yuba  Age 15-19       Black         218      S     S     S   \n",
       "521  2014-2016     Yuba  Age 15-19        AIAN         113      S     S     S   \n",
       "\n",
       "    upper  \n",
       "0    10.2  \n",
       "1     4.6  \n",
       "2    17.7  \n",
       "3    20.2  \n",
       "4     2.5  \n",
       "..    ...  \n",
       "517     S  \n",
       "518     S  \n",
       "519     S  \n",
       "520     S  \n",
       "521     S  \n",
       "\n",
       "[522 rows x 9 columns]"
      ]
     },
     "execution_count": 6,
     "metadata": {},
     "output_type": "execute_result"
    }
   ],
   "source": [
    "adolescent_birth_2"
   ]
  },
  {
   "cell_type": "code",
   "execution_count": 7,
   "id": "db02e5b7-4551-4105-a210-088d35347ce5",
   "metadata": {
    "tags": []
   },
   "outputs": [],
   "source": [
    "adolescent_birth_3 = pd.read_csv('../../../../../Downloads/chhs-165e1016-991f-487c-bdd0-84dd1c0a6fe8/data/adolescent_births_3.csv')"
   ]
  },
  {
   "cell_type": "code",
   "execution_count": 8,
   "id": "3c399792-801b-42a7-a971-474eb312fab7",
   "metadata": {
    "tags": []
   },
   "outputs": [
    {
     "data": {
      "text/html": [
       "<div>\n",
       "<style scoped>\n",
       "    .dataframe tbody tr th:only-of-type {\n",
       "        vertical-align: middle;\n",
       "    }\n",
       "\n",
       "    .dataframe tbody tr th {\n",
       "        vertical-align: top;\n",
       "    }\n",
       "\n",
       "    .dataframe thead th {\n",
       "        text-align: right;\n",
       "    }\n",
       "</style>\n",
       "<table border=\"1\" class=\"dataframe\">\n",
       "  <thead>\n",
       "    <tr style=\"text-align: right;\">\n",
       "      <th></th>\n",
       "      <th>field_title</th>\n",
       "      <th>field_name</th>\n",
       "      <th>data_type</th>\n",
       "      <th>description</th>\n",
       "    </tr>\n",
       "  </thead>\n",
       "  <tbody>\n",
       "    <tr>\n",
       "      <th>0</th>\n",
       "      <td>Year</td>\n",
       "      <td>Year</td>\n",
       "      <td>Text</td>\n",
       "      <td>Year when births occurred</td>\n",
       "    </tr>\n",
       "    <tr>\n",
       "      <th>1</th>\n",
       "      <td>County of residence</td>\n",
       "      <td>County</td>\n",
       "      <td>Text</td>\n",
       "      <td>Adolescents’ county of residents</td>\n",
       "    </tr>\n",
       "    <tr>\n",
       "      <th>2</th>\n",
       "      <td>Strata</td>\n",
       "      <td>Strata</td>\n",
       "      <td>Text</td>\n",
       "      <td>General demographic category under which adole...</td>\n",
       "    </tr>\n",
       "    <tr>\n",
       "      <th>3</th>\n",
       "      <td>Strata Name</td>\n",
       "      <td>Strata_name</td>\n",
       "      <td>Text</td>\n",
       "      <td>Individual strata within a demographic categor...</td>\n",
       "    </tr>\n",
       "    <tr>\n",
       "      <th>4</th>\n",
       "      <td>Adolescent population</td>\n",
       "      <td>Population</td>\n",
       "      <td>Numeric</td>\n",
       "      <td>Population of adolescent females aged 15-19. S...</td>\n",
       "    </tr>\n",
       "    <tr>\n",
       "      <th>5</th>\n",
       "      <td>Number of births</td>\n",
       "      <td>Births</td>\n",
       "      <td>Numeric</td>\n",
       "      <td>Total number of live births to adolescent fema...</td>\n",
       "    </tr>\n",
       "    <tr>\n",
       "      <th>6</th>\n",
       "      <td>Adolescent birth rate</td>\n",
       "      <td>ABR</td>\n",
       "      <td>Text</td>\n",
       "      <td>Calculated by dividing the total births to tot...</td>\n",
       "    </tr>\n",
       "    <tr>\n",
       "      <th>7</th>\n",
       "      <td>Lower 95% Confidence Interval (CI)</td>\n",
       "      <td>Lower</td>\n",
       "      <td>Numeric</td>\n",
       "      <td>Lower limit of 95% confidence interval.  The 9...</td>\n",
       "    </tr>\n",
       "    <tr>\n",
       "      <th>8</th>\n",
       "      <td>Upper 95% Confidence Interval (CI)</td>\n",
       "      <td>Upper</td>\n",
       "      <td>Numeric</td>\n",
       "      <td>Upper limit of 95% confidence interval.  The 9...</td>\n",
       "    </tr>\n",
       "  </tbody>\n",
       "</table>\n",
       "</div>"
      ],
      "text/plain": [
       "                          field_title   field_name data_type  \\\n",
       "0                                Year        Year       Text   \n",
       "1                 County of residence      County       Text   \n",
       "2                              Strata       Strata      Text   \n",
       "3                         Strata Name  Strata_name      Text   \n",
       "4               Adolescent population   Population   Numeric   \n",
       "5                    Number of births      Births    Numeric   \n",
       "6               Adolescent birth rate          ABR      Text   \n",
       "7  Lower 95% Confidence Interval (CI)        Lower   Numeric   \n",
       "8  Upper 95% Confidence Interval (CI)        Upper   Numeric   \n",
       "\n",
       "                                         description  \n",
       "0                          Year when births occurred  \n",
       "1                   Adolescents’ county of residents  \n",
       "2  General demographic category under which adole...  \n",
       "3  Individual strata within a demographic categor...  \n",
       "4  Population of adolescent females aged 15-19. S...  \n",
       "5  Total number of live births to adolescent fema...  \n",
       "6  Calculated by dividing the total births to tot...  \n",
       "7  Lower limit of 95% confidence interval.  The 9...  \n",
       "8  Upper limit of 95% confidence interval.  The 9...  "
      ]
     },
     "execution_count": 8,
     "metadata": {},
     "output_type": "execute_result"
    }
   ],
   "source": [
    "adolescent_birth_3"
   ]
  },
  {
   "cell_type": "code",
   "execution_count": 9,
   "id": "d118b612-572a-4879-b066-6a6018c74fe8",
   "metadata": {
    "tags": []
   },
   "outputs": [],
   "source": [
    "adolescent_birth_4 = pd.read_csv('../../../../../Downloads/chhs-165e1016-991f-487c-bdd0-84dd1c0a6fe8/data/data_dictionary_adolescent_births.csv')"
   ]
  },
  {
   "cell_type": "code",
   "execution_count": 10,
   "id": "60207d84-dfe0-4522-abc2-296f60b4f6fa",
   "metadata": {
    "tags": []
   },
   "outputs": [
    {
     "data": {
      "text/plain": [
       "((522, 9), (522, 9))"
      ]
     },
     "execution_count": 10,
     "metadata": {},
     "output_type": "execute_result"
    }
   ],
   "source": [
    "#looks like df 1 and 2 are the same and 3 and 4 are the same\n",
    "adolescent_birth_1.shape, adolescent_birth_2.shape"
   ]
  },
  {
   "cell_type": "code",
   "execution_count": 11,
   "id": "52506c69-2718-4546-8474-5047f0a66335",
   "metadata": {
    "tags": []
   },
   "outputs": [
    {
     "data": {
      "text/plain": [
       "((9, 4), (9, 4))"
      ]
     },
     "execution_count": 11,
     "metadata": {},
     "output_type": "execute_result"
    }
   ],
   "source": [
    "adolescent_birth_3.shape, adolescent_birth_4.shape"
   ]
  },
  {
   "cell_type": "code",
   "execution_count": 12,
   "id": "452c3c85-d801-40bb-85c1-18eed29fb037",
   "metadata": {
    "tags": []
   },
   "outputs": [
    {
     "data": {
      "text/html": [
       "<div>\n",
       "<style scoped>\n",
       "    .dataframe tbody tr th:only-of-type {\n",
       "        vertical-align: middle;\n",
       "    }\n",
       "\n",
       "    .dataframe tbody tr th {\n",
       "        vertical-align: top;\n",
       "    }\n",
       "\n",
       "    .dataframe thead th {\n",
       "        text-align: right;\n",
       "    }\n",
       "</style>\n",
       "<table border=\"1\" class=\"dataframe\">\n",
       "  <thead>\n",
       "    <tr style=\"text-align: right;\">\n",
       "      <th></th>\n",
       "      <th>year</th>\n",
       "      <th>county</th>\n",
       "      <th>strata</th>\n",
       "      <th>strata_name</th>\n",
       "      <th>population</th>\n",
       "      <th>births</th>\n",
       "      <th>abr</th>\n",
       "      <th>lower</th>\n",
       "      <th>upper</th>\n",
       "    </tr>\n",
       "  </thead>\n",
       "  <tbody>\n",
       "    <tr>\n",
       "      <th>0</th>\n",
       "      <td>2014-2016</td>\n",
       "      <td>Alameda</td>\n",
       "      <td>Age 15-19</td>\n",
       "      <td>All</td>\n",
       "      <td>154934</td>\n",
       "      <td>1508</td>\n",
       "      <td>9.7</td>\n",
       "      <td>9.2</td>\n",
       "      <td>10.2</td>\n",
       "    </tr>\n",
       "    <tr>\n",
       "      <th>1</th>\n",
       "      <td>2014-2016</td>\n",
       "      <td>Alameda</td>\n",
       "      <td>Age 15-17</td>\n",
       "      <td>All</td>\n",
       "      <td>86666</td>\n",
       "      <td>367</td>\n",
       "      <td>4.2</td>\n",
       "      <td>3.8</td>\n",
       "      <td>4.6</td>\n",
       "    </tr>\n",
       "    <tr>\n",
       "      <th>2</th>\n",
       "      <td>2014-2016</td>\n",
       "      <td>Alameda</td>\n",
       "      <td>Age 18-19</td>\n",
       "      <td>All</td>\n",
       "      <td>68268</td>\n",
       "      <td>1141</td>\n",
       "      <td>16.7</td>\n",
       "      <td>15.7</td>\n",
       "      <td>17.7</td>\n",
       "    </tr>\n",
       "    <tr>\n",
       "      <th>3</th>\n",
       "      <td>2014-2016</td>\n",
       "      <td>Alameda</td>\n",
       "      <td>Age 15-19</td>\n",
       "      <td>Hispanic</td>\n",
       "      <td>46722</td>\n",
       "      <td>890</td>\n",
       "      <td>19</td>\n",
       "      <td>17.8</td>\n",
       "      <td>20.2</td>\n",
       "    </tr>\n",
       "    <tr>\n",
       "      <th>4</th>\n",
       "      <td>2014-2016</td>\n",
       "      <td>Alameda</td>\n",
       "      <td>Age 15-19</td>\n",
       "      <td>AsianPI</td>\n",
       "      <td>41518</td>\n",
       "      <td>82</td>\n",
       "      <td>2</td>\n",
       "      <td>1.6</td>\n",
       "      <td>2.5</td>\n",
       "    </tr>\n",
       "    <tr>\n",
       "      <th>5</th>\n",
       "      <td>2014-2016</td>\n",
       "      <td>Alameda</td>\n",
       "      <td>Age 15-19</td>\n",
       "      <td>White</td>\n",
       "      <td>37507</td>\n",
       "      <td>114</td>\n",
       "      <td>3</td>\n",
       "      <td>2.4</td>\n",
       "      <td>3.6</td>\n",
       "    </tr>\n",
       "    <tr>\n",
       "      <th>6</th>\n",
       "      <td>2014-2016</td>\n",
       "      <td>Alameda</td>\n",
       "      <td>Age 15-19</td>\n",
       "      <td>Black</td>\n",
       "      <td>18921</td>\n",
       "      <td>284</td>\n",
       "      <td>15</td>\n",
       "      <td>13.3</td>\n",
       "      <td>16.7</td>\n",
       "    </tr>\n",
       "    <tr>\n",
       "      <th>7</th>\n",
       "      <td>2014-2016</td>\n",
       "      <td>Alameda</td>\n",
       "      <td>Age 15-19</td>\n",
       "      <td>MultRace</td>\n",
       "      <td>9877</td>\n",
       "      <td>67</td>\n",
       "      <td>6.8</td>\n",
       "      <td>5.3</td>\n",
       "      <td>8.6</td>\n",
       "    </tr>\n",
       "    <tr>\n",
       "      <th>8</th>\n",
       "      <td>2014-2016</td>\n",
       "      <td>Alameda</td>\n",
       "      <td>Age 15-19</td>\n",
       "      <td>AIAN</td>\n",
       "      <td>389</td>\n",
       "      <td>S</td>\n",
       "      <td>S</td>\n",
       "      <td>S</td>\n",
       "      <td>S</td>\n",
       "    </tr>\n",
       "  </tbody>\n",
       "</table>\n",
       "</div>"
      ],
      "text/plain": [
       "        year   county     strata strata_name  population births   abr lower  \\\n",
       "0  2014-2016  Alameda  Age 15-19         All      154934   1508   9.7   9.2   \n",
       "1  2014-2016  Alameda  Age 15-17         All       86666    367   4.2   3.8   \n",
       "2  2014-2016  Alameda  Age 18-19         All       68268   1141  16.7  15.7   \n",
       "3  2014-2016  Alameda  Age 15-19    Hispanic       46722    890    19  17.8   \n",
       "4  2014-2016  Alameda  Age 15-19     AsianPI       41518     82     2   1.6   \n",
       "5  2014-2016  Alameda  Age 15-19       White       37507    114     3   2.4   \n",
       "6  2014-2016  Alameda  Age 15-19       Black       18921    284    15  13.3   \n",
       "7  2014-2016  Alameda  Age 15-19    MultRace        9877     67   6.8   5.3   \n",
       "8  2014-2016  Alameda  Age 15-19        AIAN         389      S     S     S   \n",
       "\n",
       "  upper  \n",
       "0  10.2  \n",
       "1   4.6  \n",
       "2  17.7  \n",
       "3  20.2  \n",
       "4   2.5  \n",
       "5   3.6  \n",
       "6  16.7  \n",
       "7   8.6  \n",
       "8     S  "
      ]
     },
     "execution_count": 12,
     "metadata": {},
     "output_type": "execute_result"
    }
   ],
   "source": [
    "#checking the difference between strata_name 'all'\n",
    "adolescent_birth_1.loc[adolescent_birth_1['county'] == 'Alameda']"
   ]
  },
  {
   "cell_type": "code",
   "execution_count": 13,
   "id": "cfffc103-7595-4c4b-bc03-9310f64687d5",
   "metadata": {
    "tags": []
   },
   "outputs": [
    {
     "data": {
      "text/plain": [
       "year           0\n",
       "county         0\n",
       "strata         0\n",
       "strata_name    0\n",
       "population     0\n",
       "births         0\n",
       "abr            0\n",
       "lower          0\n",
       "upper          0\n",
       "dtype: int64"
      ]
     },
     "execution_count": 13,
     "metadata": {},
     "output_type": "execute_result"
    }
   ],
   "source": [
    "adolescent_birth_1.isnull().sum()"
   ]
  },
  {
   "cell_type": "code",
   "execution_count": 14,
   "id": "261a87ac-078d-484a-9c78-452547ea7413",
   "metadata": {
    "tags": []
   },
   "outputs": [
    {
     "data": {
      "text/plain": [
       "year           object\n",
       "county         object\n",
       "strata         object\n",
       "strata_name    object\n",
       "population      int64\n",
       "births         object\n",
       "abr            object\n",
       "lower          object\n",
       "upper          object\n",
       "dtype: object"
      ]
     },
     "execution_count": 14,
     "metadata": {},
     "output_type": "execute_result"
    }
   ],
   "source": [
    "adolescent_birth_1.dtypes"
   ]
  },
  {
   "cell_type": "code",
   "execution_count": 15,
   "id": "9a2404f5-4ea0-4b4d-aa59-4366f33222c8",
   "metadata": {
    "tags": []
   },
   "outputs": [
    {
     "data": {
      "text/plain": [
       "year\n",
       "2014-2016    522\n",
       "Name: count, dtype: int64"
      ]
     },
     "execution_count": 15,
     "metadata": {},
     "output_type": "execute_result"
    }
   ],
   "source": [
    "adolescent_birth_1['year'].value_counts()"
   ]
  },
  {
   "cell_type": "code",
   "execution_count": 16,
   "id": "25e0babb-6eaf-4f06-b9fc-e8476b3c89b4",
   "metadata": {},
   "outputs": [],
   "source": [
    "#dropping the year column as we will have it in the description and they are all under the same year"
   ]
  },
  {
   "cell_type": "code",
   "execution_count": 17,
   "id": "ab36a38f-7457-40f1-87f5-4669f91fedc5",
   "metadata": {
    "tags": []
   },
   "outputs": [],
   "source": [
    "adolescent_birth_1.drop(columns = 'year', inplace = True)"
   ]
  },
  {
   "cell_type": "code",
   "execution_count": 18,
   "id": "3f9d8f0e-5759-4e54-af55-56bdcbbc8c2b",
   "metadata": {
    "scrolled": true,
    "tags": []
   },
   "outputs": [
    {
     "data": {
      "text/plain": [
       "county\n",
       "Alameda            9\n",
       "Santa Cruz         9\n",
       "Plumas             9\n",
       "Riverside          9\n",
       "Sacramento         9\n",
       "San Benito         9\n",
       "San Bernardino     9\n",
       "San Diego          9\n",
       "San Francisco      9\n",
       "San Joaquin        9\n",
       "San Luis Obispo    9\n",
       "San Mateo          9\n",
       "Santa Barbara      9\n",
       "Santa Clara        9\n",
       "Shasta             9\n",
       "Alpine             9\n",
       "Sierra             9\n",
       "Siskiyou           9\n",
       "Solano             9\n",
       "Sonoma             9\n",
       "Stanislaus         9\n",
       "Sutter             9\n",
       "Tehama             9\n",
       "Trinity            9\n",
       "Tulare             9\n",
       "Tuolumne           9\n",
       "Ventura            9\n",
       "Yolo               9\n",
       "Placer             9\n",
       "Orange             9\n",
       "Nevada             9\n",
       "Napa               9\n",
       "Amador             9\n",
       "Butte              9\n",
       "Calaveras          9\n",
       "Colusa             9\n",
       "Contra Costa       9\n",
       "Del Norte          9\n",
       "El Dorado          9\n",
       "Fresno             9\n",
       "Glenn              9\n",
       "Humboldt           9\n",
       "Imperial           9\n",
       "Inyo               9\n",
       "Kern               9\n",
       "Kings              9\n",
       "Lake               9\n",
       "Lassen             9\n",
       "Los Angeles        9\n",
       "Madera             9\n",
       "Marin              9\n",
       "Mariposa           9\n",
       "Mendocino          9\n",
       "Merced             9\n",
       "Modoc              9\n",
       "Mono               9\n",
       "Monterey           9\n",
       "Yuba               9\n",
       "Name: count, dtype: int64"
      ]
     },
     "execution_count": 18,
     "metadata": {},
     "output_type": "execute_result"
    }
   ],
   "source": [
    "adolescent_birth_1['county'].value_counts()"
   ]
  },
  {
   "cell_type": "code",
   "execution_count": 19,
   "id": "71bcf3f8-33a1-456d-bf30-ffa957f5cd4e",
   "metadata": {
    "tags": []
   },
   "outputs": [
    {
     "data": {
      "text/plain": [
       "58"
      ]
     },
     "execution_count": 19,
     "metadata": {},
     "output_type": "execute_result"
    }
   ],
   "source": [
    "adolescent_birth_1['county'].nunique()\n",
    "#looks good"
   ]
  },
  {
   "cell_type": "code",
   "execution_count": 20,
   "id": "90c9b41c-d5af-41f5-9feb-8bdc2dbe343f",
   "metadata": {
    "tags": []
   },
   "outputs": [
    {
     "data": {
      "text/plain": [
       "strata\n",
       "Age 15-19    406\n",
       "Age 15-17     58\n",
       "Age 18-19     58\n",
       "Name: count, dtype: int64"
      ]
     },
     "execution_count": 20,
     "metadata": {},
     "output_type": "execute_result"
    }
   ],
   "source": [
    "adolescent_birth_1['strata'].value_counts()\n",
    "#makes sense if each of the 58 counties have 7 age 15-19 rows and then 1 age 15-17 and age 18-19"
   ]
  },
  {
   "cell_type": "code",
   "execution_count": 21,
   "id": "3cf6ff8b-c864-4edb-b603-647227b313d1",
   "metadata": {
    "tags": []
   },
   "outputs": [
    {
     "data": {
      "text/plain": [
       "strata_name\n",
       "All         174\n",
       "Hispanic     58\n",
       "AsianPI      58\n",
       "White        58\n",
       "Black        58\n",
       "MultRace     58\n",
       "AIAN         58\n",
       "Name: count, dtype: int64"
      ]
     },
     "execution_count": 21,
     "metadata": {},
     "output_type": "execute_result"
    }
   ],
   "source": [
    "adolescent_birth_1['strata_name'].value_counts()\n",
    "#58 * 3 for all"
   ]
  },
  {
   "cell_type": "code",
   "execution_count": 22,
   "id": "c7d942d6-116e-4790-b268-0d84f51fb566",
   "metadata": {
    "tags": []
   },
   "outputs": [
    {
     "data": {
      "text/plain": [
       "7"
      ]
     },
     "execution_count": 22,
     "metadata": {},
     "output_type": "execute_result"
    }
   ],
   "source": [
    "adolescent_birth_1['strata_name'].nunique()"
   ]
  },
  {
   "cell_type": "code",
   "execution_count": 23,
   "id": "85a520fc-a479-471a-a929-713dcbd60a1e",
   "metadata": {
    "tags": []
   },
   "outputs": [
    {
     "data": {
      "text/plain": [
       "count    5.220000e+02\n",
       "mean     2.367746e+04\n",
       "std      7.481184e+04\n",
       "min      0.000000e+00\n",
       "25%      3.590000e+02\n",
       "50%      2.584000e+03\n",
       "75%      1.721900e+04\n",
       "max      1.075590e+06\n",
       "Name: population, dtype: float64"
      ]
     },
     "execution_count": 23,
     "metadata": {},
     "output_type": "execute_result"
    }
   ],
   "source": [
    "adolescent_birth_1['population'].describe()\n",
    "#looks good"
   ]
  },
  {
   "cell_type": "code",
   "execution_count": 24,
   "id": "d5e789fb-977c-43be-847a-f5bcccf1ec43",
   "metadata": {
    "tags": []
   },
   "outputs": [
    {
     "data": {
      "text/plain": [
       "births\n",
       "S       256\n",
       "0        55\n",
       "23        3\n",
       "210       2\n",
       "48        2\n",
       "       ... \n",
       "912       1\n",
       "179       1\n",
       "150       1\n",
       "4166      1\n",
       "234       1\n",
       "Name: count, Length: 193, dtype: int64"
      ]
     },
     "execution_count": 24,
     "metadata": {},
     "output_type": "execute_result"
    }
   ],
   "source": [
    "adolescent_birth_1['births'].value_counts()\n",
    "#changing all S to 0 for now as it equals too small of a sample"
   ]
  },
  {
   "cell_type": "code",
   "execution_count": 25,
   "id": "88ccfb1f-d8ad-4132-999e-8f526642fb1c",
   "metadata": {
    "tags": []
   },
   "outputs": [],
   "source": [
    "adolescent_birth_1['births'] = adolescent_birth_1['births'].map(lambda x: int(0) if x == 'S' else int(x))"
   ]
  },
  {
   "cell_type": "code",
   "execution_count": 26,
   "id": "b062e5a2-6af1-494b-b347-dbfe79c6213e",
   "metadata": {
    "tags": []
   },
   "outputs": [
    {
     "data": {
      "text/plain": [
       "births\n",
       "0       311\n",
       "23        3\n",
       "210       2\n",
       "48        2\n",
       "343       2\n",
       "       ... \n",
       "912       1\n",
       "179       1\n",
       "150       1\n",
       "4166      1\n",
       "234       1\n",
       "Name: count, Length: 192, dtype: int64"
      ]
     },
     "execution_count": 26,
     "metadata": {},
     "output_type": "execute_result"
    }
   ],
   "source": [
    "adolescent_birth_1['births'].value_counts()"
   ]
  },
  {
   "cell_type": "code",
   "execution_count": 27,
   "id": "6f2f6188-8c75-431d-85c2-8e4c60f174f0",
   "metadata": {
    "tags": []
   },
   "outputs": [
    {
     "data": {
      "text/plain": [
       "abr\n",
       "S       256\n",
       "0        55\n",
       "12.3      3\n",
       "44.8      3\n",
       "18.9      3\n",
       "       ... \n",
       "6.2       1\n",
       "23.3      1\n",
       "23        1\n",
       "12.5      1\n",
       "28.8      1\n",
       "Name: count, Length: 159, dtype: int64"
      ]
     },
     "execution_count": 27,
     "metadata": {},
     "output_type": "execute_result"
    }
   ],
   "source": [
    "adolescent_birth_1['abr'].value_counts()\n",
    "#changing all S to 0 for now as it equals too small of a sample"
   ]
  },
  {
   "cell_type": "code",
   "execution_count": 28,
   "id": "80314660-44f0-4f14-b9a4-6ea99f51e9c4",
   "metadata": {
    "tags": []
   },
   "outputs": [],
   "source": [
    "adolescent_birth_1['abr'] = adolescent_birth_1['abr'].map(lambda x: float(0) if x == 'S' else float(x))"
   ]
  },
  {
   "cell_type": "code",
   "execution_count": 29,
   "id": "ced93b00-ce44-43da-a60f-ad8038980249",
   "metadata": {
    "tags": []
   },
   "outputs": [
    {
     "data": {
      "text/plain": [
       "abr\n",
       "0.0     311\n",
       "12.3      3\n",
       "44.8      3\n",
       "3.1       3\n",
       "3.0       3\n",
       "       ... \n",
       "60.2      1\n",
       "35.7      1\n",
       "8.6       1\n",
       "24.3      1\n",
       "28.8      1\n",
       "Name: count, Length: 158, dtype: int64"
      ]
     },
     "execution_count": 29,
     "metadata": {},
     "output_type": "execute_result"
    }
   ],
   "source": [
    "adolescent_birth_1['abr'].value_counts()"
   ]
  },
  {
   "cell_type": "code",
   "execution_count": 30,
   "id": "4f75159c-dc83-4ca7-859e-77ae26947c96",
   "metadata": {
    "tags": []
   },
   "outputs": [
    {
     "data": {
      "text/plain": [
       "lower\n",
       "S       256\n",
       "0        55\n",
       "2.4       4\n",
       "18        3\n",
       "19.3      3\n",
       "       ... \n",
       "6.3       1\n",
       "54.5      1\n",
       "16.2      1\n",
       "40.9      1\n",
       "25.1      1\n",
       "Name: count, Length: 168, dtype: int64"
      ]
     },
     "execution_count": 30,
     "metadata": {},
     "output_type": "execute_result"
    }
   ],
   "source": [
    "adolescent_birth_1['lower'].value_counts()"
   ]
  },
  {
   "cell_type": "code",
   "execution_count": 31,
   "id": "ccb1064f-fbf4-41d1-bf23-11736224f793",
   "metadata": {
    "tags": []
   },
   "outputs": [],
   "source": [
    "adolescent_birth_1['lower'] = adolescent_birth_1['lower'].map(lambda x: float(0) if x == 'S' else float(x))"
   ]
  },
  {
   "cell_type": "code",
   "execution_count": 32,
   "id": "60c94132-36b5-4758-84d4-17dd0b369afa",
   "metadata": {
    "tags": []
   },
   "outputs": [
    {
     "data": {
      "text/plain": [
       "lower\n",
       "0.0     311\n",
       "2.4       4\n",
       "18.0      3\n",
       "19.3      3\n",
       "3.3       3\n",
       "       ... \n",
       "6.3       1\n",
       "54.5      1\n",
       "16.2      1\n",
       "40.9      1\n",
       "25.1      1\n",
       "Name: count, Length: 167, dtype: int64"
      ]
     },
     "execution_count": 32,
     "metadata": {},
     "output_type": "execute_result"
    }
   ],
   "source": [
    "adolescent_birth_1['lower'].value_counts()"
   ]
  },
  {
   "cell_type": "code",
   "execution_count": 33,
   "id": "05daea1c-e83b-403d-8a24-85c0da510a8a",
   "metadata": {
    "tags": []
   },
   "outputs": [
    {
     "data": {
      "text/plain": [
       "upper\n",
       "S       256\n",
       "0        55\n",
       "20.2      5\n",
       "26.4      3\n",
       "3.6       3\n",
       "       ... \n",
       "65.9      1\n",
       "21.6      1\n",
       "48.7      1\n",
       "18.8      1\n",
       "13.6      1\n",
       "Name: count, Length: 168, dtype: int64"
      ]
     },
     "execution_count": 33,
     "metadata": {},
     "output_type": "execute_result"
    }
   ],
   "source": [
    "adolescent_birth_1['upper'].value_counts()"
   ]
  },
  {
   "cell_type": "code",
   "execution_count": 34,
   "id": "48db4d71-93a7-41d1-8efd-718d5331e091",
   "metadata": {
    "tags": []
   },
   "outputs": [],
   "source": [
    "adolescent_birth_1['upper'] = adolescent_birth_1['upper'].map(lambda x: float(0) if x == 'S' else float(x))"
   ]
  },
  {
   "cell_type": "code",
   "execution_count": 35,
   "id": "bab4b6fe-964d-45b2-b931-ce5618a87f0b",
   "metadata": {
    "tags": []
   },
   "outputs": [
    {
     "data": {
      "text/plain": [
       "upper\n",
       "0.0     311\n",
       "20.2      5\n",
       "24.8      3\n",
       "11.1      3\n",
       "26.4      3\n",
       "       ... \n",
       "65.9      1\n",
       "21.6      1\n",
       "48.7      1\n",
       "18.8      1\n",
       "13.6      1\n",
       "Name: count, Length: 167, dtype: int64"
      ]
     },
     "execution_count": 35,
     "metadata": {},
     "output_type": "execute_result"
    }
   ],
   "source": [
    "adolescent_birth_1['upper'].value_counts()"
   ]
  },
  {
   "cell_type": "code",
   "execution_count": 82,
   "id": "96973828-9bfd-4b41-a486-dac157e60419",
   "metadata": {
    "tags": []
   },
   "outputs": [],
   "source": [
    "# team decision to drop the county alpine\n",
    "adolescent_birth_1.drop(adolescent_birth_1.loc[adolescent_birth_1['county'] == 'Alpine'].index, inplace=True)"
   ]
  },
  {
   "cell_type": "code",
   "execution_count": 83,
   "id": "da3acb8d-d33a-4058-a330-b534d678c0e9",
   "metadata": {
    "tags": []
   },
   "outputs": [],
   "source": [
    "adolescent_df = adolescent_birth_1\n",
    "adolescent_dd = adolescent_birth_3"
   ]
  },
  {
   "cell_type": "code",
   "execution_count": 84,
   "id": "3fe09380-8822-40e0-815a-57f7ebf76b0a",
   "metadata": {
    "tags": []
   },
   "outputs": [],
   "source": [
    "adolescent_df.to_csv('./dfs/adolescent_birth.csv')\n",
    "adolescent_dd.to_csv('./data_dictionaries/adolescent_birth.csv')"
   ]
  },
  {
   "cell_type": "markdown",
   "id": "a0355015-c51b-4b7a-ad82-18d656761ddc",
   "metadata": {},
   "source": [
    "# read in asthma df"
   ]
  },
  {
   "cell_type": "code",
   "execution_count": 38,
   "id": "d02bf831-dd3a-40e8-be39-e25c33b1ece8",
   "metadata": {
    "tags": []
   },
   "outputs": [],
   "source": [
    "asthma_1 = pd.read_csv('../../../../../Downloads/chhs-5ea28f96-7bb6-4c18-9c0d-020484fab181/data/asthma_deaths_by_county.csv')"
   ]
  },
  {
   "cell_type": "code",
   "execution_count": 39,
   "id": "a463e378-7ef8-4ff0-8cc8-30f6a2461e7a",
   "metadata": {
    "tags": []
   },
   "outputs": [],
   "source": [
    "asthma_2 = pd.read_csv('../../../../../Downloads/chhs-5ea28f96-7bb6-4c18-9c0d-020484fab181/data/asthma_deaths_by_county_1.csv')"
   ]
  },
  {
   "cell_type": "code",
   "execution_count": 40,
   "id": "d57ad33c-c629-4bd9-9728-d9327324a8aa",
   "metadata": {
    "tags": []
   },
   "outputs": [],
   "source": [
    "asthma_3 = pd.read_csv('../../../../../Downloads/chhs-5ea28f96-7bb6-4c18-9c0d-020484fab181/data/asthma_deaths_by_county_data_di.csv')"
   ]
  },
  {
   "cell_type": "code",
   "execution_count": 41,
   "id": "9544880b-a1a5-44af-8142-1dd4539fe8fa",
   "metadata": {
    "tags": []
   },
   "outputs": [
    {
     "data": {
      "text/html": [
       "<div>\n",
       "<style scoped>\n",
       "    .dataframe tbody tr th:only-of-type {\n",
       "        vertical-align: middle;\n",
       "    }\n",
       "\n",
       "    .dataframe tbody tr th {\n",
       "        vertical-align: top;\n",
       "    }\n",
       "\n",
       "    .dataframe thead th {\n",
       "        text-align: right;\n",
       "    }\n",
       "</style>\n",
       "<table border=\"1\" class=\"dataframe\">\n",
       "  <thead>\n",
       "    <tr style=\"text-align: right;\">\n",
       "      <th></th>\n",
       "      <th>county</th>\n",
       "      <th>years</th>\n",
       "      <th>strata</th>\n",
       "      <th>age_group</th>\n",
       "      <th>number_of_deaths</th>\n",
       "      <th>age_adjusted_mortality_rate</th>\n",
       "      <th>comment</th>\n",
       "    </tr>\n",
       "  </thead>\n",
       "  <tbody>\n",
       "    <tr>\n",
       "      <th>0</th>\n",
       "      <td>California</td>\n",
       "      <td>2014–2016</td>\n",
       "      <td>Total population</td>\n",
       "      <td>All ages</td>\n",
       "      <td>1181.0</td>\n",
       "      <td>9.6</td>\n",
       "      <td>NaN</td>\n",
       "    </tr>\n",
       "    <tr>\n",
       "      <th>1</th>\n",
       "      <td>Alameda</td>\n",
       "      <td>2014–2016</td>\n",
       "      <td>Total population</td>\n",
       "      <td>All ages</td>\n",
       "      <td>58.0</td>\n",
       "      <td>11.2</td>\n",
       "      <td>NaN</td>\n",
       "    </tr>\n",
       "    <tr>\n",
       "      <th>2</th>\n",
       "      <td>Alpine</td>\n",
       "      <td>2014–2016</td>\n",
       "      <td>Total population</td>\n",
       "      <td>All ages</td>\n",
       "      <td>0.0</td>\n",
       "      <td>0.0</td>\n",
       "      <td>NaN</td>\n",
       "    </tr>\n",
       "    <tr>\n",
       "      <th>3</th>\n",
       "      <td>Amador</td>\n",
       "      <td>2014–2016</td>\n",
       "      <td>Total population</td>\n",
       "      <td>All ages</td>\n",
       "      <td>0.0</td>\n",
       "      <td>0.0</td>\n",
       "      <td>NaN</td>\n",
       "    </tr>\n",
       "    <tr>\n",
       "      <th>4</th>\n",
       "      <td>Butte</td>\n",
       "      <td>2014–2016</td>\n",
       "      <td>Total population</td>\n",
       "      <td>All ages</td>\n",
       "      <td>7.0</td>\n",
       "      <td>NaN</td>\n",
       "      <td>Rate not available due to statistical instability</td>\n",
       "    </tr>\n",
       "    <tr>\n",
       "      <th>...</th>\n",
       "      <td>...</td>\n",
       "      <td>...</td>\n",
       "      <td>...</td>\n",
       "      <td>...</td>\n",
       "      <td>...</td>\n",
       "      <td>...</td>\n",
       "      <td>...</td>\n",
       "    </tr>\n",
       "    <tr>\n",
       "      <th>349</th>\n",
       "      <td>Tulare</td>\n",
       "      <td>2017–2019</td>\n",
       "      <td>Child vs. adult</td>\n",
       "      <td>18+ years</td>\n",
       "      <td>16.0</td>\n",
       "      <td>15.5</td>\n",
       "      <td>NaN</td>\n",
       "    </tr>\n",
       "    <tr>\n",
       "      <th>350</th>\n",
       "      <td>Tuolumne</td>\n",
       "      <td>2017–2019</td>\n",
       "      <td>Child vs. adult</td>\n",
       "      <td>18+ years</td>\n",
       "      <td>NaN</td>\n",
       "      <td>NaN</td>\n",
       "      <td>Count and rate suppressed in accordance with d...</td>\n",
       "    </tr>\n",
       "    <tr>\n",
       "      <th>351</th>\n",
       "      <td>Ventura</td>\n",
       "      <td>2017–2019</td>\n",
       "      <td>Child vs. adult</td>\n",
       "      <td>18+ years</td>\n",
       "      <td>17.0</td>\n",
       "      <td>7.7</td>\n",
       "      <td>NaN</td>\n",
       "    </tr>\n",
       "    <tr>\n",
       "      <th>352</th>\n",
       "      <td>Yolo</td>\n",
       "      <td>2017–2019</td>\n",
       "      <td>Child vs. adult</td>\n",
       "      <td>18+ years</td>\n",
       "      <td>NaN</td>\n",
       "      <td>NaN</td>\n",
       "      <td>Count and rate suppressed in accordance with d...</td>\n",
       "    </tr>\n",
       "    <tr>\n",
       "      <th>353</th>\n",
       "      <td>Yuba</td>\n",
       "      <td>2017–2019</td>\n",
       "      <td>Child vs. adult</td>\n",
       "      <td>18+ years</td>\n",
       "      <td>NaN</td>\n",
       "      <td>NaN</td>\n",
       "      <td>Count and rate suppressed in accordance with d...</td>\n",
       "    </tr>\n",
       "  </tbody>\n",
       "</table>\n",
       "<p>354 rows × 7 columns</p>\n",
       "</div>"
      ],
      "text/plain": [
       "         county      years            strata  age_group  number_of_deaths  \\\n",
       "0    California  2014–2016  Total population   All ages            1181.0   \n",
       "1       Alameda  2014–2016  Total population   All ages              58.0   \n",
       "2        Alpine  2014–2016  Total population   All ages               0.0   \n",
       "3        Amador  2014–2016  Total population   All ages               0.0   \n",
       "4         Butte  2014–2016  Total population   All ages               7.0   \n",
       "..          ...        ...               ...        ...               ...   \n",
       "349      Tulare  2017–2019   Child vs. adult  18+ years              16.0   \n",
       "350    Tuolumne  2017–2019   Child vs. adult  18+ years               NaN   \n",
       "351     Ventura  2017–2019   Child vs. adult  18+ years              17.0   \n",
       "352        Yolo  2017–2019   Child vs. adult  18+ years               NaN   \n",
       "353        Yuba  2017–2019   Child vs. adult  18+ years               NaN   \n",
       "\n",
       "     age_adjusted_mortality_rate  \\\n",
       "0                            9.6   \n",
       "1                           11.2   \n",
       "2                            0.0   \n",
       "3                            0.0   \n",
       "4                            NaN   \n",
       "..                           ...   \n",
       "349                         15.5   \n",
       "350                          NaN   \n",
       "351                          7.7   \n",
       "352                          NaN   \n",
       "353                          NaN   \n",
       "\n",
       "                                               comment  \n",
       "0                                                  NaN  \n",
       "1                                                  NaN  \n",
       "2                                                  NaN  \n",
       "3                                                  NaN  \n",
       "4    Rate not available due to statistical instability  \n",
       "..                                                 ...  \n",
       "349                                                NaN  \n",
       "350  Count and rate suppressed in accordance with d...  \n",
       "351                                                NaN  \n",
       "352  Count and rate suppressed in accordance with d...  \n",
       "353  Count and rate suppressed in accordance with d...  \n",
       "\n",
       "[354 rows x 7 columns]"
      ]
     },
     "execution_count": 41,
     "metadata": {},
     "output_type": "execute_result"
    }
   ],
   "source": [
    "asthma_1"
   ]
  },
  {
   "cell_type": "code",
   "execution_count": 42,
   "id": "482db274-e4ce-41c0-aa12-99e95522f23a",
   "metadata": {
    "tags": []
   },
   "outputs": [
    {
     "data": {
      "text/html": [
       "<div>\n",
       "<style scoped>\n",
       "    .dataframe tbody tr th:only-of-type {\n",
       "        vertical-align: middle;\n",
       "    }\n",
       "\n",
       "    .dataframe tbody tr th {\n",
       "        vertical-align: top;\n",
       "    }\n",
       "\n",
       "    .dataframe thead th {\n",
       "        text-align: right;\n",
       "    }\n",
       "</style>\n",
       "<table border=\"1\" class=\"dataframe\">\n",
       "  <thead>\n",
       "    <tr style=\"text-align: right;\">\n",
       "      <th></th>\n",
       "      <th>county</th>\n",
       "      <th>years</th>\n",
       "      <th>strata</th>\n",
       "      <th>age_group</th>\n",
       "      <th>number_of_deaths</th>\n",
       "      <th>age_adjusted_mortality_rate</th>\n",
       "      <th>comment</th>\n",
       "    </tr>\n",
       "  </thead>\n",
       "  <tbody>\n",
       "    <tr>\n",
       "      <th>0</th>\n",
       "      <td>California</td>\n",
       "      <td>2014–2016</td>\n",
       "      <td>Total population</td>\n",
       "      <td>All ages</td>\n",
       "      <td>1181.0</td>\n",
       "      <td>9.6</td>\n",
       "      <td>NaN</td>\n",
       "    </tr>\n",
       "    <tr>\n",
       "      <th>1</th>\n",
       "      <td>Alameda</td>\n",
       "      <td>2014–2016</td>\n",
       "      <td>Total population</td>\n",
       "      <td>All ages</td>\n",
       "      <td>58.0</td>\n",
       "      <td>11.2</td>\n",
       "      <td>NaN</td>\n",
       "    </tr>\n",
       "    <tr>\n",
       "      <th>2</th>\n",
       "      <td>Alpine</td>\n",
       "      <td>2014–2016</td>\n",
       "      <td>Total population</td>\n",
       "      <td>All ages</td>\n",
       "      <td>0.0</td>\n",
       "      <td>0.0</td>\n",
       "      <td>NaN</td>\n",
       "    </tr>\n",
       "    <tr>\n",
       "      <th>3</th>\n",
       "      <td>Amador</td>\n",
       "      <td>2014–2016</td>\n",
       "      <td>Total population</td>\n",
       "      <td>All ages</td>\n",
       "      <td>0.0</td>\n",
       "      <td>0.0</td>\n",
       "      <td>NaN</td>\n",
       "    </tr>\n",
       "    <tr>\n",
       "      <th>4</th>\n",
       "      <td>Butte</td>\n",
       "      <td>2014–2016</td>\n",
       "      <td>Total population</td>\n",
       "      <td>All ages</td>\n",
       "      <td>7.0</td>\n",
       "      <td>NaN</td>\n",
       "      <td>Rate not available due to statistical instability</td>\n",
       "    </tr>\n",
       "    <tr>\n",
       "      <th>...</th>\n",
       "      <td>...</td>\n",
       "      <td>...</td>\n",
       "      <td>...</td>\n",
       "      <td>...</td>\n",
       "      <td>...</td>\n",
       "      <td>...</td>\n",
       "      <td>...</td>\n",
       "    </tr>\n",
       "    <tr>\n",
       "      <th>349</th>\n",
       "      <td>Tulare</td>\n",
       "      <td>2017–2019</td>\n",
       "      <td>Child vs. adult</td>\n",
       "      <td>18+ years</td>\n",
       "      <td>16.0</td>\n",
       "      <td>15.5</td>\n",
       "      <td>NaN</td>\n",
       "    </tr>\n",
       "    <tr>\n",
       "      <th>350</th>\n",
       "      <td>Tuolumne</td>\n",
       "      <td>2017–2019</td>\n",
       "      <td>Child vs. adult</td>\n",
       "      <td>18+ years</td>\n",
       "      <td>NaN</td>\n",
       "      <td>NaN</td>\n",
       "      <td>Count and rate suppressed in accordance with d...</td>\n",
       "    </tr>\n",
       "    <tr>\n",
       "      <th>351</th>\n",
       "      <td>Ventura</td>\n",
       "      <td>2017–2019</td>\n",
       "      <td>Child vs. adult</td>\n",
       "      <td>18+ years</td>\n",
       "      <td>17.0</td>\n",
       "      <td>7.7</td>\n",
       "      <td>NaN</td>\n",
       "    </tr>\n",
       "    <tr>\n",
       "      <th>352</th>\n",
       "      <td>Yolo</td>\n",
       "      <td>2017–2019</td>\n",
       "      <td>Child vs. adult</td>\n",
       "      <td>18+ years</td>\n",
       "      <td>NaN</td>\n",
       "      <td>NaN</td>\n",
       "      <td>Count and rate suppressed in accordance with d...</td>\n",
       "    </tr>\n",
       "    <tr>\n",
       "      <th>353</th>\n",
       "      <td>Yuba</td>\n",
       "      <td>2017–2019</td>\n",
       "      <td>Child vs. adult</td>\n",
       "      <td>18+ years</td>\n",
       "      <td>NaN</td>\n",
       "      <td>NaN</td>\n",
       "      <td>Count and rate suppressed in accordance with d...</td>\n",
       "    </tr>\n",
       "  </tbody>\n",
       "</table>\n",
       "<p>354 rows × 7 columns</p>\n",
       "</div>"
      ],
      "text/plain": [
       "         county      years            strata  age_group  number_of_deaths  \\\n",
       "0    California  2014–2016  Total population   All ages            1181.0   \n",
       "1       Alameda  2014–2016  Total population   All ages              58.0   \n",
       "2        Alpine  2014–2016  Total population   All ages               0.0   \n",
       "3        Amador  2014–2016  Total population   All ages               0.0   \n",
       "4         Butte  2014–2016  Total population   All ages               7.0   \n",
       "..          ...        ...               ...        ...               ...   \n",
       "349      Tulare  2017–2019   Child vs. adult  18+ years              16.0   \n",
       "350    Tuolumne  2017–2019   Child vs. adult  18+ years               NaN   \n",
       "351     Ventura  2017–2019   Child vs. adult  18+ years              17.0   \n",
       "352        Yolo  2017–2019   Child vs. adult  18+ years               NaN   \n",
       "353        Yuba  2017–2019   Child vs. adult  18+ years               NaN   \n",
       "\n",
       "     age_adjusted_mortality_rate  \\\n",
       "0                            9.6   \n",
       "1                           11.2   \n",
       "2                            0.0   \n",
       "3                            0.0   \n",
       "4                            NaN   \n",
       "..                           ...   \n",
       "349                         15.5   \n",
       "350                          NaN   \n",
       "351                          7.7   \n",
       "352                          NaN   \n",
       "353                          NaN   \n",
       "\n",
       "                                               comment  \n",
       "0                                                  NaN  \n",
       "1                                                  NaN  \n",
       "2                                                  NaN  \n",
       "3                                                  NaN  \n",
       "4    Rate not available due to statistical instability  \n",
       "..                                                 ...  \n",
       "349                                                NaN  \n",
       "350  Count and rate suppressed in accordance with d...  \n",
       "351                                                NaN  \n",
       "352  Count and rate suppressed in accordance with d...  \n",
       "353  Count and rate suppressed in accordance with d...  \n",
       "\n",
       "[354 rows x 7 columns]"
      ]
     },
     "execution_count": 42,
     "metadata": {},
     "output_type": "execute_result"
    }
   ],
   "source": [
    "asthma_2\n",
    "#looks like asthma 1 and 2 dfs are the same"
   ]
  },
  {
   "cell_type": "code",
   "execution_count": 43,
   "id": "9ee7adfa-0b8e-4596-81c0-4a95eadb135a",
   "metadata": {
    "tags": []
   },
   "outputs": [
    {
     "data": {
      "text/html": [
       "<div>\n",
       "<style scoped>\n",
       "    .dataframe tbody tr th:only-of-type {\n",
       "        vertical-align: middle;\n",
       "    }\n",
       "\n",
       "    .dataframe tbody tr th {\n",
       "        vertical-align: top;\n",
       "    }\n",
       "\n",
       "    .dataframe thead th {\n",
       "        text-align: right;\n",
       "    }\n",
       "</style>\n",
       "<table border=\"1\" class=\"dataframe\">\n",
       "  <thead>\n",
       "    <tr style=\"text-align: right;\">\n",
       "      <th></th>\n",
       "      <th>field_title</th>\n",
       "      <th>field_name</th>\n",
       "      <th>data_type</th>\n",
       "      <th>description</th>\n",
       "    </tr>\n",
       "  </thead>\n",
       "  <tbody>\n",
       "    <tr>\n",
       "      <th>0</th>\n",
       "      <td>County</td>\n",
       "      <td>COUNTY</td>\n",
       "      <td>Plain text</td>\n",
       "      <td>County of residence</td>\n",
       "    </tr>\n",
       "    <tr>\n",
       "      <th>1</th>\n",
       "      <td>Years</td>\n",
       "      <td>YEARS</td>\n",
       "      <td>Plain text</td>\n",
       "      <td>3-year period during which data were collected</td>\n",
       "    </tr>\n",
       "    <tr>\n",
       "      <th>2</th>\n",
       "      <td>Strata</td>\n",
       "      <td>STRATA</td>\n",
       "      <td>Plain text</td>\n",
       "      <td>General demographic category under which respo...</td>\n",
       "    </tr>\n",
       "    <tr>\n",
       "      <th>3</th>\n",
       "      <td>Age group</td>\n",
       "      <td>AGE GROUP</td>\n",
       "      <td>Plain text</td>\n",
       "      <td>All ages, 0-17 years, 18+ years</td>\n",
       "    </tr>\n",
       "    <tr>\n",
       "      <th>4</th>\n",
       "      <td>Number of deaths</td>\n",
       "      <td>NUMBER OF DEATHS</td>\n",
       "      <td>Numeric</td>\n",
       "      <td>Number of deaths due to asthma (source: Vital ...</td>\n",
       "    </tr>\n",
       "    <tr>\n",
       "      <th>5</th>\n",
       "      <td>Age-adjusted mortality rate</td>\n",
       "      <td>AGE-ADJUSTED MORTALITY RATE</td>\n",
       "      <td>Numeric</td>\n",
       "      <td>Calculated by dividing the number of asthma de...</td>\n",
       "    </tr>\n",
       "    <tr>\n",
       "      <th>6</th>\n",
       "      <td>Comment</td>\n",
       "      <td>COMMENT</td>\n",
       "      <td>Plain text</td>\n",
       "      <td>Information on data suppression. Counts less t...</td>\n",
       "    </tr>\n",
       "  </tbody>\n",
       "</table>\n",
       "</div>"
      ],
      "text/plain": [
       "                   field_title                   field_name   data_type  \\\n",
       "0                     County                         COUNTY  Plain text   \n",
       "1                        Years                        YEARS  Plain text   \n",
       "2                       Strata                       STRATA  Plain text   \n",
       "3                    Age group                    AGE GROUP  Plain text   \n",
       "4             Number of deaths             NUMBER OF DEATHS     Numeric   \n",
       "5  Age-adjusted mortality rate  AGE-ADJUSTED MORTALITY RATE     Numeric   \n",
       "6                      Comment                      COMMENT  Plain text   \n",
       "\n",
       "                                         description  \n",
       "0                                County of residence  \n",
       "1     3-year period during which data were collected  \n",
       "2  General demographic category under which respo...  \n",
       "3                    All ages, 0-17 years, 18+ years  \n",
       "4  Number of deaths due to asthma (source: Vital ...  \n",
       "5  Calculated by dividing the number of asthma de...  \n",
       "6  Information on data suppression. Counts less t...  "
      ]
     },
     "execution_count": 43,
     "metadata": {},
     "output_type": "execute_result"
    }
   ],
   "source": [
    "asthma_3"
   ]
  },
  {
   "cell_type": "code",
   "execution_count": 44,
   "id": "85411ce0-846e-4af4-bc0b-3858e2551400",
   "metadata": {
    "scrolled": true,
    "tags": []
   },
   "outputs": [
    {
     "data": {
      "text/plain": [
       "county\n",
       "California         6\n",
       "Santa Cruz         6\n",
       "Plumas             6\n",
       "Riverside          6\n",
       "Sacramento         6\n",
       "San Benito         6\n",
       "San Bernardino     6\n",
       "San Diego          6\n",
       "San Francisco      6\n",
       "San Joaquin        6\n",
       "San Luis Obispo    6\n",
       "San Mateo          6\n",
       "Santa Barbara      6\n",
       "Santa Clara        6\n",
       "Shasta             6\n",
       "Orange             6\n",
       "Sierra             6\n",
       "Siskiyou           6\n",
       "Solano             6\n",
       "Sonoma             6\n",
       "Stanislaus         6\n",
       "Sutter             6\n",
       "Tehama             6\n",
       "Trinity            6\n",
       "Tulare             6\n",
       "Tuolumne           6\n",
       "Ventura            6\n",
       "Yolo               6\n",
       "Placer             6\n",
       "Nevada             6\n",
       "Alameda            6\n",
       "Inyo               6\n",
       "Alpine             6\n",
       "Amador             6\n",
       "Butte              6\n",
       "Calaveras          6\n",
       "Colusa             6\n",
       "Contra Costa       6\n",
       "Del Norte          6\n",
       "El Dorado          6\n",
       "Fresno             6\n",
       "Glenn              6\n",
       "Humboldt           6\n",
       "Imperial           6\n",
       "Kern               6\n",
       "Napa               6\n",
       "Kings              6\n",
       "Lake               6\n",
       "Lassen             6\n",
       "Los Angeles        6\n",
       "Madera             6\n",
       "Marin              6\n",
       "Mariposa           6\n",
       "Mendocino          6\n",
       "Merced             6\n",
       "Modoc              6\n",
       "Mono               6\n",
       "Monterey           6\n",
       "Yuba               6\n",
       "Name: count, dtype: int64"
      ]
     },
     "execution_count": 44,
     "metadata": {},
     "output_type": "execute_result"
    }
   ],
   "source": [
    "asthma_1['county'].value_counts() #check years column"
   ]
  },
  {
   "cell_type": "code",
   "execution_count": 45,
   "id": "415cd730-7558-41c1-9eca-5a500b1f0724",
   "metadata": {
    "tags": []
   },
   "outputs": [
    {
     "data": {
      "text/plain": [
       "years\n",
       "2014–2016    177\n",
       "2017–2019    177\n",
       "Name: count, dtype: int64"
      ]
     },
     "execution_count": 45,
     "metadata": {},
     "output_type": "execute_result"
    }
   ],
   "source": [
    "asthma_1['years'].value_counts() # two year groups. need to check out why there are 3 countie values"
   ]
  },
  {
   "cell_type": "code",
   "execution_count": 46,
   "id": "76acf13a-2c6d-4cd4-b589-07cd2a233ba2",
   "metadata": {
    "scrolled": true,
    "tags": []
   },
   "outputs": [
    {
     "data": {
      "text/html": [
       "<div>\n",
       "<style scoped>\n",
       "    .dataframe tbody tr th:only-of-type {\n",
       "        vertical-align: middle;\n",
       "    }\n",
       "\n",
       "    .dataframe tbody tr th {\n",
       "        vertical-align: top;\n",
       "    }\n",
       "\n",
       "    .dataframe thead th {\n",
       "        text-align: right;\n",
       "    }\n",
       "</style>\n",
       "<table border=\"1\" class=\"dataframe\">\n",
       "  <thead>\n",
       "    <tr style=\"text-align: right;\">\n",
       "      <th></th>\n",
       "      <th>county</th>\n",
       "      <th>years</th>\n",
       "      <th>strata</th>\n",
       "      <th>age_group</th>\n",
       "      <th>number_of_deaths</th>\n",
       "      <th>age_adjusted_mortality_rate</th>\n",
       "      <th>comment</th>\n",
       "    </tr>\n",
       "  </thead>\n",
       "  <tbody>\n",
       "    <tr>\n",
       "      <th>30</th>\n",
       "      <td>Orange</td>\n",
       "      <td>2014–2016</td>\n",
       "      <td>Total population</td>\n",
       "      <td>All ages</td>\n",
       "      <td>55.0</td>\n",
       "      <td>5.5</td>\n",
       "      <td>NaN</td>\n",
       "    </tr>\n",
       "    <tr>\n",
       "      <th>89</th>\n",
       "      <td>Orange</td>\n",
       "      <td>2014–2016</td>\n",
       "      <td>Child vs. adult</td>\n",
       "      <td>0–17 years</td>\n",
       "      <td>NaN</td>\n",
       "      <td>NaN</td>\n",
       "      <td>Count and rate suppressed in accordance with d...</td>\n",
       "    </tr>\n",
       "    <tr>\n",
       "      <th>148</th>\n",
       "      <td>Orange</td>\n",
       "      <td>2014–2016</td>\n",
       "      <td>Child vs. adult</td>\n",
       "      <td>18+ years</td>\n",
       "      <td>53.0</td>\n",
       "      <td>7.2</td>\n",
       "      <td>NaN</td>\n",
       "    </tr>\n",
       "    <tr>\n",
       "      <th>207</th>\n",
       "      <td>Orange</td>\n",
       "      <td>2017–2019</td>\n",
       "      <td>Total population</td>\n",
       "      <td>All ages</td>\n",
       "      <td>82.0</td>\n",
       "      <td>7.4</td>\n",
       "      <td>NaN</td>\n",
       "    </tr>\n",
       "    <tr>\n",
       "      <th>266</th>\n",
       "      <td>Orange</td>\n",
       "      <td>2017–2019</td>\n",
       "      <td>Child vs. adult</td>\n",
       "      <td>0–17 years</td>\n",
       "      <td>NaN</td>\n",
       "      <td>NaN</td>\n",
       "      <td>Count and rate suppressed in accordance with d...</td>\n",
       "    </tr>\n",
       "    <tr>\n",
       "      <th>325</th>\n",
       "      <td>Orange</td>\n",
       "      <td>2017–2019</td>\n",
       "      <td>Child vs. adult</td>\n",
       "      <td>18+ years</td>\n",
       "      <td>79.0</td>\n",
       "      <td>9.5</td>\n",
       "      <td>NaN</td>\n",
       "    </tr>\n",
       "  </tbody>\n",
       "</table>\n",
       "</div>"
      ],
      "text/plain": [
       "     county      years            strata   age_group  number_of_deaths  \\\n",
       "30   Orange  2014–2016  Total population    All ages              55.0   \n",
       "89   Orange  2014–2016   Child vs. adult  0–17 years               NaN   \n",
       "148  Orange  2014–2016   Child vs. adult   18+ years              53.0   \n",
       "207  Orange  2017–2019  Total population    All ages              82.0   \n",
       "266  Orange  2017–2019   Child vs. adult  0–17 years               NaN   \n",
       "325  Orange  2017–2019   Child vs. adult   18+ years              79.0   \n",
       "\n",
       "     age_adjusted_mortality_rate  \\\n",
       "30                           5.5   \n",
       "89                           NaN   \n",
       "148                          7.2   \n",
       "207                          7.4   \n",
       "266                          NaN   \n",
       "325                          9.5   \n",
       "\n",
       "                                               comment  \n",
       "30                                                 NaN  \n",
       "89   Count and rate suppressed in accordance with d...  \n",
       "148                                                NaN  \n",
       "207                                                NaN  \n",
       "266  Count and rate suppressed in accordance with d...  \n",
       "325                                                NaN  "
      ]
     },
     "execution_count": 46,
     "metadata": {},
     "output_type": "execute_result"
    }
   ],
   "source": [
    "asthma_1.loc[asthma_1['county'] == 'Orange']"
   ]
  },
  {
   "cell_type": "markdown",
   "id": "6865d5ef-eb33-4b3b-9e25-89d800a81a11",
   "metadata": {},
   "source": [
    "Going to drop years 2017-2019 and the sub stratas that arent total pop"
   ]
  },
  {
   "cell_type": "code",
   "execution_count": 47,
   "id": "813dcd02-3244-491d-86c0-83e31ad1e54c",
   "metadata": {
    "tags": []
   },
   "outputs": [],
   "source": [
    "asthma_1.drop(asthma_1.loc[asthma_1['years'] == '2017–2019'].index, inplace = True)"
   ]
  },
  {
   "cell_type": "code",
   "execution_count": 48,
   "id": "86fbff76-d2a0-4442-b73b-461182f21d4e",
   "metadata": {
    "tags": []
   },
   "outputs": [],
   "source": [
    "asthma_1.drop(asthma_1.loc[asthma_1['strata'] != 'Total population'].index, inplace = True)"
   ]
  },
  {
   "cell_type": "code",
   "execution_count": 74,
   "id": "5de66a07-686b-4355-a040-2173f56b05c2",
   "metadata": {
    "scrolled": true,
    "tags": []
   },
   "outputs": [],
   "source": [
    "asthma_1.drop(asthma_1.loc[asthma_1['county'] == 'Alpine'].index, inplace=True)"
   ]
  },
  {
   "cell_type": "code",
   "execution_count": 75,
   "id": "7e08363e-ccdf-4520-b5a7-53dccb9ff465",
   "metadata": {
    "tags": []
   },
   "outputs": [],
   "source": [
    "asthma_1.to_csv('./dfs/asthma_death.csv')\n",
    "asthma_3.to_csv('./data_dictionaries/asthma_death.csv')"
   ]
  },
  {
   "cell_type": "markdown",
   "id": "7d5f981a-92d4-4e32-85b5-67e95b7d13f2",
   "metadata": {},
   "source": [
    "# Death Profiles"
   ]
  },
  {
   "cell_type": "code",
   "execution_count": 51,
   "id": "4165271c-d93f-4baf-b4f1-83a2f82d250f",
   "metadata": {
    "tags": []
   },
   "outputs": [],
   "source": [
    "death_profile_1 = pd.read_csv('../../../../../Downloads/chhs-cac6d0b5-93d0-4f62-9f05-b3eebb63431f/data/death_profiles_by_leading_causes_of_death_3.csv')"
   ]
  },
  {
   "cell_type": "code",
   "execution_count": 52,
   "id": "d9cffdaa-372c-436b-9d04-a0315340e41f",
   "metadata": {
    "tags": []
   },
   "outputs": [],
   "source": [
    "death_profile_2 = pd.read_csv('../../../../../Downloads/chhs-cac6d0b5-93d0-4f62-9f05-b3eebb63431f/data/death_profiles_by_leading_causes_of_death_4.csv')"
   ]
  },
  {
   "cell_type": "code",
   "execution_count": 53,
   "id": "7a73994c-8c63-498f-8f20-a3ac46491a5a",
   "metadata": {
    "tags": []
   },
   "outputs": [],
   "source": [
    "death_profile_3 = pd.read_csv('../../../../../Downloads/chhs-cac6d0b5-93d0-4f62-9f05-b3eebb63431f/data/death_profiles_by_leading_causes_of_death_5.csv')"
   ]
  },
  {
   "cell_type": "code",
   "execution_count": 54,
   "id": "ec07aaca-cb75-440f-a4dd-d8f4fce47d93",
   "metadata": {
    "tags": []
   },
   "outputs": [],
   "source": [
    "death_profile_4 = pd.read_csv('../../../../../Downloads/chhs-cac6d0b5-93d0-4f62-9f05-b3eebb63431f/data/lcod_dictionary.csv')"
   ]
  },
  {
   "cell_type": "code",
   "execution_count": 55,
   "id": "0e594903-d33b-454b-b2d8-7300f2082516",
   "metadata": {
    "tags": []
   },
   "outputs": [
    {
     "data": {
      "text/html": [
       "<div>\n",
       "<style scoped>\n",
       "    .dataframe tbody tr th:only-of-type {\n",
       "        vertical-align: middle;\n",
       "    }\n",
       "\n",
       "    .dataframe tbody tr th {\n",
       "        vertical-align: top;\n",
       "    }\n",
       "\n",
       "    .dataframe thead th {\n",
       "        text-align: right;\n",
       "    }\n",
       "</style>\n",
       "<table border=\"1\" class=\"dataframe\">\n",
       "  <thead>\n",
       "    <tr style=\"text-align: right;\">\n",
       "      <th></th>\n",
       "      <th>year</th>\n",
       "      <th>zip_code</th>\n",
       "      <th>causes_of_death</th>\n",
       "      <th>count</th>\n",
       "    </tr>\n",
       "  </thead>\n",
       "  <tbody>\n",
       "    <tr>\n",
       "      <th>0</th>\n",
       "      <td>2009</td>\n",
       "      <td>90001</td>\n",
       "      <td>ALZ</td>\n",
       "      <td>&lt;11</td>\n",
       "    </tr>\n",
       "    <tr>\n",
       "      <th>1</th>\n",
       "      <td>2009</td>\n",
       "      <td>90001</td>\n",
       "      <td>CAN</td>\n",
       "      <td>46</td>\n",
       "    </tr>\n",
       "    <tr>\n",
       "      <th>2</th>\n",
       "      <td>2009</td>\n",
       "      <td>90001</td>\n",
       "      <td>CLD</td>\n",
       "      <td>&lt;11</td>\n",
       "    </tr>\n",
       "    <tr>\n",
       "      <th>3</th>\n",
       "      <td>2009</td>\n",
       "      <td>90001</td>\n",
       "      <td>DIA</td>\n",
       "      <td>15</td>\n",
       "    </tr>\n",
       "    <tr>\n",
       "      <th>4</th>\n",
       "      <td>2009</td>\n",
       "      <td>90001</td>\n",
       "      <td>HOM</td>\n",
       "      <td>&lt;11</td>\n",
       "    </tr>\n",
       "    <tr>\n",
       "      <th>...</th>\n",
       "      <td>...</td>\n",
       "      <td>...</td>\n",
       "      <td>...</td>\n",
       "      <td>...</td>\n",
       "    </tr>\n",
       "    <tr>\n",
       "      <th>226795</th>\n",
       "      <td>2018</td>\n",
       "      <td>99999</td>\n",
       "      <td>NEP</td>\n",
       "      <td>20</td>\n",
       "    </tr>\n",
       "    <tr>\n",
       "      <th>226796</th>\n",
       "      <td>2018</td>\n",
       "      <td>99999</td>\n",
       "      <td>OTH</td>\n",
       "      <td>266</td>\n",
       "    </tr>\n",
       "    <tr>\n",
       "      <th>226797</th>\n",
       "      <td>2018</td>\n",
       "      <td>99999</td>\n",
       "      <td>PNF</td>\n",
       "      <td>44</td>\n",
       "    </tr>\n",
       "    <tr>\n",
       "      <th>226798</th>\n",
       "      <td>2018</td>\n",
       "      <td>99999</td>\n",
       "      <td>STK</td>\n",
       "      <td>85</td>\n",
       "    </tr>\n",
       "    <tr>\n",
       "      <th>226799</th>\n",
       "      <td>2018</td>\n",
       "      <td>99999</td>\n",
       "      <td>SUI</td>\n",
       "      <td>65</td>\n",
       "    </tr>\n",
       "  </tbody>\n",
       "</table>\n",
       "<p>226800 rows × 4 columns</p>\n",
       "</div>"
      ],
      "text/plain": [
       "        year  zip_code causes_of_death count\n",
       "0       2009     90001             ALZ   <11\n",
       "1       2009     90001             CAN    46\n",
       "2       2009     90001             CLD   <11\n",
       "3       2009     90001             DIA    15\n",
       "4       2009     90001             HOM   <11\n",
       "...      ...       ...             ...   ...\n",
       "226795  2018     99999             NEP    20\n",
       "226796  2018     99999             OTH   266\n",
       "226797  2018     99999             PNF    44\n",
       "226798  2018     99999             STK    85\n",
       "226799  2018     99999             SUI    65\n",
       "\n",
       "[226800 rows x 4 columns]"
      ]
     },
     "execution_count": 55,
     "metadata": {},
     "output_type": "execute_result"
    }
   ],
   "source": [
    "death_profile_1"
   ]
  },
  {
   "cell_type": "code",
   "execution_count": 56,
   "id": "964553fb-959b-4c50-a1e0-e9fb9cb25718",
   "metadata": {
    "tags": []
   },
   "outputs": [
    {
     "data": {
      "text/html": [
       "<div>\n",
       "<style scoped>\n",
       "    .dataframe tbody tr th:only-of-type {\n",
       "        vertical-align: middle;\n",
       "    }\n",
       "\n",
       "    .dataframe tbody tr th {\n",
       "        vertical-align: top;\n",
       "    }\n",
       "\n",
       "    .dataframe thead th {\n",
       "        text-align: right;\n",
       "    }\n",
       "</style>\n",
       "<table border=\"1\" class=\"dataframe\">\n",
       "  <thead>\n",
       "    <tr style=\"text-align: right;\">\n",
       "      <th></th>\n",
       "      <th>year</th>\n",
       "      <th>zip_code</th>\n",
       "      <th>causes_of_death</th>\n",
       "      <th>count</th>\n",
       "    </tr>\n",
       "  </thead>\n",
       "  <tbody>\n",
       "    <tr>\n",
       "      <th>0</th>\n",
       "      <td>1989</td>\n",
       "      <td>90001</td>\n",
       "      <td>ALZ</td>\n",
       "      <td>0</td>\n",
       "    </tr>\n",
       "    <tr>\n",
       "      <th>1</th>\n",
       "      <td>1989</td>\n",
       "      <td>90001</td>\n",
       "      <td>CAN</td>\n",
       "      <td>61</td>\n",
       "    </tr>\n",
       "    <tr>\n",
       "      <th>2</th>\n",
       "      <td>1989</td>\n",
       "      <td>90001</td>\n",
       "      <td>CLD</td>\n",
       "      <td>12</td>\n",
       "    </tr>\n",
       "    <tr>\n",
       "      <th>3</th>\n",
       "      <td>1989</td>\n",
       "      <td>90001</td>\n",
       "      <td>DIA</td>\n",
       "      <td>&lt;11</td>\n",
       "    </tr>\n",
       "    <tr>\n",
       "      <th>4</th>\n",
       "      <td>1989</td>\n",
       "      <td>90001</td>\n",
       "      <td>HOM</td>\n",
       "      <td>37</td>\n",
       "    </tr>\n",
       "    <tr>\n",
       "      <th>...</th>\n",
       "      <td>...</td>\n",
       "      <td>...</td>\n",
       "      <td>...</td>\n",
       "      <td>...</td>\n",
       "    </tr>\n",
       "    <tr>\n",
       "      <th>226795</th>\n",
       "      <td>1998</td>\n",
       "      <td>99999</td>\n",
       "      <td>NEP</td>\n",
       "      <td>20</td>\n",
       "    </tr>\n",
       "    <tr>\n",
       "      <th>226796</th>\n",
       "      <td>1998</td>\n",
       "      <td>99999</td>\n",
       "      <td>OTH</td>\n",
       "      <td>626</td>\n",
       "    </tr>\n",
       "    <tr>\n",
       "      <th>226797</th>\n",
       "      <td>1998</td>\n",
       "      <td>99999</td>\n",
       "      <td>PNF</td>\n",
       "      <td>236</td>\n",
       "    </tr>\n",
       "    <tr>\n",
       "      <th>226798</th>\n",
       "      <td>1998</td>\n",
       "      <td>99999</td>\n",
       "      <td>STK</td>\n",
       "      <td>210</td>\n",
       "    </tr>\n",
       "    <tr>\n",
       "      <th>226799</th>\n",
       "      <td>1998</td>\n",
       "      <td>99999</td>\n",
       "      <td>SUI</td>\n",
       "      <td>83</td>\n",
       "    </tr>\n",
       "  </tbody>\n",
       "</table>\n",
       "<p>226800 rows × 4 columns</p>\n",
       "</div>"
      ],
      "text/plain": [
       "        year  zip_code causes_of_death count\n",
       "0       1989     90001             ALZ     0\n",
       "1       1989     90001             CAN    61\n",
       "2       1989     90001             CLD    12\n",
       "3       1989     90001             DIA   <11\n",
       "4       1989     90001             HOM    37\n",
       "...      ...       ...             ...   ...\n",
       "226795  1998     99999             NEP    20\n",
       "226796  1998     99999             OTH   626\n",
       "226797  1998     99999             PNF   236\n",
       "226798  1998     99999             STK   210\n",
       "226799  1998     99999             SUI    83\n",
       "\n",
       "[226800 rows x 4 columns]"
      ]
     },
     "execution_count": 56,
     "metadata": {},
     "output_type": "execute_result"
    }
   ],
   "source": [
    "death_profile_2"
   ]
  },
  {
   "cell_type": "code",
   "execution_count": 57,
   "id": "b15e001d-8b56-4c50-a154-4f7f1e7b936c",
   "metadata": {
    "tags": []
   },
   "outputs": [
    {
     "data": {
      "text/html": [
       "<div>\n",
       "<style scoped>\n",
       "    .dataframe tbody tr th:only-of-type {\n",
       "        vertical-align: middle;\n",
       "    }\n",
       "\n",
       "    .dataframe tbody tr th {\n",
       "        vertical-align: top;\n",
       "    }\n",
       "\n",
       "    .dataframe thead th {\n",
       "        text-align: right;\n",
       "    }\n",
       "</style>\n",
       "<table border=\"1\" class=\"dataframe\">\n",
       "  <thead>\n",
       "    <tr style=\"text-align: right;\">\n",
       "      <th></th>\n",
       "      <th>year</th>\n",
       "      <th>zip_code</th>\n",
       "      <th>causes_of_death</th>\n",
       "      <th>count</th>\n",
       "    </tr>\n",
       "  </thead>\n",
       "  <tbody>\n",
       "    <tr>\n",
       "      <th>0</th>\n",
       "      <td>1999</td>\n",
       "      <td>90001</td>\n",
       "      <td>ALZ</td>\n",
       "      <td>&lt;11</td>\n",
       "    </tr>\n",
       "    <tr>\n",
       "      <th>1</th>\n",
       "      <td>1999</td>\n",
       "      <td>90001</td>\n",
       "      <td>CAN</td>\n",
       "      <td>53</td>\n",
       "    </tr>\n",
       "    <tr>\n",
       "      <th>2</th>\n",
       "      <td>1999</td>\n",
       "      <td>90001</td>\n",
       "      <td>CLD</td>\n",
       "      <td>16</td>\n",
       "    </tr>\n",
       "    <tr>\n",
       "      <th>3</th>\n",
       "      <td>1999</td>\n",
       "      <td>90001</td>\n",
       "      <td>DIA</td>\n",
       "      <td>16</td>\n",
       "    </tr>\n",
       "    <tr>\n",
       "      <th>4</th>\n",
       "      <td>1999</td>\n",
       "      <td>90001</td>\n",
       "      <td>HOM</td>\n",
       "      <td>11</td>\n",
       "    </tr>\n",
       "    <tr>\n",
       "      <th>...</th>\n",
       "      <td>...</td>\n",
       "      <td>...</td>\n",
       "      <td>...</td>\n",
       "      <td>...</td>\n",
       "    </tr>\n",
       "    <tr>\n",
       "      <th>226795</th>\n",
       "      <td>2008</td>\n",
       "      <td>99999</td>\n",
       "      <td>NEP</td>\n",
       "      <td>26</td>\n",
       "    </tr>\n",
       "    <tr>\n",
       "      <th>226796</th>\n",
       "      <td>2008</td>\n",
       "      <td>99999</td>\n",
       "      <td>OTH</td>\n",
       "      <td>692</td>\n",
       "    </tr>\n",
       "    <tr>\n",
       "      <th>226797</th>\n",
       "      <td>2008</td>\n",
       "      <td>99999</td>\n",
       "      <td>PNF</td>\n",
       "      <td>65</td>\n",
       "    </tr>\n",
       "    <tr>\n",
       "      <th>226798</th>\n",
       "      <td>2008</td>\n",
       "      <td>99999</td>\n",
       "      <td>STK</td>\n",
       "      <td>161</td>\n",
       "    </tr>\n",
       "    <tr>\n",
       "      <th>226799</th>\n",
       "      <td>2008</td>\n",
       "      <td>99999</td>\n",
       "      <td>SUI</td>\n",
       "      <td>79</td>\n",
       "    </tr>\n",
       "  </tbody>\n",
       "</table>\n",
       "<p>226800 rows × 4 columns</p>\n",
       "</div>"
      ],
      "text/plain": [
       "        year  zip_code causes_of_death count\n",
       "0       1999     90001             ALZ   <11\n",
       "1       1999     90001             CAN    53\n",
       "2       1999     90001             CLD    16\n",
       "3       1999     90001             DIA    16\n",
       "4       1999     90001             HOM    11\n",
       "...      ...       ...             ...   ...\n",
       "226795  2008     99999             NEP    26\n",
       "226796  2008     99999             OTH   692\n",
       "226797  2008     99999             PNF    65\n",
       "226798  2008     99999             STK   161\n",
       "226799  2008     99999             SUI    79\n",
       "\n",
       "[226800 rows x 4 columns]"
      ]
     },
     "execution_count": 57,
     "metadata": {},
     "output_type": "execute_result"
    }
   ],
   "source": [
    "death_profile_3"
   ]
  },
  {
   "cell_type": "code",
   "execution_count": 58,
   "id": "8750a2bc-0ab1-431a-97c5-055a530c8a95",
   "metadata": {
    "tags": []
   },
   "outputs": [
    {
     "data": {
      "text/html": [
       "<div>\n",
       "<style scoped>\n",
       "    .dataframe tbody tr th:only-of-type {\n",
       "        vertical-align: middle;\n",
       "    }\n",
       "\n",
       "    .dataframe tbody tr th {\n",
       "        vertical-align: top;\n",
       "    }\n",
       "\n",
       "    .dataframe thead th {\n",
       "        text-align: right;\n",
       "    }\n",
       "</style>\n",
       "<table border=\"1\" class=\"dataframe\">\n",
       "  <thead>\n",
       "    <tr style=\"text-align: right;\">\n",
       "      <th></th>\n",
       "      <th>column_name</th>\n",
       "      <th>format</th>\n",
       "      <th>definiton</th>\n",
       "    </tr>\n",
       "  </thead>\n",
       "  <tbody>\n",
       "    <tr>\n",
       "      <th>0</th>\n",
       "      <td>Year</td>\n",
       "      <td>String</td>\n",
       "      <td>Year of death</td>\n",
       "    </tr>\n",
       "    <tr>\n",
       "      <th>1</th>\n",
       "      <td>ZIP Code</td>\n",
       "      <td>String</td>\n",
       "      <td>California ZIP Codes. ZIP Codes with less than...</td>\n",
       "    </tr>\n",
       "    <tr>\n",
       "      <th>2</th>\n",
       "      <td>Causes of Death</td>\n",
       "      <td>String</td>\n",
       "      <td>Cause-of-death between 1999 to present were co...</td>\n",
       "    </tr>\n",
       "    <tr>\n",
       "      <th>3</th>\n",
       "      <td>Count</td>\n",
       "      <td>Numeric</td>\n",
       "      <td>Number of deaths per cause of death. Counts th...</td>\n",
       "    </tr>\n",
       "  </tbody>\n",
       "</table>\n",
       "</div>"
      ],
      "text/plain": [
       "       column_name   format                                          definiton\n",
       "0             Year   String                                     Year of death \n",
       "1         ZIP Code   String  California ZIP Codes. ZIP Codes with less than...\n",
       "2  Causes of Death   String  Cause-of-death between 1999 to present were co...\n",
       "3            Count  Numeric  Number of deaths per cause of death. Counts th..."
      ]
     },
     "execution_count": 58,
     "metadata": {},
     "output_type": "execute_result"
    }
   ],
   "source": [
    "death_profile_4"
   ]
  },
  {
   "cell_type": "code",
   "execution_count": 59,
   "id": "2af7b930-1ab0-40ad-a110-b230ab64e381",
   "metadata": {},
   "outputs": [],
   "source": [
    "#looks like death_profile_1 is the df we want because of the dates"
   ]
  },
  {
   "cell_type": "code",
   "execution_count": 60,
   "id": "8fc1648e-b46b-4952-9bd7-937d809715bf",
   "metadata": {
    "tags": []
   },
   "outputs": [
    {
     "data": {
      "text/plain": [
       "year\n",
       "2009    22680\n",
       "2010    22680\n",
       "2011    22680\n",
       "2012    22680\n",
       "2013    22680\n",
       "2014    22680\n",
       "2015    22680\n",
       "2016    22680\n",
       "2017    22680\n",
       "2018    22680\n",
       "Name: count, dtype: int64"
      ]
     },
     "execution_count": 60,
     "metadata": {},
     "output_type": "execute_result"
    }
   ],
   "source": [
    "death_profile_1['year'].value_counts()"
   ]
  },
  {
   "cell_type": "code",
   "execution_count": 61,
   "id": "79f52434-844e-4a5f-8cd4-77dea592c822",
   "metadata": {
    "tags": []
   },
   "outputs": [],
   "source": [
    "death_profile_1 = death_profile_1.loc[death_profile_1['year'] == 2015]"
   ]
  },
  {
   "cell_type": "code",
   "execution_count": 62,
   "id": "bba7d7ed-cb60-4781-9143-1b592d9bd02a",
   "metadata": {
    "tags": []
   },
   "outputs": [],
   "source": [
    "death_profile_1.to_csv('./dfs/death_profile.csv')\n",
    "death_profile_4.to_csv('./data_dictionaries/death_profile.csv')"
   ]
  },
  {
   "cell_type": "markdown",
   "id": "759add13-ff60-4c66-b581-c8a94e01ddb1",
   "metadata": {},
   "source": [
    "# infant mortality"
   ]
  },
  {
   "cell_type": "code",
   "execution_count": 63,
   "id": "e8ea75be-b650-477e-aa7e-a88b03df97cc",
   "metadata": {
    "tags": []
   },
   "outputs": [],
   "source": [
    "infant_mortality_1 = pd.read_csv('../../../../../Downloads/chhs-a10630c1-536b-4f36-97ef-5ce831fc279d/data/infant_mortality_deaths_per_1_000_live_births_lghc_indicator_1.csv')"
   ]
  },
  {
   "cell_type": "code",
   "execution_count": 64,
   "id": "510869b3-cb58-45b7-b69e-cb3ea84dfa94",
   "metadata": {
    "tags": []
   },
   "outputs": [],
   "source": [
    "infant_mortality_2 = pd.read_csv('../../../../../Downloads/chhs-a10630c1-536b-4f36-97ef-5ce831fc279d/data/infant_mortality_deaths_per_1000_live_births_lghc_indicator_01.csv')"
   ]
  },
  {
   "cell_type": "code",
   "execution_count": 65,
   "id": "6ad6ffba-2491-427e-b232-a064ba515e99",
   "metadata": {
    "tags": []
   },
   "outputs": [
    {
     "data": {
      "text/html": [
       "<div>\n",
       "<style scoped>\n",
       "    .dataframe tbody tr th:only-of-type {\n",
       "        vertical-align: middle;\n",
       "    }\n",
       "\n",
       "    .dataframe tbody tr th {\n",
       "        vertical-align: top;\n",
       "    }\n",
       "\n",
       "    .dataframe thead th {\n",
       "        text-align: right;\n",
       "    }\n",
       "</style>\n",
       "<table border=\"1\" class=\"dataframe\">\n",
       "  <thead>\n",
       "    <tr style=\"text-align: right;\">\n",
       "      <th></th>\n",
       "      <th>lghc_indicator_name</th>\n",
       "      <th>geography</th>\n",
       "      <th>year</th>\n",
       "      <th>strata</th>\n",
       "      <th>strata_name</th>\n",
       "      <th>rate</th>\n",
       "      <th>lower_95_ci</th>\n",
       "      <th>upper_95_ci</th>\n",
       "    </tr>\n",
       "  </thead>\n",
       "  <tbody>\n",
       "    <tr>\n",
       "      <th>0</th>\n",
       "      <td>Infant Mortality, Deaths per 1,000 Live Births</td>\n",
       "      <td>California</td>\n",
       "      <td>2009-2011</td>\n",
       "      <td>Total population</td>\n",
       "      <td>Total population</td>\n",
       "      <td>4.9</td>\n",
       "      <td>4.8</td>\n",
       "      <td>5.0</td>\n",
       "    </tr>\n",
       "    <tr>\n",
       "      <th>1</th>\n",
       "      <td>Infant Mortality, Deaths per 1,000 Live Births</td>\n",
       "      <td>Alameda</td>\n",
       "      <td>2009-2011</td>\n",
       "      <td>Total population</td>\n",
       "      <td>Total population</td>\n",
       "      <td>4.5</td>\n",
       "      <td>4.0</td>\n",
       "      <td>5.1</td>\n",
       "    </tr>\n",
       "    <tr>\n",
       "      <th>2</th>\n",
       "      <td>Infant Mortality, Deaths per 1,000 Live Births</td>\n",
       "      <td>Alpine</td>\n",
       "      <td>2009-2011</td>\n",
       "      <td>Total population</td>\n",
       "      <td>Total population</td>\n",
       "      <td>NaN</td>\n",
       "      <td>NaN</td>\n",
       "      <td>NaN</td>\n",
       "    </tr>\n",
       "    <tr>\n",
       "      <th>3</th>\n",
       "      <td>Infant Mortality, Deaths per 1,000 Live Births</td>\n",
       "      <td>Amador</td>\n",
       "      <td>2009-2011</td>\n",
       "      <td>Total population</td>\n",
       "      <td>Total population</td>\n",
       "      <td>NaN</td>\n",
       "      <td>NaN</td>\n",
       "      <td>NaN</td>\n",
       "    </tr>\n",
       "    <tr>\n",
       "      <th>4</th>\n",
       "      <td>Infant Mortality, Deaths per 1,000 Live Births</td>\n",
       "      <td>Butte</td>\n",
       "      <td>2009-2011</td>\n",
       "      <td>Total population</td>\n",
       "      <td>Total population</td>\n",
       "      <td>4.9</td>\n",
       "      <td>3.6</td>\n",
       "      <td>6.8</td>\n",
       "    </tr>\n",
       "    <tr>\n",
       "      <th>...</th>\n",
       "      <td>...</td>\n",
       "      <td>...</td>\n",
       "      <td>...</td>\n",
       "      <td>...</td>\n",
       "      <td>...</td>\n",
       "      <td>...</td>\n",
       "      <td>...</td>\n",
       "      <td>...</td>\n",
       "    </tr>\n",
       "    <tr>\n",
       "      <th>9073</th>\n",
       "      <td>Infant Mortality, Deaths per 1,000 Live Births</td>\n",
       "      <td>Ventura</td>\n",
       "      <td>2014-2016</td>\n",
       "      <td>Sex</td>\n",
       "      <td>Female</td>\n",
       "      <td>3.1</td>\n",
       "      <td>2.4</td>\n",
       "      <td>4.2</td>\n",
       "    </tr>\n",
       "    <tr>\n",
       "      <th>9074</th>\n",
       "      <td>Infant Mortality, Deaths per 1,000 Live Births</td>\n",
       "      <td>Yolo</td>\n",
       "      <td>2014-2016</td>\n",
       "      <td>Sex</td>\n",
       "      <td>Male</td>\n",
       "      <td>4.1</td>\n",
       "      <td>2.5</td>\n",
       "      <td>6.7</td>\n",
       "    </tr>\n",
       "    <tr>\n",
       "      <th>9075</th>\n",
       "      <td>Infant Mortality, Deaths per 1,000 Live Births</td>\n",
       "      <td>Yolo</td>\n",
       "      <td>2014-2016</td>\n",
       "      <td>Sex</td>\n",
       "      <td>Female</td>\n",
       "      <td>5.4</td>\n",
       "      <td>3.5</td>\n",
       "      <td>8.4</td>\n",
       "    </tr>\n",
       "    <tr>\n",
       "      <th>9076</th>\n",
       "      <td>Infant Mortality, Deaths per 1,000 Live Births</td>\n",
       "      <td>Yuba</td>\n",
       "      <td>2014-2016</td>\n",
       "      <td>Sex</td>\n",
       "      <td>Male</td>\n",
       "      <td>9.3</td>\n",
       "      <td>5.8</td>\n",
       "      <td>14.8</td>\n",
       "    </tr>\n",
       "    <tr>\n",
       "      <th>9077</th>\n",
       "      <td>Infant Mortality, Deaths per 1,000 Live Births</td>\n",
       "      <td>Yuba</td>\n",
       "      <td>2014-2016</td>\n",
       "      <td>Sex</td>\n",
       "      <td>Female</td>\n",
       "      <td>5.7</td>\n",
       "      <td>3.1</td>\n",
       "      <td>10.5</td>\n",
       "    </tr>\n",
       "  </tbody>\n",
       "</table>\n",
       "<p>9078 rows × 8 columns</p>\n",
       "</div>"
      ],
      "text/plain": [
       "                                 lghc_indicator_name   geography       year  \\\n",
       "0     Infant Mortality, Deaths per 1,000 Live Births  California  2009-2011   \n",
       "1     Infant Mortality, Deaths per 1,000 Live Births     Alameda  2009-2011   \n",
       "2     Infant Mortality, Deaths per 1,000 Live Births      Alpine  2009-2011   \n",
       "3     Infant Mortality, Deaths per 1,000 Live Births      Amador  2009-2011   \n",
       "4     Infant Mortality, Deaths per 1,000 Live Births       Butte  2009-2011   \n",
       "...                                              ...         ...        ...   \n",
       "9073  Infant Mortality, Deaths per 1,000 Live Births     Ventura  2014-2016   \n",
       "9074  Infant Mortality, Deaths per 1,000 Live Births        Yolo  2014-2016   \n",
       "9075  Infant Mortality, Deaths per 1,000 Live Births        Yolo  2014-2016   \n",
       "9076  Infant Mortality, Deaths per 1,000 Live Births        Yuba  2014-2016   \n",
       "9077  Infant Mortality, Deaths per 1,000 Live Births        Yuba  2014-2016   \n",
       "\n",
       "                strata       strata_name  rate  lower_95_ci  upper_95_ci  \n",
       "0     Total population  Total population   4.9          4.8          5.0  \n",
       "1     Total population  Total population   4.5          4.0          5.1  \n",
       "2     Total population  Total population   NaN          NaN          NaN  \n",
       "3     Total population  Total population   NaN          NaN          NaN  \n",
       "4     Total population  Total population   4.9          3.6          6.8  \n",
       "...                ...               ...   ...          ...          ...  \n",
       "9073               Sex            Female   3.1          2.4          4.2  \n",
       "9074               Sex              Male   4.1          2.5          6.7  \n",
       "9075               Sex            Female   5.4          3.5          8.4  \n",
       "9076               Sex              Male   9.3          5.8         14.8  \n",
       "9077               Sex            Female   5.7          3.1         10.5  \n",
       "\n",
       "[9078 rows x 8 columns]"
      ]
     },
     "execution_count": 65,
     "metadata": {},
     "output_type": "execute_result"
    }
   ],
   "source": [
    "infant_mortality_1"
   ]
  },
  {
   "cell_type": "code",
   "execution_count": 66,
   "id": "410e7982-7149-4c98-83a6-e41e1444fe45",
   "metadata": {
    "tags": []
   },
   "outputs": [
    {
     "data": {
      "text/html": [
       "<div>\n",
       "<style scoped>\n",
       "    .dataframe tbody tr th:only-of-type {\n",
       "        vertical-align: middle;\n",
       "    }\n",
       "\n",
       "    .dataframe tbody tr th {\n",
       "        vertical-align: top;\n",
       "    }\n",
       "\n",
       "    .dataframe thead th {\n",
       "        text-align: right;\n",
       "    }\n",
       "</style>\n",
       "<table border=\"1\" class=\"dataframe\">\n",
       "  <thead>\n",
       "    <tr style=\"text-align: right;\">\n",
       "      <th></th>\n",
       "      <th>lghc_indicator_name</th>\n",
       "      <th>geography</th>\n",
       "      <th>year</th>\n",
       "      <th>strata</th>\n",
       "      <th>strata_name</th>\n",
       "      <th>rate</th>\n",
       "      <th>lower_95_ci</th>\n",
       "      <th>upper_95_ci</th>\n",
       "    </tr>\n",
       "  </thead>\n",
       "  <tbody>\n",
       "    <tr>\n",
       "      <th>0</th>\n",
       "      <td>Infant Mortality, Deaths per 1,000 Live Births</td>\n",
       "      <td>California</td>\n",
       "      <td>2009-2011</td>\n",
       "      <td>Total population</td>\n",
       "      <td>Total population</td>\n",
       "      <td>4.9</td>\n",
       "      <td>4.8</td>\n",
       "      <td>5.0</td>\n",
       "    </tr>\n",
       "    <tr>\n",
       "      <th>1</th>\n",
       "      <td>Infant Mortality, Deaths per 1,000 Live Births</td>\n",
       "      <td>Alameda</td>\n",
       "      <td>2009-2011</td>\n",
       "      <td>Total population</td>\n",
       "      <td>Total population</td>\n",
       "      <td>4.5</td>\n",
       "      <td>4.0</td>\n",
       "      <td>5.1</td>\n",
       "    </tr>\n",
       "    <tr>\n",
       "      <th>2</th>\n",
       "      <td>Infant Mortality, Deaths per 1,000 Live Births</td>\n",
       "      <td>Alpine</td>\n",
       "      <td>2009-2011</td>\n",
       "      <td>Total population</td>\n",
       "      <td>Total population</td>\n",
       "      <td>NaN</td>\n",
       "      <td>NaN</td>\n",
       "      <td>NaN</td>\n",
       "    </tr>\n",
       "    <tr>\n",
       "      <th>3</th>\n",
       "      <td>Infant Mortality, Deaths per 1,000 Live Births</td>\n",
       "      <td>Amador</td>\n",
       "      <td>2009-2011</td>\n",
       "      <td>Total population</td>\n",
       "      <td>Total population</td>\n",
       "      <td>NaN</td>\n",
       "      <td>NaN</td>\n",
       "      <td>NaN</td>\n",
       "    </tr>\n",
       "    <tr>\n",
       "      <th>4</th>\n",
       "      <td>Infant Mortality, Deaths per 1,000 Live Births</td>\n",
       "      <td>Butte</td>\n",
       "      <td>2009-2011</td>\n",
       "      <td>Total population</td>\n",
       "      <td>Total population</td>\n",
       "      <td>4.9</td>\n",
       "      <td>3.6</td>\n",
       "      <td>6.8</td>\n",
       "    </tr>\n",
       "    <tr>\n",
       "      <th>...</th>\n",
       "      <td>...</td>\n",
       "      <td>...</td>\n",
       "      <td>...</td>\n",
       "      <td>...</td>\n",
       "      <td>...</td>\n",
       "      <td>...</td>\n",
       "      <td>...</td>\n",
       "      <td>...</td>\n",
       "    </tr>\n",
       "    <tr>\n",
       "      <th>9073</th>\n",
       "      <td>Infant Mortality, Deaths per 1,000 Live Births</td>\n",
       "      <td>Ventura</td>\n",
       "      <td>2014-2016</td>\n",
       "      <td>Sex</td>\n",
       "      <td>Female</td>\n",
       "      <td>3.1</td>\n",
       "      <td>2.4</td>\n",
       "      <td>4.2</td>\n",
       "    </tr>\n",
       "    <tr>\n",
       "      <th>9074</th>\n",
       "      <td>Infant Mortality, Deaths per 1,000 Live Births</td>\n",
       "      <td>Yolo</td>\n",
       "      <td>2014-2016</td>\n",
       "      <td>Sex</td>\n",
       "      <td>Male</td>\n",
       "      <td>4.1</td>\n",
       "      <td>2.5</td>\n",
       "      <td>6.7</td>\n",
       "    </tr>\n",
       "    <tr>\n",
       "      <th>9075</th>\n",
       "      <td>Infant Mortality, Deaths per 1,000 Live Births</td>\n",
       "      <td>Yolo</td>\n",
       "      <td>2014-2016</td>\n",
       "      <td>Sex</td>\n",
       "      <td>Female</td>\n",
       "      <td>5.4</td>\n",
       "      <td>3.5</td>\n",
       "      <td>8.4</td>\n",
       "    </tr>\n",
       "    <tr>\n",
       "      <th>9076</th>\n",
       "      <td>Infant Mortality, Deaths per 1,000 Live Births</td>\n",
       "      <td>Yuba</td>\n",
       "      <td>2014-2016</td>\n",
       "      <td>Sex</td>\n",
       "      <td>Male</td>\n",
       "      <td>9.3</td>\n",
       "      <td>5.8</td>\n",
       "      <td>14.8</td>\n",
       "    </tr>\n",
       "    <tr>\n",
       "      <th>9077</th>\n",
       "      <td>Infant Mortality, Deaths per 1,000 Live Births</td>\n",
       "      <td>Yuba</td>\n",
       "      <td>2014-2016</td>\n",
       "      <td>Sex</td>\n",
       "      <td>Female</td>\n",
       "      <td>5.7</td>\n",
       "      <td>3.1</td>\n",
       "      <td>10.5</td>\n",
       "    </tr>\n",
       "  </tbody>\n",
       "</table>\n",
       "<p>9078 rows × 8 columns</p>\n",
       "</div>"
      ],
      "text/plain": [
       "                                 lghc_indicator_name   geography       year  \\\n",
       "0     Infant Mortality, Deaths per 1,000 Live Births  California  2009-2011   \n",
       "1     Infant Mortality, Deaths per 1,000 Live Births     Alameda  2009-2011   \n",
       "2     Infant Mortality, Deaths per 1,000 Live Births      Alpine  2009-2011   \n",
       "3     Infant Mortality, Deaths per 1,000 Live Births      Amador  2009-2011   \n",
       "4     Infant Mortality, Deaths per 1,000 Live Births       Butte  2009-2011   \n",
       "...                                              ...         ...        ...   \n",
       "9073  Infant Mortality, Deaths per 1,000 Live Births     Ventura  2014-2016   \n",
       "9074  Infant Mortality, Deaths per 1,000 Live Births        Yolo  2014-2016   \n",
       "9075  Infant Mortality, Deaths per 1,000 Live Births        Yolo  2014-2016   \n",
       "9076  Infant Mortality, Deaths per 1,000 Live Births        Yuba  2014-2016   \n",
       "9077  Infant Mortality, Deaths per 1,000 Live Births        Yuba  2014-2016   \n",
       "\n",
       "                strata       strata_name  rate  lower_95_ci  upper_95_ci  \n",
       "0     Total population  Total population   4.9          4.8          5.0  \n",
       "1     Total population  Total population   4.5          4.0          5.1  \n",
       "2     Total population  Total population   NaN          NaN          NaN  \n",
       "3     Total population  Total population   NaN          NaN          NaN  \n",
       "4     Total population  Total population   4.9          3.6          6.8  \n",
       "...                ...               ...   ...          ...          ...  \n",
       "9073               Sex            Female   3.1          2.4          4.2  \n",
       "9074               Sex              Male   4.1          2.5          6.7  \n",
       "9075               Sex            Female   5.4          3.5          8.4  \n",
       "9076               Sex              Male   9.3          5.8         14.8  \n",
       "9077               Sex            Female   5.7          3.1         10.5  \n",
       "\n",
       "[9078 rows x 8 columns]"
      ]
     },
     "execution_count": 66,
     "metadata": {},
     "output_type": "execute_result"
    }
   ],
   "source": [
    "infant_mortality_2 #looks the same as the first df"
   ]
  },
  {
   "cell_type": "code",
   "execution_count": 67,
   "id": "cadd2053-e5aa-456a-89ed-6b48f55fee09",
   "metadata": {
    "tags": []
   },
   "outputs": [],
   "source": [
    "infant_mortality_1 = infant_mortality_1.loc[infant_mortality_1['year'] == '2014-2016']"
   ]
  },
  {
   "cell_type": "code",
   "execution_count": 94,
   "id": "c42e1928-b181-43ee-bf5a-cf1436fe8c3a",
   "metadata": {
    "tags": []
   },
   "outputs": [],
   "source": [
    "infant_mortality_1 = infant_mortality_1.drop(infant_mortality_1.loc[infant_mortality_1['geography'] == 'Alpine'].index)"
   ]
  }
 ],
 "metadata": {
  "kernelspec": {
   "display_name": "Python 3 (ipykernel)",
   "language": "python",
   "name": "python3"
  },
  "language_info": {
   "codemirror_mode": {
    "name": "ipython",
    "version": 3
   },
   "file_extension": ".py",
   "mimetype": "text/x-python",
   "name": "python",
   "nbconvert_exporter": "python",
   "pygments_lexer": "ipython3",
   "version": "3.11.5"
  }
 },
 "nbformat": 4,
 "nbformat_minor": 5
}
