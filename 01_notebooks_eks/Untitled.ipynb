{
 "cells": [
  {
   "cell_type": "markdown",
   "id": "b306ff9e-f5d2-473d-99fb-c411c77fd9c3",
   "metadata": {},
   "source": [
    "### **Dataset Cleaning - Emily's Sets**"
   ]
  },
  {
   "cell_type": "code",
   "execution_count": 1,
   "id": "efb2882f-f96f-4b12-8edd-1fbcafce9275",
   "metadata": {},
   "outputs": [],
   "source": [
    "# Imports\n",
    "import pandas as pd\n",
    "import numpy as np\n",
    "import os"
   ]
  },
  {
   "cell_type": "markdown",
   "id": "fdbb436f-c445-4ff1-abb9-3b8eda107f1c",
   "metadata": {},
   "source": [
    "# **EMILY DELETE THESE ABSOLUTE PATHS**"
   ]
  },
  {
   "cell_type": "code",
   "execution_count": 2,
   "id": "8b0ae19e-d9a4-412b-9499-e105bc3a963b",
   "metadata": {},
   "outputs": [
    {
     "name": "stdout",
     "output_type": "stream",
     "text": [
      "Current working directory is C:\\Users\\emily\\Git_Stuff\\General_Assembly\\04_Projects\\project-4\n"
     ]
    }
   ],
   "source": [
    "# Working directory\n",
    "main_folder = 'C://Users/emily/Git_Stuff/General_Assembly/04_Projects/project-4/'\n",
    "repo_path = 'C://Users/emily/Git_Stuff/General_Assembly/04_Projects/project-4/dsb318-group4/'\n",
    "datasets = 'C://Users/emily/Git_Stuff/General_Assembly/04_Projects/project-4/dsb318-group4/data/dataset_csvs'\n",
    "\n",
    "os.chdir('C://Users/emily/Git_Stuff/General_Assembly/04_Projects/project-4')\n",
    "print(f'Current working directory is {os.getcwd()}')"
   ]
  },
  {
   "cell_type": "markdown",
   "id": "7227bc8e-a526-4e4e-b73f-c97d4e1a1a63",
   "metadata": {},
   "source": [
    "#### Abortion Costs"
   ]
  },
  {
   "cell_type": "code",
   "execution_count": null,
   "id": "425c84c3-1bf6-45b5-a590-c6eb25b05b42",
   "metadata": {},
   "outputs": [],
   "source": []
  },
  {
   "cell_type": "markdown",
   "id": "3d48b7c4-988d-46f7-ba67-5cd2fb9443bf",
   "metadata": {},
   "source": [
    "#### Abortion Counts"
   ]
  },
  {
   "cell_type": "markdown",
   "id": "e5571ba8-789c-4cef-91a5-ccb7cb348042",
   "metadata": {},
   "source": [
    "#### Daycare Slots"
   ]
  },
  {
   "cell_type": "markdown",
   "id": "9fa7db59-3f1f-4b67-b805-76e88e605df5",
   "metadata": {},
   "source": [
    "#### E-cigarettes"
   ]
  },
  {
   "cell_type": "markdown",
   "id": "b207c1a4-f396-40a3-8888-574e0b33706a",
   "metadata": {},
   "source": [
    "#### Poverty Rate"
   ]
  },
  {
   "cell_type": "markdown",
   "id": "f0a237ee-e059-4fd5-a0ca-14bf3a6f1b64",
   "metadata": {},
   "source": [
    "#### Suicide Rate"
   ]
  },
  {
   "cell_type": "markdown",
   "id": "23e84dd7-36e9-4206-830f-e94d7e4a5a1e",
   "metadata": {},
   "source": [
    "#### Graduation Cohort & Dropout Rate"
   ]
  },
  {
   "cell_type": "markdown",
   "id": "fe2c123c-89e4-48c9-b5a6-89c79cb59d02",
   "metadata": {},
   "source": [
    "#### Unemployment Rate"
   ]
  },
  {
   "cell_type": "markdown",
   "id": "7b706f22-98e7-45a9-8520-4424c1534d12",
   "metadata": {},
   "source": [
    "#### Dimensionality Reduction"
   ]
  }
 ],
 "metadata": {
  "kernelspec": {
   "display_name": "Python 3 (ipykernel)",
   "language": "python",
   "name": "python3"
  },
  "language_info": {
   "codemirror_mode": {
    "name": "ipython",
    "version": 3
   },
   "file_extension": ".py",
   "mimetype": "text/x-python",
   "name": "python",
   "nbconvert_exporter": "python",
   "pygments_lexer": "ipython3",
   "version": "3.11.7"
  }
 },
 "nbformat": 4,
 "nbformat_minor": 5
}
