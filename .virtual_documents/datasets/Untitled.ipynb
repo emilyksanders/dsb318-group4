import pandas as pd
import numpy as np
from sklearn.linear_model import LinearRegression


ab_df = pd.read_csv('./
