import pandas as pd
import numpy as np
from sklearn.linear_model import LinearRegression


ab_cost = pd.read_csv('./abortion_costs_simplified_eks.csv')


ab_cost.head(10)


ab_count = pd.read_csv('./abortion_counts_simplified_eks.csv')


ab_count.head(10)


ab_combined = pd.concat([ab_cost, ab_count], axis=1)


ab_combined.shape


ab_combined.isnull().sum()


ab_combined.fillna('nan')



