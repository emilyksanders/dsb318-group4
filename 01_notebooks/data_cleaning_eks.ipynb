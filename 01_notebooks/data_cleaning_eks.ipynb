{
 "cells": [
  {
   "cell_type": "markdown",
   "id": "b306ff9e-f5d2-473d-99fb-c411c77fd9c3",
   "metadata": {},
   "source": [
    "### **Dataset Cleaning - Emily's Sets**"
   ]
  },
  {
   "cell_type": "markdown",
   "id": "f7d719f1-cfe2-4680-af02-5aad6853720d",
   "metadata": {},
   "source": [
    "In this notebook, I (Emily) will explain my data cleaning process for the datasets I was assigned to work on.  My collaborators and I worked independently on this portion of the work and used the methods that worked the best for us personally.  However, we all discussed and agreed upon which data to delete, preserve, or modify.\n",
    "\n",
    "One decision that became clear as we cleaned the data was that we unfortunately needed to exclude Alpine County from the dataset.  Alpine County is very small, and therefore, almost all of its social condition data were suppressed for privacy.  After that decision was made, Alpine County was removed from any further datasets we cleaned.  It remained, however, in datasets that had already been cleaned, and was removed for good at a later step."
   ]
  },
  {
   "cell_type": "code",
   "execution_count": 69,
   "id": "efb2882f-f96f-4b12-8edd-1fbcafce9275",
   "metadata": {},
   "outputs": [],
   "source": [
    "# Imports\n",
    "import numpy as np\n",
    "import os\n",
    "import pandas as pd\n",
    "\n",
    "# Thanks to stackoverflow for this tip to suppress SettingWithCopyWarning\n",
    "# https://stackoverflow.com/questions/20625582/how-to-deal-with-settingwithcopywarning-in-pandas\n",
    "pd.options.mode.chained_assignment = None "
   ]
  },
  {
   "cell_type": "code",
   "execution_count": 70,
   "id": "6b1eeee0-3119-48f1-b29c-0bf41e2c3df1",
   "metadata": {},
   "outputs": [
    {
     "data": {
      "text/plain": [
       "['.Rhistory',\n",
       " '00_ignore',\n",
       " '01_original_datasets',\n",
       " '02_cleaned_datasets',\n",
       " '03_output',\n",
       " '04_data-dictionaries',\n",
       " 'ca_dropout_and_predictors_v6_eks.csv']"
      ]
     },
     "execution_count": 70,
     "metadata": {},
     "output_type": "execute_result"
    }
   ],
   "source": [
    "os.chdir('./../02_data_eks')\n",
    "os.listdir()"
   ]
  },
  {
   "cell_type": "markdown",
   "id": "7227bc8e-a526-4e4e-b73f-c97d4e1a1a63",
   "metadata": {},
   "source": [
    "#### Abortion Costs"
   ]
  },
  {
   "cell_type": "code",
   "execution_count": 71,
   "id": "425c84c3-1bf6-45b5-a590-c6eb25b05b42",
   "metadata": {},
   "outputs": [
    {
     "data": {
      "text/plain": [
       "(815, 5)"
      ]
     },
     "execution_count": 71,
     "metadata": {},
     "output_type": "execute_result"
    }
   ],
   "source": [
    "# Read it in\n",
    "abortion_costs = pd.read_csv('./01_original_datasets/abortions_funded_costs.csv')\n",
    "\n",
    "# Rename columns\n",
    "col_names = [col.lower().replace(' ', '_') for col in abortion_costs.columns]\n",
    "abortion_costs.columns = col_names\n",
    "\n",
    "# Get the shape\n",
    "abortion_costs.shape"
   ]
  },
  {
   "cell_type": "code",
   "execution_count": 72,
   "id": "4f93df45-d91e-46ca-ba47-ab30e63579d0",
   "metadata": {},
   "outputs": [
    {
     "data": {
      "text/plain": [
       "(114, 5)"
      ]
     },
     "execution_count": 72,
     "metadata": {},
     "output_type": "execute_result"
    }
   ],
   "source": [
    "# 2015 only\n",
    "abortion_costs = abortion_costs[abortion_costs['calendar_year']==2015]\n",
    "\n",
    "# Real counties only\n",
    "abortion_costs = abortion_costs[abortion_costs['county']!='Unknown']\n",
    "abortion_costs = abortion_costs[abortion_costs['county']!='Total'] \n",
    "\n",
    "# Get the shape\n",
    "abortion_costs.shape"
   ]
  },
  {
   "cell_type": "code",
   "execution_count": 73,
   "id": "0d548fca-78f1-4304-8fd3-3b50863fd8f5",
   "metadata": {},
   "outputs": [
    {
     "name": "stdout",
     "output_type": "stream",
     "text": [
      "====================\n",
      "calendar_year\n",
      "1\n",
      "====================\n",
      "delivery_system\n",
      "2\n",
      "====================\n",
      "county\n",
      "58\n",
      "====================\n",
      "total_expenditures\n",
      "55\n",
      "====================\n",
      "date_of_data\n",
      "1\n"
     ]
    }
   ],
   "source": [
    "# Take a look at the column counts - this will help me identify unnecessary features\n",
    "\n",
    "# Define a function to use this again later\n",
    "def col_counts(df):\n",
    "  '''A function to print the number of unique values for every column in a dataframe\n",
    "  Arg: \n",
    "    {df}, a dataframe\n",
    "  Return: \n",
    "    Nothing, the purpose of this function is to see it in the output.\n",
    "  Raise:\n",
    "    Hopefully not!'''\n",
    "  for i in list(df.columns):\n",
    "    print('='*20)\n",
    "    print(i)\n",
    "    print(df[i].nunique())\n",
    "\n",
    "# Run it\n",
    "col_counts(abortion_costs)"
   ]
  },
  {
   "cell_type": "code",
   "execution_count": 74,
   "id": "defaff99-b36b-43ad-9a3d-f6d67c9255c7",
   "metadata": {},
   "outputs": [
    {
     "data": {
      "text/plain": [
       "calendar_year          0\n",
       "delivery_system        0\n",
       "county                 0\n",
       "total_expenditures    58\n",
       "date_of_data           0\n",
       "dtype: int64"
      ]
     },
     "execution_count": 74,
     "metadata": {},
     "output_type": "execute_result"
    }
   ],
   "source": [
    "# Look for missing data\n",
    "abortion_costs.isna().sum()"
   ]
  },
  {
   "cell_type": "markdown",
   "id": "ca4d8abd-10b1-425e-a495-1d802128c493",
   "metadata": {},
   "source": [
    "Just the one column has NAs, and it is exactly the number of counties."
   ]
  },
  {
   "cell_type": "code",
   "execution_count": 75,
   "id": "fb6e451b-8f8b-4657-943e-f0b4594ebbe0",
   "metadata": {},
   "outputs": [
    {
     "name": "stdout",
     "output_type": "stream",
     "text": [
      "====================\n",
      "calendar_year\n",
      "1\n",
      "====================\n",
      "delivery_system\n",
      "1\n",
      "====================\n",
      "county\n",
      "56\n",
      "====================\n",
      "total_expenditures\n",
      "55\n",
      "====================\n",
      "date_of_data\n",
      "1\n"
     ]
    }
   ],
   "source": [
    "# Take a look at the column counts if I were to drop those\n",
    "col_counts(abortion_costs.dropna())"
   ]
  },
  {
   "cell_type": "markdown",
   "id": "517d0a5a-9da5-4469-8a42-4dee8848f4b5",
   "metadata": {},
   "source": [
    "It looks like an entire category of `delivery_system` is missing."
   ]
  },
  {
   "cell_type": "code",
   "execution_count": 76,
   "id": "6e086d88-ec03-46b5-9903-a53d27e49651",
   "metadata": {},
   "outputs": [
    {
     "data": {
      "text/plain": [
       "delivery_system\n",
       "Fee-for-Service     0\n",
       "Managed Care       58\n",
       "Name: total_expenditures, dtype: int64"
      ]
     },
     "execution_count": 76,
     "metadata": {},
     "output_type": "execute_result"
    }
   ],
   "source": [
    "# Check that hypothesis\n",
    "abortion_costs['total_expenditures'].isna().groupby(abortion_costs['delivery_system']).sum()"
   ]
  },
  {
   "cell_type": "code",
   "execution_count": 77,
   "id": "25510ac9-da5c-4b9e-a652-36444f8478a9",
   "metadata": {},
   "outputs": [
    {
     "data": {
      "text/plain": [
       "delivery_system  total_expenditures\n",
       "Fee-for-Service  False                 56\n",
       "Managed Care     True                  58\n",
       "Name: count, dtype: int64"
      ]
     },
     "execution_count": 77,
     "metadata": {},
     "output_type": "execute_result"
    }
   ],
   "source": [
    "# Check that hypothesis\n",
    "abortion_costs['total_expenditures'].isna().groupby(abortion_costs['delivery_system']).value_counts(dropna = False)"
   ]
  },
  {
   "cell_type": "markdown",
   "id": "9404497c-461b-46ec-b4a7-4d115f2eafdd",
   "metadata": {},
   "source": [
    "Two counties seem to be missing from the Fee-for-Service level that are present in the Managed Care level, but they're NA there.  They're not suppressed for small numbers or anything; they just aren't present in the dataset at all."
   ]
  },
  {
   "cell_type": "code",
   "execution_count": 78,
   "id": "ec6e9ec5-0ab1-4a0b-8c83-8720d1457da6",
   "metadata": {},
   "outputs": [
    {
     "data": {
      "text/plain": [
       "(56, 2)"
      ]
     },
     "execution_count": 78,
     "metadata": {},
     "output_type": "execute_result"
    }
   ],
   "source": [
    "# Drop the unnecessary category (rows)\n",
    "abortion_costs.dropna(inplace = True)\n",
    "\n",
    "# Drop unnecessary columns\n",
    "drop_cols = ['calendar_year', 'delivery_system', 'date_of_data']\n",
    "abortion_costs.drop(columns = drop_cols, inplace = True)\n",
    "\n",
    "# Get the shape\n",
    "abortion_costs.shape"
   ]
  },
  {
   "cell_type": "code",
   "execution_count": 79,
   "id": "74b89569-a3d1-4221-8d04-06b18fa43910",
   "metadata": {},
   "outputs": [],
   "source": [
    "# Save to csv \n",
    "abortion_costs.to_csv('./03_output/abortion_costs_eks.csv', index = False)"
   ]
  },
  {
   "cell_type": "markdown",
   "id": "16a3da3c-779e-4a2f-951a-3369e4362f3b",
   "metadata": {},
   "source": [
    "The datasets that resulted from my initial cleaning, that went on to be part of the final analysis, can be found in `./02_cleaned_datasets`.  I have edited this code to send them to `./03_output` instead, to prevent these files from being overwritten over and over.  This is the same throughout this notebook.  Curious readers - or at least those using Git Bash on a PC - can run the following command through their terminal to confirm that the files are the same."
   ]
  },
  {
   "cell_type": "markdown",
   "id": "d7641607-b968-42b8-b19c-013f051a37d7",
   "metadata": {},
   "source": [
    "```diff 02_data/03_output/<dataset name>_eks.csv 02_data/02_cleaned_datasets/<dataset name>_simplified_eks.csv```"
   ]
  },
  {
   "cell_type": "markdown",
   "id": "3d48b7c4-988d-46f7-ba67-5cd2fb9443bf",
   "metadata": {},
   "source": [
    "#### Abortion Counts"
   ]
  },
  {
   "cell_type": "code",
   "execution_count": 80,
   "id": "0c7d060f-00ef-4746-85a1-3a8f69c5e1e6",
   "metadata": {},
   "outputs": [
    {
     "data": {
      "text/plain": [
       "(1231, 7)"
      ]
     },
     "execution_count": 80,
     "metadata": {},
     "output_type": "execute_result"
    }
   ],
   "source": [
    "# Read it in\n",
    "abortion_counts = pd.read_csv('./01_original_datasets/abortions_funded_counts.csv')\n",
    "\n",
    "# Rename columns\n",
    "col_names = [col.lower().replace(' ', '_') for col in abortion_counts.columns]\n",
    "col_names = [col.lower().replace('-', '_') for col in col_names]\n",
    "abortion_counts.columns = col_names\n",
    "abortion_counts.columns\n",
    "\n",
    "# Get the shape\n",
    "abortion_counts.shape"
   ]
  },
  {
   "cell_type": "code",
   "execution_count": 81,
   "id": "3a5be0e7-10c3-4ad1-a540-81a77e248899",
   "metadata": {},
   "outputs": [
    {
     "data": {
      "text/plain": [
       "(174, 7)"
      ]
     },
     "execution_count": 81,
     "metadata": {},
     "output_type": "execute_result"
    }
   ],
   "source": [
    "# 2015 only\n",
    "abortion_counts = abortion_counts[abortion_counts['calendar_year']==2015]\n",
    "\n",
    "# Real counties only\n",
    "abortion_counts = abortion_counts[abortion_counts['county']!='Unknown']\n",
    "abortion_counts = abortion_counts[abortion_counts['county']!='Statewide'] \n",
    "\n",
    "# Get the shape\n",
    "abortion_counts.shape"
   ]
  },
  {
   "cell_type": "code",
   "execution_count": 82,
   "id": "69068c6c-19cd-4098-8bc3-b82852baddb2",
   "metadata": {},
   "outputs": [
    {
     "name": "stdout",
     "output_type": "stream",
     "text": [
      "====================\n",
      "calendar_year\n",
      "1\n",
      "====================\n",
      "county\n",
      "58\n",
      "====================\n",
      "delivery_system\n",
      "3\n",
      "====================\n",
      "total_abortion_related_services\n",
      "140\n",
      "====================\n",
      "annotation_code\n",
      "2\n",
      "====================\n",
      "annotation_description\n",
      "2\n",
      "====================\n",
      "date_of_data\n",
      "1\n"
     ]
    }
   ],
   "source": [
    "# Take a look at the column counts\n",
    "col_counts(abortion_counts)"
   ]
  },
  {
   "cell_type": "code",
   "execution_count": 83,
   "id": "52adad3b-cb09-48ba-a2ae-9cf2a1a95eeb",
   "metadata": {},
   "outputs": [
    {
     "data": {
      "text/plain": [
       "calendar_year                        0\n",
       "county                               0\n",
       "delivery_system                      0\n",
       "total_abortion_related_services     25\n",
       "annotation_code                    149\n",
       "annotation_description             149\n",
       "date_of_data                         0\n",
       "dtype: int64"
      ]
     },
     "execution_count": 83,
     "metadata": {},
     "output_type": "execute_result"
    }
   ],
   "source": [
    "# Look for missing data\n",
    "abortion_counts.isna().sum()"
   ]
  },
  {
   "cell_type": "markdown",
   "id": "69e99a90-37d2-47b0-9a27-53ac03717492",
   "metadata": {},
   "source": [
    "This dataset did not come with a data dictionary, but the annotation columns indicate that the numbers from some counties were suppressed for privacy reasons (i.e., they were so small).  I hypothesized that that was why some columns had missing values."
   ]
  },
  {
   "cell_type": "code",
   "execution_count": 84,
   "id": "c6f68d85-2561-4052-8a86-7a92530e8e4e",
   "metadata": {},
   "outputs": [
    {
     "data": {
      "text/html": [
       "<div>\n",
       "<style scoped>\n",
       "    .dataframe tbody tr th:only-of-type {\n",
       "        vertical-align: middle;\n",
       "    }\n",
       "\n",
       "    .dataframe tbody tr th {\n",
       "        vertical-align: top;\n",
       "    }\n",
       "\n",
       "    .dataframe thead th {\n",
       "        text-align: right;\n",
       "    }\n",
       "</style>\n",
       "<table border=\"1\" class=\"dataframe\">\n",
       "  <thead>\n",
       "    <tr style=\"text-align: right;\">\n",
       "      <th></th>\n",
       "      <th>calendar_year</th>\n",
       "      <th>county</th>\n",
       "      <th>delivery_system</th>\n",
       "      <th>total_abortion_related_services</th>\n",
       "      <th>annotation_code</th>\n",
       "      <th>annotation_description</th>\n",
       "      <th>date_of_data</th>\n",
       "    </tr>\n",
       "  </thead>\n",
       "  <tbody>\n",
       "    <tr>\n",
       "      <th>178</th>\n",
       "      <td>2015</td>\n",
       "      <td>Alpine</td>\n",
       "      <td>Managed Care</td>\n",
       "      <td>NaN</td>\n",
       "      <td>1.0</td>\n",
       "      <td>Cell suppressed for small numbers</td>\n",
       "      <td>1/12/2022</td>\n",
       "    </tr>\n",
       "    <tr>\n",
       "      <th>179</th>\n",
       "      <td>2015</td>\n",
       "      <td>Alpine</td>\n",
       "      <td>Total</td>\n",
       "      <td>NaN</td>\n",
       "      <td>1.0</td>\n",
       "      <td>Cell suppressed for small numbers</td>\n",
       "      <td>1/12/2022</td>\n",
       "    </tr>\n",
       "  </tbody>\n",
       "</table>\n",
       "</div>"
      ],
      "text/plain": [
       "     calendar_year  county delivery_system  total_abortion_related_services  \\\n",
       "178           2015  Alpine    Managed Care                              NaN   \n",
       "179           2015  Alpine           Total                              NaN   \n",
       "\n",
       "     annotation_code             annotation_description date_of_data  \n",
       "178              1.0  Cell suppressed for small numbers    1/12/2022  \n",
       "179              1.0  Cell suppressed for small numbers    1/12/2022  "
      ]
     },
     "execution_count": 84,
     "metadata": {},
     "output_type": "execute_result"
    }
   ],
   "source": [
    "# Check those rows out\n",
    "abortion_counts[abortion_counts['total_abortion_related_services'].isna()].head(2)"
   ]
  },
  {
   "cell_type": "code",
   "execution_count": 85,
   "id": "c60442d5-3580-4adc-a9c1-1b377f61ba36",
   "metadata": {},
   "outputs": [
    {
     "name": "stdout",
     "output_type": "stream",
     "text": [
      "The total number of rows in this dataset is 174.\n",
      "Are the annotation columns only filled in when the count was suppressed and NA elsewhere, \n",
      "and the count columns only filled in when they weren't suppresed, and NA elsewhere?\n",
      "True\n"
     ]
    }
   ],
   "source": [
    "print(f'''The total number of rows in this dataset is {abortion_counts.shape[0]}.\n",
    "Are the annotation columns only filled in when the count was suppressed and NA elsewhere, \n",
    "and the count columns only filled in when they weren't suppresed, and NA elsewhere?\n",
    "{abortion_counts.shape[0]==(\n",
    "    abortion_counts['total_abortion_related_services'].isna().sum() + abortion_counts[\n",
    "    'annotation_code'].isna().sum())}''')"
   ]
  },
  {
   "cell_type": "code",
   "execution_count": 86,
   "id": "a73dab41-e0d6-4a5e-ac9f-5b4424b1c9a7",
   "metadata": {},
   "outputs": [
    {
     "data": {
      "text/plain": [
       "annotation_code\n",
       "NaN    149\n",
       "1.0     16\n",
       "2.0      9\n",
       "Name: count, dtype: int64"
      ]
     },
     "execution_count": 86,
     "metadata": {},
     "output_type": "execute_result"
    }
   ],
   "source": [
    "# What is in these annotation columns?\n",
    "abortion_counts['annotation_code'].value_counts(dropna = False)"
   ]
  },
  {
   "cell_type": "code",
   "execution_count": 87,
   "id": "dff15d30-7aa0-4482-8488-26c12f4a6771",
   "metadata": {},
   "outputs": [
    {
     "data": {
      "text/plain": [
       "annotation_description\n",
       "NaN                                       149\n",
       "Cell suppressed for small numbers          16\n",
       "Cell suppressed for complementary cell      9\n",
       "Name: count, dtype: int64"
      ]
     },
     "execution_count": 87,
     "metadata": {},
     "output_type": "execute_result"
    }
   ],
   "source": [
    "abortion_counts['annotation_description'].value_counts(dropna = False)"
   ]
  },
  {
   "cell_type": "markdown",
   "id": "bcc3b181-4608-45cf-bc5e-2a77f7ff0013",
   "metadata": {},
   "source": [
    "The missing values correspond to suppressions.  I left them in at this stage, and my collaborators and I later decided to impute them with 0s.  Although it is unlikely that the real number was 0 (in fact, 0s were reported in this data), it is a reasonable value to use given that the cause of the missingness is that the true values were so small.\n",
    "\n",
    "The annotation columns, as received, list two types of suppression.  For our purposes, I combined these two types at this stage.  In a later stage, in the interest of reducing our dimensions, we dropped the suppression markers entirely.  Because the values were imputed with 0s, rather than an estimate within range of the unsuppressed columns, these rows were essentially already marked as different. "
   ]
  },
  {
   "cell_type": "code",
   "execution_count": 88,
   "id": "4cfe9b71-937f-47c1-ab54-a28e51a69d49",
   "metadata": {},
   "outputs": [
    {
     "data": {
      "text/plain": [
       "Index(['calendar_year', 'county', 'delivery_system',\n",
       "       'total_abortion_related_services', 'annotation_code',\n",
       "       'annotation_description', 'date_of_data'],\n",
       "      dtype='object')"
      ]
     },
     "execution_count": 88,
     "metadata": {},
     "output_type": "execute_result"
    }
   ],
   "source": [
    "abortion_counts.columns"
   ]
  },
  {
   "cell_type": "code",
   "execution_count": 89,
   "id": "a780770a-b6eb-4ae9-b3b0-5407f9ff4ed7",
   "metadata": {},
   "outputs": [],
   "source": [
    "# Recode these annotation columns\n",
    "abortion_counts.drop(columns = ['annotation_description'], inplace = True)\n",
    "abortion_counts['annotation_code'] = abortion_counts['annotation_code'].fillna(0)\n",
    "annot_2s = abortion_counts['annotation_code']==2\n",
    "abortion_counts.loc[annot_2s, 'annotation_code'] = 1\n",
    "abortion_counts.rename(columns = {\n",
    "    'annotation_code': 'abortion_rs_count_total_suppressed',\n",
    "    'total_abortion_related_services': 'abortion_rs_count_total'}, inplace = True)"
   ]
  },
  {
   "cell_type": "markdown",
   "id": "5b12edcb-e7b2-4dbe-9c2b-dedb52ece7bf",
   "metadata": {},
   "source": [
    "Data were listed on separate rows depending on the type of payment Medi-Cal made for the abortion related services, but in the interest of minimizing our dimensions, we choose to use the total count only."
   ]
  },
  {
   "cell_type": "code",
   "execution_count": 90,
   "id": "3a067f19-4b00-4d40-9c20-83bc5790c5e7",
   "metadata": {},
   "outputs": [
    {
     "data": {
      "text/plain": [
       "(57, 3)"
      ]
     },
     "execution_count": 90,
     "metadata": {},
     "output_type": "execute_result"
    }
   ],
   "source": [
    "# Drop unnecessary rows\n",
    "abortion_counts = abortion_counts[abortion_counts['delivery_system']=='Total']\n",
    "abortion_counts = abortion_counts[abortion_counts['county']!='Alpine']\n",
    "\n",
    "# Drop unnecessary columns\n",
    "abortion_counts.drop(\n",
    "    columns = ['calendar_year', 'delivery_system', 'date_of_data'], inplace = True)\n",
    "\n",
    "# Get the shape\n",
    "abortion_counts.shape"
   ]
  },
  {
   "cell_type": "code",
   "execution_count": 91,
   "id": "8c26feeb-d06b-4498-8878-4ce34a911462",
   "metadata": {},
   "outputs": [],
   "source": [
    "# Save to csv\n",
    "abortion_counts.to_csv('./03_output/abortion_counts_eks.csv', index = False)"
   ]
  },
  {
   "cell_type": "markdown",
   "id": "a9a7db43-cb6c-4000-b543-f66596eb8fb3",
   "metadata": {},
   "source": [
    "# EMILY DELETE THIS YOU-SPECIFIC LINE\n",
    "```diff 02_data_eks/03_output/<dataset name>_eks.csv 02_data_eks/02_cleaned_datasets/<dataset name>_simplified_eks.csv```"
   ]
  },
  {
   "cell_type": "markdown",
   "id": "e5571ba8-789c-4cef-91a5-ccb7cb348042",
   "metadata": {},
   "source": [
    "#### Daycare Slots"
   ]
  },
  {
   "cell_type": "code",
   "execution_count": 92,
   "id": "bc659603-991f-4174-a233-45f619758948",
   "metadata": {},
   "outputs": [
    {
     "data": {
      "text/plain": [
       "(20101, 28)"
      ]
     },
     "execution_count": 92,
     "metadata": {},
     "output_type": "execute_result"
    }
   ],
   "source": [
    "# Read it in\n",
    "daycare_slots = pd.read_csv('./01_original_datasets/daycare_slots.csv')\n",
    "\n",
    "# Rename columns\n",
    "col_names = {\n",
    "    'reportyear': 'report_year', 'geotypevalue': 'geotype_value'}\n",
    "daycare_slots.rename(columns = col_names, inplace = True)\n",
    "\n",
    "# Get the shape\n",
    "daycare_slots.shape"
   ]
  },
  {
   "cell_type": "code",
   "execution_count": 93,
   "id": "a413dbb5-d0b5-4087-90aa-84bcae181908",
   "metadata": {},
   "outputs": [
    {
     "data": {
      "text/plain": [
       "(20101, 19)"
      ]
     },
     "execution_count": 93,
     "metadata": {},
     "output_type": "execute_result"
    }
   ],
   "source": [
    "# Drop redundant columns\n",
    "drop_cols = ['ind_id', 'ind_definition', 'race_eth_code',\n",
    "       'race_eth_name', 'version', 'region_name',\n",
    "       'strata_name_code', 'strata_name', 'ca_decile']\n",
    "daycare_slots.drop(columns = drop_cols, inplace = True)\n",
    "\n",
    "# Get the shape\n",
    "daycare_slots.shape"
   ]
  },
  {
   "cell_type": "code",
   "execution_count": 95,
   "id": "332d6907-a96d-4534-ae7b-7d35b55a0382",
   "metadata": {},
   "outputs": [
    {
     "data": {
      "text/plain": [
       "(116, 19)"
      ]
     },
     "execution_count": 95,
     "metadata": {},
     "output_type": "execute_result"
    }
   ],
   "source": [
    "# Real counties only\n",
    "daycare_slots = daycare_slots[daycare_slots['geotype']=='CO']\n",
    "\n",
    "# Get the shape\n",
    "daycare_slots.shape"
   ]
  },
  {
   "cell_type": "code",
   "execution_count": 98,
   "id": "d8efc884-2cc1-4ddc-8363-8222f092ac5c",
   "metadata": {
    "scrolled": true
   },
   "outputs": [
    {
     "name": "stdout",
     "output_type": "stream",
     "text": [
      "====================\n",
      "report_year\n",
      "1\n",
      "====================\n",
      "geotype\n",
      "1\n",
      "====================\n",
      "geotype_value\n",
      "58\n",
      "====================\n",
      "geoname\n",
      "58\n",
      "====================\n",
      "county_fips\n",
      "58\n",
      "====================\n",
      "county_name\n",
      "58\n",
      "====================\n",
      "region_code\n",
      "14\n",
      "====================\n",
      "strata_level_name_code\n",
      "2\n",
      "====================\n",
      "strata_level_name\n",
      "2\n",
      "====================\n",
      "facility_capacity\n",
      "108\n",
      "====================\n",
      "total_pop\n",
      "116\n",
      "====================\n",
      "rate_slots\n",
      "111\n",
      "====================\n",
      "ll_95ci\n",
      "111\n",
      "====================\n",
      "ul_95ci\n",
      "111\n",
      "====================\n",
      "se\n",
      "111\n",
      "====================\n",
      "rse\n",
      "108\n",
      "====================\n",
      "ca_rr\n",
      "111\n",
      "====================\n",
      "no_facility\n",
      "72\n",
      "====================\n",
      "pct_nonwhite\n",
      "115\n"
     ]
    }
   ],
   "source": [
    "# Take a look at the column counts\n",
    "col_counts(daycare_slots)"
   ]
  },
  {
   "cell_type": "code",
   "execution_count": 99,
   "id": "fe0c8746-4f18-45b2-a61d-d6daa5178ed6",
   "metadata": {},
   "outputs": [
    {
     "data": {
      "text/plain": [
       "report_year               0\n",
       "geotype                   0\n",
       "geotype_value             0\n",
       "geoname                   0\n",
       "county_fips               0\n",
       "county_name               0\n",
       "region_code               0\n",
       "strata_level_name_code    0\n",
       "strata_level_name         0\n",
       "facility_capacity         5\n",
       "total_pop                 0\n",
       "rate_slots                5\n",
       "ll_95ci                   5\n",
       "ul_95ci                   5\n",
       "se                        5\n",
       "rse                       5\n",
       "ca_rr                     5\n",
       "no_facility               5\n",
       "pct_nonwhite              0\n",
       "dtype: int64"
      ]
     },
     "execution_count": 99,
     "metadata": {},
     "output_type": "execute_result"
    }
   ],
   "source": [
    "# Look for missing data\n",
    "daycare_slots.isna().sum()"
   ]
  },
  {
   "cell_type": "markdown",
   "id": "c616dbd5-afe9-475f-860b-88e2aa070964",
   "metadata": {},
   "source": [
    "This dataset contains two rows per county - one for infant (0-2) daycare availability, and one for child (2-5) daycare availability.  To condense these into one row, I first broke the dataframe into two dataframes (one per type), gave the columns within those dataframes different names, then merged them back together."
   ]
  },
  {
   "cell_type": "code",
   "execution_count": 101,
   "id": "b5f993b3-b692-42ae-90c5-72dbd613f9e5",
   "metadata": {},
   "outputs": [],
   "source": [
    "# Divide the df\n",
    "df1 = daycare_slots[daycare_slots['strata_level_name_code']==1] # child\n",
    "df2 = daycare_slots[daycare_slots['strata_level_name_code']==2] # infant"
   ]
  },
  {
   "cell_type": "code",
   "execution_count": 102,
   "id": "b50acaaf-6ee6-415e-a6ca-22a9f821ae38",
   "metadata": {
    "scrolled": true
   },
   "outputs": [
    {
     "name": "stdout",
     "output_type": "stream",
     "text": [
      "====================\n",
      "report_year\n",
      "1\n",
      "====================\n",
      "geotype\n",
      "1\n",
      "====================\n",
      "geotype_value\n",
      "58\n",
      "====================\n",
      "geoname\n",
      "58\n",
      "====================\n",
      "county_fips\n",
      "58\n",
      "====================\n",
      "county_name\n",
      "58\n",
      "====================\n",
      "region_code\n",
      "14\n",
      "====================\n",
      "strata_level_name_code\n",
      "1\n",
      "====================\n",
      "strata_level_name\n",
      "1\n",
      "====================\n",
      "facility_capacity\n",
      "58\n",
      "====================\n",
      "total_pop\n",
      "58\n",
      "====================\n",
      "rate_slots\n",
      "58\n",
      "====================\n",
      "ll_95ci\n",
      "58\n",
      "====================\n",
      "ul_95ci\n",
      "58\n",
      "====================\n",
      "se\n",
      "58\n",
      "====================\n",
      "rse\n",
      "58\n",
      "====================\n",
      "ca_rr\n",
      "58\n",
      "====================\n",
      "no_facility\n",
      "50\n",
      "====================\n",
      "pct_nonwhite\n",
      "58\n"
     ]
    }
   ],
   "source": [
    "# Take a look at the column counts\n",
    "col_counts(df1)"
   ]
  },
  {
   "cell_type": "code",
   "execution_count": 103,
   "id": "e5ed0474-5f69-4060-bf1d-8e3c187018a7",
   "metadata": {
    "scrolled": true
   },
   "outputs": [
    {
     "name": "stdout",
     "output_type": "stream",
     "text": [
      "====================\n",
      "report_year\n",
      "1\n",
      "====================\n",
      "geotype\n",
      "1\n",
      "====================\n",
      "geotype_value\n",
      "58\n",
      "====================\n",
      "geoname\n",
      "58\n",
      "====================\n",
      "county_fips\n",
      "58\n",
      "====================\n",
      "county_name\n",
      "58\n",
      "====================\n",
      "region_code\n",
      "14\n",
      "====================\n",
      "strata_level_name_code\n",
      "1\n",
      "====================\n",
      "strata_level_name\n",
      "1\n",
      "====================\n",
      "facility_capacity\n",
      "51\n",
      "====================\n",
      "total_pop\n",
      "58\n",
      "====================\n",
      "rate_slots\n",
      "53\n",
      "====================\n",
      "ll_95ci\n",
      "53\n",
      "====================\n",
      "ul_95ci\n",
      "53\n",
      "====================\n",
      "se\n",
      "53\n",
      "====================\n",
      "rse\n",
      "51\n",
      "====================\n",
      "ca_rr\n",
      "53\n",
      "====================\n",
      "no_facility\n",
      "33\n",
      "====================\n",
      "pct_nonwhite\n",
      "58\n"
     ]
    }
   ],
   "source": [
    "col_counts(df2)"
   ]
  },
  {
   "cell_type": "code",
   "execution_count": 104,
   "id": "0163adc2-8da5-43f8-9115-facad1dee921",
   "metadata": {},
   "outputs": [
    {
     "name": "stdout",
     "output_type": "stream",
     "text": [
      "(58, 6)\n",
      "(58, 6)\n"
     ]
    }
   ],
   "source": [
    "# Drop unnecessary columns\n",
    "drop_cols = ['county_fips', 'region_code',\n",
    "    'geoname', 'report_year', 'strata_level_name_code', \n",
    "    'strata_level_name', 'geotype', 'geotype_value',\n",
    "    'll_95ci', 'ul_95ci', 'se', 'rse', 'ca_rr']\n",
    "\n",
    "df1.drop(columns = drop_cols, inplace = True) #child\n",
    "df2.drop(columns = drop_cols, inplace = True) #infant\n",
    "\n",
    "# Get the shapes\n",
    "print(df1.shape)\n",
    "print(df2.shape)"
   ]
  },
  {
   "cell_type": "code",
   "execution_count": 108,
   "id": "23b07efd-b2db-4d23-aeb5-7fe4daf7b2c1",
   "metadata": {},
   "outputs": [
    {
     "name": "stdout",
     "output_type": "stream",
     "text": [
      "(58, 6)\n",
      "(58, 6)\n"
     ]
    }
   ],
   "source": [
    "# Rename the columns\n",
    "infant_cols = ['county_name', 'infant_facility_capacity',\n",
    "    'infant_total_pop', 'infant_rate_slots',\n",
    "    'infant_num_facility', 'infant_pct_nonwhite']\n",
    "\n",
    "child_cols = ['county_name', 'child_facility_capacity', \n",
    "    'child_total_pop', 'child_rate_slots', \n",
    "    'child_num_facility', 'child_pct_nonwhite']\n",
    "\n",
    "df1.columns = child_cols\n",
    "df2.columns = infant_cols\n",
    "\n",
    "# Get the shapes\n",
    "print(df1.shape)\n",
    "print(df2.shape)"
   ]
  },
  {
   "cell_type": "code",
   "execution_count": 29,
   "id": "a147cd03-039a-482e-aa9d-0fc7a646c95e",
   "metadata": {},
   "outputs": [],
   "source": [
    "# Save to csv "
   ]
  },
  {
   "cell_type": "markdown",
   "id": "9fa7db59-3f1f-4b67-b805-76e88e605df5",
   "metadata": {},
   "source": [
    "#### E-cigarettes"
   ]
  },
  {
   "cell_type": "code",
   "execution_count": 30,
   "id": "fc8cc116-45cb-47ed-a642-1e3f4a3290d1",
   "metadata": {},
   "outputs": [],
   "source": [
    "# Read it in\n",
    "\n",
    "\n",
    "# Rename columns\n",
    "\n",
    "\n",
    "# Get the shape\n"
   ]
  },
  {
   "cell_type": "code",
   "execution_count": 31,
   "id": "8056e25a-ebed-419a-ac87-599ef0d6c2ee",
   "metadata": {},
   "outputs": [],
   "source": [
    "# 2015 only\n",
    "\n",
    "\n",
    "# Real counties only\n",
    "\n",
    "\n",
    "# Get the shape\n"
   ]
  },
  {
   "cell_type": "code",
   "execution_count": 32,
   "id": "a5a89c26-110a-4cd8-93ed-fc0082d94098",
   "metadata": {},
   "outputs": [],
   "source": [
    "# Take a look at the column counts"
   ]
  },
  {
   "cell_type": "code",
   "execution_count": 33,
   "id": "55868017-208e-4d63-a2ee-dbab0def44e0",
   "metadata": {},
   "outputs": [],
   "source": [
    "# Look for missing data"
   ]
  },
  {
   "cell_type": "code",
   "execution_count": 34,
   "id": "4fdb7647-7cf2-4b64-9b9a-c2ec61e7982e",
   "metadata": {},
   "outputs": [],
   "source": [
    "# Drop unnecessary rows\n",
    "\n",
    "\n",
    "# Drop unnecessary columns\n",
    "\n",
    "\n",
    "# Get the shape\n"
   ]
  },
  {
   "cell_type": "code",
   "execution_count": 35,
   "id": "3b2058ce-4393-4996-a4dd-479b90e28e81",
   "metadata": {},
   "outputs": [],
   "source": [
    "# Save to csv "
   ]
  },
  {
   "cell_type": "markdown",
   "id": "b207c1a4-f396-40a3-8888-574e0b33706a",
   "metadata": {},
   "source": [
    "#### Poverty Rate"
   ]
  },
  {
   "cell_type": "code",
   "execution_count": 36,
   "id": "d66f23b1-29f2-4ad5-addb-e3a64431cca0",
   "metadata": {},
   "outputs": [],
   "source": [
    "# Read it in\n",
    "\n",
    "\n",
    "# Rename columns\n",
    "\n",
    "\n",
    "# Get the shape\n"
   ]
  },
  {
   "cell_type": "code",
   "execution_count": 37,
   "id": "56eac25c-88bf-405d-82ba-155e53bd728f",
   "metadata": {},
   "outputs": [],
   "source": [
    "# 2015 only\n",
    "\n",
    "\n",
    "# Real counties only\n",
    "\n",
    "\n",
    "# Get the shape\n"
   ]
  },
  {
   "cell_type": "code",
   "execution_count": 38,
   "id": "c02720d2-3161-4e7b-96d5-a16fd9d74c19",
   "metadata": {},
   "outputs": [],
   "source": [
    "# Take a look at the column counts"
   ]
  },
  {
   "cell_type": "code",
   "execution_count": 39,
   "id": "6af39cdc-7ab9-4d43-a274-6a93dd69b56a",
   "metadata": {},
   "outputs": [],
   "source": [
    "# Look for missing data"
   ]
  },
  {
   "cell_type": "code",
   "execution_count": 40,
   "id": "f253091a-e732-4504-b0a5-49d1a53eae14",
   "metadata": {},
   "outputs": [],
   "source": [
    "# Drop unnecessary rows\n",
    "\n",
    "\n",
    "# Drop unnecessary columns\n",
    "\n",
    "\n",
    "# Get the shape\n"
   ]
  },
  {
   "cell_type": "code",
   "execution_count": 41,
   "id": "be0bd78f-b1cc-4268-a6cb-cfb657cef38b",
   "metadata": {},
   "outputs": [],
   "source": [
    "# Save to csv "
   ]
  },
  {
   "cell_type": "markdown",
   "id": "f0a237ee-e059-4fd5-a0ca-14bf3a6f1b64",
   "metadata": {},
   "source": [
    "#### Suicide Rate"
   ]
  },
  {
   "cell_type": "code",
   "execution_count": 42,
   "id": "1f5bda67-ead2-4e84-8705-dced84821751",
   "metadata": {},
   "outputs": [],
   "source": [
    "# Read it in\n",
    "\n",
    "\n",
    "# Rename columns\n",
    "\n",
    "\n",
    "# Get the shape\n"
   ]
  },
  {
   "cell_type": "code",
   "execution_count": 43,
   "id": "efab1304-051d-4264-991d-9a156efcfa52",
   "metadata": {},
   "outputs": [],
   "source": [
    "# 2015 only\n",
    "\n",
    "\n",
    "# Real counties only\n",
    "\n",
    "\n",
    "# Get the shape\n"
   ]
  },
  {
   "cell_type": "code",
   "execution_count": 44,
   "id": "69d92028-734b-4469-9571-fd8a849eebd1",
   "metadata": {},
   "outputs": [],
   "source": [
    "# Take a look at the column counts"
   ]
  },
  {
   "cell_type": "code",
   "execution_count": 45,
   "id": "d8e961fe-f2cf-4cea-9b26-b52dd606571c",
   "metadata": {},
   "outputs": [],
   "source": [
    "# Look for missing data"
   ]
  },
  {
   "cell_type": "code",
   "execution_count": 46,
   "id": "209f3ff4-b4c7-4d3a-83ef-f040541f3f35",
   "metadata": {},
   "outputs": [],
   "source": [
    "# Drop unnecessary rows\n",
    "\n",
    "\n",
    "# Drop unnecessary columns\n",
    "\n",
    "\n",
    "# Get the shape\n"
   ]
  },
  {
   "cell_type": "code",
   "execution_count": 47,
   "id": "46d1eb22-25a6-4d89-a354-a8fcc72487d5",
   "metadata": {},
   "outputs": [],
   "source": [
    "# Save to csv "
   ]
  },
  {
   "cell_type": "markdown",
   "id": "23e84dd7-36e9-4206-830f-e94d7e4a5a1e",
   "metadata": {},
   "source": [
    "#### Graduation Cohort & Dropout Rate"
   ]
  },
  {
   "cell_type": "code",
   "execution_count": 48,
   "id": "5fe4f721-92b7-4b65-a4ae-adc5aa90a16b",
   "metadata": {},
   "outputs": [],
   "source": [
    "# Read it in\n",
    "\n",
    "\n",
    "# Rename columns\n",
    "\n",
    "\n",
    "# Get the shape\n"
   ]
  },
  {
   "cell_type": "code",
   "execution_count": 49,
   "id": "3b3c1c2d-1eaa-4b8e-84d9-dbb8726e9d74",
   "metadata": {},
   "outputs": [],
   "source": [
    "# 2015 only\n",
    "\n",
    "\n",
    "# Real counties only\n",
    "\n",
    "\n",
    "# Get the shape\n"
   ]
  },
  {
   "cell_type": "code",
   "execution_count": 50,
   "id": "ec9583f4-b3c4-4378-93f9-79ba4529bc86",
   "metadata": {},
   "outputs": [],
   "source": [
    "# Take a look at the column counts"
   ]
  },
  {
   "cell_type": "code",
   "execution_count": 51,
   "id": "c69c873c-69be-4039-8e23-b801e4283f62",
   "metadata": {},
   "outputs": [],
   "source": [
    "# Look for missing data"
   ]
  },
  {
   "cell_type": "code",
   "execution_count": 52,
   "id": "d31f57fc-680a-46ed-b06f-f5adcc0aad06",
   "metadata": {},
   "outputs": [],
   "source": [
    "# Drop unnecessary rows\n",
    "\n",
    "\n",
    "# Drop unnecessary columns\n",
    "\n",
    "\n",
    "# Get the shape\n"
   ]
  },
  {
   "cell_type": "code",
   "execution_count": 53,
   "id": "272a851a-01a3-4cd6-bbaa-10cf1a4bda94",
   "metadata": {},
   "outputs": [],
   "source": [
    "# Save to csv "
   ]
  },
  {
   "cell_type": "markdown",
   "id": "fe2c123c-89e4-48c9-b5a6-89c79cb59d02",
   "metadata": {},
   "source": [
    "#### Unemployment Rate"
   ]
  },
  {
   "cell_type": "code",
   "execution_count": 54,
   "id": "af2c4c26-27ad-4bbf-85ab-746dbb7d1645",
   "metadata": {},
   "outputs": [],
   "source": [
    "# Read it in\n",
    "\n",
    "\n",
    "# Rename columns\n",
    "\n",
    "\n",
    "# Get the shape\n"
   ]
  },
  {
   "cell_type": "code",
   "execution_count": 55,
   "id": "f5437208-058b-4c82-b039-a335487b0307",
   "metadata": {},
   "outputs": [],
   "source": [
    "# 2015 only\n",
    "\n",
    "\n",
    "# Real counties only\n",
    "\n",
    "\n",
    "# Get the shape\n"
   ]
  },
  {
   "cell_type": "code",
   "execution_count": 56,
   "id": "75f47efe-39a7-4396-874c-d76d6b2c76b0",
   "metadata": {},
   "outputs": [],
   "source": [
    "# Take a look at the column counts"
   ]
  },
  {
   "cell_type": "code",
   "execution_count": 57,
   "id": "5c41acd0-6086-4a2c-add7-3b6d20f42249",
   "metadata": {},
   "outputs": [],
   "source": [
    "# Look for missing data"
   ]
  },
  {
   "cell_type": "code",
   "execution_count": 58,
   "id": "f954f188-9b12-40a2-96aa-87218e3bf623",
   "metadata": {},
   "outputs": [],
   "source": [
    "# Drop unnecessary rows\n",
    "\n",
    "\n",
    "# Drop unnecessary columns\n",
    "\n",
    "\n",
    "# Get the shape\n"
   ]
  },
  {
   "cell_type": "code",
   "execution_count": 59,
   "id": "daade656-33b0-4ccc-950d-4ac8e2f9d30a",
   "metadata": {},
   "outputs": [],
   "source": [
    "# Save to csv "
   ]
  },
  {
   "cell_type": "markdown",
   "id": "7b706f22-98e7-45a9-8520-4424c1534d12",
   "metadata": {},
   "source": [
    "#### Additional Dimensionality Reduction"
   ]
  }
 ],
 "metadata": {
  "kernelspec": {
   "display_name": "Python 3 (ipykernel)",
   "language": "python",
   "name": "python3"
  },
  "language_info": {
   "codemirror_mode": {
    "name": "ipython",
    "version": 3
   },
   "file_extension": ".py",
   "mimetype": "text/x-python",
   "name": "python",
   "nbconvert_exporter": "python",
   "pygments_lexer": "ipython3",
   "version": "3.11.7"
  }
 },
 "nbformat": 4,
 "nbformat_minor": 5
}
