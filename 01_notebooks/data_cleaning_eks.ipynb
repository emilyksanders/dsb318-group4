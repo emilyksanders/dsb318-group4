{
 "cells": [
  {
   "cell_type": "markdown",
   "id": "b306ff9e-f5d2-473d-99fb-c411c77fd9c3",
   "metadata": {},
   "source": [
    "### **Dataset Cleaning - Emily's Sets**"
   ]
  },
  {
   "cell_type": "markdown",
   "id": "f7d719f1-cfe2-4680-af02-5aad6853720d",
   "metadata": {},
   "source": [
    "In this notebook, I (Emily) will explain my data cleaning process for the datasets I was assigned to work on.  My collaborators and I worked independently on this portion of the work and used the methods that worked the best for us personally.  However, we all discussed and agreed upon which data to delete, preserve, or modify.\n",
    "\n",
    "One decision that became clear as we cleaned the data was that we unfortunately needed to exclude Alpine County from the dataset.  Alpine County is very small, and therefore, almost all of its social condition data were suppressed for privacy.  After that decision was made, Alpine County was removed from any further datasets we cleaned.  It remained, however, in datasets that had already been cleaned, and was removed for good at a later step."
   ]
  },
  {
   "cell_type": "code",
   "execution_count": 1,
   "id": "efb2882f-f96f-4b12-8edd-1fbcafce9275",
   "metadata": {},
   "outputs": [],
   "source": [
    "# Imports\n",
    "import numpy as np\n",
    "import os\n",
    "import pandas as pd\n",
    "\n",
    "# Thanks to stackoverflow for this tip to suppress SettingWithCopyWarning\n",
    "# https://stackoverflow.com/questions/20625582/how-to-deal-with-settingwithcopywarning-in-pandas\n",
    "pd.options.mode.chained_assignment = None "
   ]
  },
  {
   "cell_type": "code",
   "execution_count": 2,
   "id": "6b1eeee0-3119-48f1-b29c-0bf41e2c3df1",
   "metadata": {},
   "outputs": [
    {
     "data": {
      "text/plain": [
       "['.Rhistory',\n",
       " '00_ignore',\n",
       " '01_original_datasets',\n",
       " '02_cleaned_datasets',\n",
       " '03_output',\n",
       " '04_data-dictionaries',\n",
       " 'ca_dropout_and_predictors_v6_eks.csv']"
      ]
     },
     "execution_count": 2,
     "metadata": {},
     "output_type": "execute_result"
    }
   ],
   "source": [
    "os.chdir('./../02_data')\n",
    "os.listdir()"
   ]
  },
  {
   "cell_type": "markdown",
   "id": "7227bc8e-a526-4e4e-b73f-c97d4e1a1a63",
   "metadata": {},
   "source": [
    "#### Abortion Costs"
   ]
  },
  {
   "cell_type": "code",
   "execution_count": 3,
   "id": "425c84c3-1bf6-45b5-a590-c6eb25b05b42",
   "metadata": {},
   "outputs": [
    {
     "data": {
      "text/plain": [
       "(815, 5)"
      ]
     },
     "execution_count": 3,
     "metadata": {},
     "output_type": "execute_result"
    }
   ],
   "source": [
    "# Read it in\n",
    "abortion_costs = pd.read_csv('./01_original_datasets/abortions_funded_costs.csv')\n",
    "\n",
    "# Rename columns\n",
    "col_names = [col.lower().replace(' ', '_') for col in abortion_costs.columns]\n",
    "abortion_costs.columns = col_names\n",
    "\n",
    "# Get the shape\n",
    "abortion_costs.shape"
   ]
  },
  {
   "cell_type": "code",
   "execution_count": 4,
   "id": "4f93df45-d91e-46ca-ba47-ab30e63579d0",
   "metadata": {},
   "outputs": [
    {
     "data": {
      "text/plain": [
       "(114, 5)"
      ]
     },
     "execution_count": 4,
     "metadata": {},
     "output_type": "execute_result"
    }
   ],
   "source": [
    "# 2015 only\n",
    "abortion_costs = abortion_costs[abortion_costs['calendar_year']==2015]\n",
    "\n",
    "# Real counties only\n",
    "abortion_costs = abortion_costs[abortion_costs['county']!='Unknown']\n",
    "abortion_costs = abortion_costs[abortion_costs['county']!='Total'] \n",
    "\n",
    "# Get the shape\n",
    "abortion_costs.shape"
   ]
  },
  {
   "cell_type": "code",
   "execution_count": 5,
   "id": "0d548fca-78f1-4304-8fd3-3b50863fd8f5",
   "metadata": {},
   "outputs": [
    {
     "name": "stdout",
     "output_type": "stream",
     "text": [
      "====================\n",
      "calendar_year\n",
      "1\n",
      "====================\n",
      "delivery_system\n",
      "2\n",
      "====================\n",
      "county\n",
      "58\n",
      "====================\n",
      "total_expenditures\n",
      "55\n",
      "====================\n",
      "date_of_data\n",
      "1\n"
     ]
    }
   ],
   "source": [
    "# Take a look at the column counts - this will help me identify unnecessary features\n",
    "\n",
    "# Define a function to use this again later\n",
    "def col_counts(df):\n",
    "  '''A function to print the number of unique values for every column in a dataframe\n",
    "  Arg: \n",
    "    {df}, a dataframe\n",
    "  Return: \n",
    "    Nothing, the purpose of this function is to see it in the output.\n",
    "  Raise:\n",
    "    Hopefully not!'''\n",
    "  for i in list(df.columns):\n",
    "    print('='*20)\n",
    "    print(i)\n",
    "    print(df[i].nunique())\n",
    "\n",
    "# Run it\n",
    "col_counts(abortion_costs)"
   ]
  },
  {
   "cell_type": "code",
   "execution_count": 6,
   "id": "defaff99-b36b-43ad-9a3d-f6d67c9255c7",
   "metadata": {},
   "outputs": [
    {
     "data": {
      "text/plain": [
       "calendar_year          0\n",
       "delivery_system        0\n",
       "county                 0\n",
       "total_expenditures    58\n",
       "date_of_data           0\n",
       "dtype: int64"
      ]
     },
     "execution_count": 6,
     "metadata": {},
     "output_type": "execute_result"
    }
   ],
   "source": [
    "# Look for missing data\n",
    "abortion_costs.isna().sum()"
   ]
  },
  {
   "cell_type": "markdown",
   "id": "ca4d8abd-10b1-425e-a495-1d802128c493",
   "metadata": {},
   "source": [
    "Just the one column has NAs, and it is exactly the number of counties."
   ]
  },
  {
   "cell_type": "code",
   "execution_count": 7,
   "id": "fb6e451b-8f8b-4657-943e-f0b4594ebbe0",
   "metadata": {},
   "outputs": [
    {
     "name": "stdout",
     "output_type": "stream",
     "text": [
      "====================\n",
      "calendar_year\n",
      "1\n",
      "====================\n",
      "delivery_system\n",
      "1\n",
      "====================\n",
      "county\n",
      "56\n",
      "====================\n",
      "total_expenditures\n",
      "55\n",
      "====================\n",
      "date_of_data\n",
      "1\n"
     ]
    }
   ],
   "source": [
    "# Take a look at the column counts if I were to drop those\n",
    "col_counts(abortion_costs.dropna())"
   ]
  },
  {
   "cell_type": "markdown",
   "id": "517d0a5a-9da5-4469-8a42-4dee8848f4b5",
   "metadata": {},
   "source": [
    "It looks like an entire category of `delivery_system` is missing."
   ]
  },
  {
   "cell_type": "code",
   "execution_count": 8,
   "id": "6e086d88-ec03-46b5-9903-a53d27e49651",
   "metadata": {},
   "outputs": [
    {
     "data": {
      "text/plain": [
       "delivery_system\n",
       "Fee-for-Service     0\n",
       "Managed Care       58\n",
       "Name: total_expenditures, dtype: int64"
      ]
     },
     "execution_count": 8,
     "metadata": {},
     "output_type": "execute_result"
    }
   ],
   "source": [
    "# Check that hypothesis\n",
    "abortion_costs['total_expenditures'].isna().groupby(abortion_costs['delivery_system']).sum()"
   ]
  },
  {
   "cell_type": "code",
   "execution_count": 9,
   "id": "25510ac9-da5c-4b9e-a652-36444f8478a9",
   "metadata": {},
   "outputs": [
    {
     "data": {
      "text/plain": [
       "delivery_system  total_expenditures\n",
       "Fee-for-Service  False                 56\n",
       "Managed Care     True                  58\n",
       "Name: count, dtype: int64"
      ]
     },
     "execution_count": 9,
     "metadata": {},
     "output_type": "execute_result"
    }
   ],
   "source": [
    "# Check that hypothesis\n",
    "abortion_costs['total_expenditures'].isna().groupby(abortion_costs['delivery_system']).value_counts(dropna = False)"
   ]
  },
  {
   "cell_type": "markdown",
   "id": "9404497c-461b-46ec-b4a7-4d115f2eafdd",
   "metadata": {},
   "source": [
    "Two counties seem to be missing from the Fee-for-Service level that are present in the Managed Care level, but they're NA there.  They're not suppressed for small numbers or anything; they just aren't present in the dataset at all."
   ]
  },
  {
   "cell_type": "code",
   "execution_count": 10,
   "id": "ec6e9ec5-0ab1-4a0b-8c83-8720d1457da6",
   "metadata": {},
   "outputs": [
    {
     "data": {
      "text/plain": [
       "(56, 2)"
      ]
     },
     "execution_count": 10,
     "metadata": {},
     "output_type": "execute_result"
    }
   ],
   "source": [
    "# Drop the unnecessary category (rows)\n",
    "abortion_costs.dropna(inplace = True)\n",
    "\n",
    "# Drop unnecessary columns\n",
    "drop_cols = ['calendar_year', 'delivery_system', 'date_of_data']\n",
    "abortion_costs.drop(columns = drop_cols, inplace = True)\n",
    "\n",
    "# Get the shape\n",
    "abortion_costs.shape"
   ]
  },
  {
   "cell_type": "code",
   "execution_count": 11,
   "id": "74b89569-a3d1-4221-8d04-06b18fa43910",
   "metadata": {},
   "outputs": [],
   "source": [
    "# Save to csv \n",
    "abortion_costs.to_csv('./03_output/abortion_costs_eks.csv', index = False)"
   ]
  },
  {
   "cell_type": "markdown",
   "id": "16a3da3c-779e-4a2f-951a-3369e4362f3b",
   "metadata": {},
   "source": [
    "The datasets that resulted from my initial cleaning, that went on to be part of the final analysis, can be found in `./02_cleaned_datasets`.  I have edited this code to send them to `./03_output` instead, to prevent these files from being overwritten over and over.  This is the same throughout this notebook.  Curious readers - or at least those using Git Bash on a PC - can run the following command through their terminal to confirm that the files are the same."
   ]
  },
  {
   "cell_type": "markdown",
   "id": "d7641607-b968-42b8-b19c-013f051a37d7",
   "metadata": {},
   "source": [
    "```diff 02_data/03_output/<dataset name>_eks.csv 02_data/02_cleaned_datasets/<dataset name>_simplified_eks.csv```"
   ]
  },
  {
   "cell_type": "markdown",
   "id": "3d48b7c4-988d-46f7-ba67-5cd2fb9443bf",
   "metadata": {},
   "source": [
    "#### Abortion Counts"
   ]
  },
  {
   "cell_type": "code",
   "execution_count": 12,
   "id": "0c7d060f-00ef-4746-85a1-3a8f69c5e1e6",
   "metadata": {},
   "outputs": [
    {
     "data": {
      "text/plain": [
       "(1231, 7)"
      ]
     },
     "execution_count": 12,
     "metadata": {},
     "output_type": "execute_result"
    }
   ],
   "source": [
    "# Read it in\n",
    "abortion_counts = pd.read_csv('./01_original_datasets/abortions_funded_counts.csv')\n",
    "\n",
    "# Rename columns\n",
    "col_names = [col.lower().replace(' ', '_') for col in abortion_counts.columns]\n",
    "col_names = [col.lower().replace('-', '_') for col in col_names]\n",
    "abortion_counts.columns = col_names\n",
    "abortion_counts.columns\n",
    "\n",
    "# Get the shape\n",
    "abortion_counts.shape"
   ]
  },
  {
   "cell_type": "code",
   "execution_count": 13,
   "id": "3a5be0e7-10c3-4ad1-a540-81a77e248899",
   "metadata": {},
   "outputs": [
    {
     "data": {
      "text/plain": [
       "(174, 7)"
      ]
     },
     "execution_count": 13,
     "metadata": {},
     "output_type": "execute_result"
    }
   ],
   "source": [
    "# 2015 only\n",
    "abortion_counts = abortion_counts[abortion_counts['calendar_year']==2015]\n",
    "\n",
    "# Real counties only\n",
    "abortion_counts = abortion_counts[abortion_counts['county']!='Unknown']\n",
    "abortion_counts = abortion_counts[abortion_counts['county']!='Statewide'] \n",
    "\n",
    "# Get the shape\n",
    "abortion_counts.shape"
   ]
  },
  {
   "cell_type": "code",
   "execution_count": 14,
   "id": "69068c6c-19cd-4098-8bc3-b82852baddb2",
   "metadata": {},
   "outputs": [
    {
     "name": "stdout",
     "output_type": "stream",
     "text": [
      "====================\n",
      "calendar_year\n",
      "1\n",
      "====================\n",
      "county\n",
      "58\n",
      "====================\n",
      "delivery_system\n",
      "3\n",
      "====================\n",
      "total_abortion_related_services\n",
      "140\n",
      "====================\n",
      "annotation_code\n",
      "2\n",
      "====================\n",
      "annotation_description\n",
      "2\n",
      "====================\n",
      "date_of_data\n",
      "1\n"
     ]
    }
   ],
   "source": [
    "# Take a look at the column counts\n",
    "col_counts(abortion_counts)"
   ]
  },
  {
   "cell_type": "code",
   "execution_count": 15,
   "id": "52adad3b-cb09-48ba-a2ae-9cf2a1a95eeb",
   "metadata": {},
   "outputs": [
    {
     "data": {
      "text/plain": [
       "calendar_year                        0\n",
       "county                               0\n",
       "delivery_system                      0\n",
       "total_abortion_related_services     25\n",
       "annotation_code                    149\n",
       "annotation_description             149\n",
       "date_of_data                         0\n",
       "dtype: int64"
      ]
     },
     "execution_count": 15,
     "metadata": {},
     "output_type": "execute_result"
    }
   ],
   "source": [
    "# Look for missing data\n",
    "abortion_counts.isna().sum()"
   ]
  },
  {
   "cell_type": "markdown",
   "id": "69e99a90-37d2-47b0-9a27-53ac03717492",
   "metadata": {},
   "source": [
    "This dataset did not come with a data dictionary, but the annotation columns indicate that the numbers from some counties were suppressed for privacy reasons (i.e., they were so small).  I hypothesized that that was why some columns had missing values."
   ]
  },
  {
   "cell_type": "code",
   "execution_count": 16,
   "id": "c6f68d85-2561-4052-8a86-7a92530e8e4e",
   "metadata": {},
   "outputs": [
    {
     "data": {
      "text/html": [
       "<div>\n",
       "<style scoped>\n",
       "    .dataframe tbody tr th:only-of-type {\n",
       "        vertical-align: middle;\n",
       "    }\n",
       "\n",
       "    .dataframe tbody tr th {\n",
       "        vertical-align: top;\n",
       "    }\n",
       "\n",
       "    .dataframe thead th {\n",
       "        text-align: right;\n",
       "    }\n",
       "</style>\n",
       "<table border=\"1\" class=\"dataframe\">\n",
       "  <thead>\n",
       "    <tr style=\"text-align: right;\">\n",
       "      <th></th>\n",
       "      <th>calendar_year</th>\n",
       "      <th>county</th>\n",
       "      <th>delivery_system</th>\n",
       "      <th>total_abortion_related_services</th>\n",
       "      <th>annotation_code</th>\n",
       "      <th>annotation_description</th>\n",
       "      <th>date_of_data</th>\n",
       "    </tr>\n",
       "  </thead>\n",
       "  <tbody>\n",
       "    <tr>\n",
       "      <th>178</th>\n",
       "      <td>2015</td>\n",
       "      <td>Alpine</td>\n",
       "      <td>Managed Care</td>\n",
       "      <td>NaN</td>\n",
       "      <td>1.0</td>\n",
       "      <td>Cell suppressed for small numbers</td>\n",
       "      <td>1/12/2022</td>\n",
       "    </tr>\n",
       "    <tr>\n",
       "      <th>179</th>\n",
       "      <td>2015</td>\n",
       "      <td>Alpine</td>\n",
       "      <td>Total</td>\n",
       "      <td>NaN</td>\n",
       "      <td>1.0</td>\n",
       "      <td>Cell suppressed for small numbers</td>\n",
       "      <td>1/12/2022</td>\n",
       "    </tr>\n",
       "  </tbody>\n",
       "</table>\n",
       "</div>"
      ],
      "text/plain": [
       "     calendar_year  county delivery_system  total_abortion_related_services  \\\n",
       "178           2015  Alpine    Managed Care                              NaN   \n",
       "179           2015  Alpine           Total                              NaN   \n",
       "\n",
       "     annotation_code             annotation_description date_of_data  \n",
       "178              1.0  Cell suppressed for small numbers    1/12/2022  \n",
       "179              1.0  Cell suppressed for small numbers    1/12/2022  "
      ]
     },
     "execution_count": 16,
     "metadata": {},
     "output_type": "execute_result"
    }
   ],
   "source": [
    "# Check those rows out\n",
    "abortion_counts[abortion_counts['total_abortion_related_services'].isna()].head(2)"
   ]
  },
  {
   "cell_type": "code",
   "execution_count": 17,
   "id": "c60442d5-3580-4adc-a9c1-1b377f61ba36",
   "metadata": {},
   "outputs": [
    {
     "name": "stdout",
     "output_type": "stream",
     "text": [
      "The total number of rows in this dataset is 174.\n",
      "Are the annotation columns only filled in when the count was suppressed and NA elsewhere, \n",
      "and the count columns only filled in when they weren't suppresed, and NA elsewhere?\n",
      "True\n"
     ]
    }
   ],
   "source": [
    "print(f'''The total number of rows in this dataset is {abortion_counts.shape[0]}.\n",
    "Are the annotation columns only filled in when the count was suppressed and NA elsewhere, \n",
    "and the count columns only filled in when they weren't suppresed, and NA elsewhere?\n",
    "{abortion_counts.shape[0]==(\n",
    "    abortion_counts['total_abortion_related_services'].isna().sum() + abortion_counts[\n",
    "    'annotation_code'].isna().sum())}''')"
   ]
  },
  {
   "cell_type": "code",
   "execution_count": 18,
   "id": "a73dab41-e0d6-4a5e-ac9f-5b4424b1c9a7",
   "metadata": {},
   "outputs": [
    {
     "data": {
      "text/plain": [
       "annotation_code\n",
       "NaN    149\n",
       "1.0     16\n",
       "2.0      9\n",
       "Name: count, dtype: int64"
      ]
     },
     "execution_count": 18,
     "metadata": {},
     "output_type": "execute_result"
    }
   ],
   "source": [
    "# What is in these annotation columns?\n",
    "abortion_counts['annotation_code'].value_counts(dropna = False)"
   ]
  },
  {
   "cell_type": "code",
   "execution_count": 19,
   "id": "dff15d30-7aa0-4482-8488-26c12f4a6771",
   "metadata": {},
   "outputs": [
    {
     "data": {
      "text/plain": [
       "annotation_description\n",
       "NaN                                       149\n",
       "Cell suppressed for small numbers          16\n",
       "Cell suppressed for complementary cell      9\n",
       "Name: count, dtype: int64"
      ]
     },
     "execution_count": 19,
     "metadata": {},
     "output_type": "execute_result"
    }
   ],
   "source": [
    "abortion_counts['annotation_description'].value_counts(dropna = False)"
   ]
  },
  {
   "cell_type": "markdown",
   "id": "bcc3b181-4608-45cf-bc5e-2a77f7ff0013",
   "metadata": {},
   "source": [
    "The missing values correspond to suppressions.  I left them in at this stage, and my collaborators and I later decided to impute them with 0s.  Although it is unlikely that the real number was 0 (in fact, 0s were reported in this data), it is a reasonable value to use given that the cause of the missingness is that the true values were so small.\n",
    "\n",
    "The annotation columns, as received, list two types of suppression.  For our purposes, I combined these two types at this stage.  In a later stage, in the interest of reducing our dimensions, we dropped the suppression markers entirely.  Because the values were imputed with 0s, rather than an estimate within range of the unsuppressed columns, these rows were essentially already marked as different. "
   ]
  },
  {
   "cell_type": "code",
   "execution_count": 20,
   "id": "4cfe9b71-937f-47c1-ab54-a28e51a69d49",
   "metadata": {},
   "outputs": [
    {
     "data": {
      "text/plain": [
       "Index(['calendar_year', 'county', 'delivery_system',\n",
       "       'total_abortion_related_services', 'annotation_code',\n",
       "       'annotation_description', 'date_of_data'],\n",
       "      dtype='object')"
      ]
     },
     "execution_count": 20,
     "metadata": {},
     "output_type": "execute_result"
    }
   ],
   "source": [
    "abortion_counts.columns"
   ]
  },
  {
   "cell_type": "code",
   "execution_count": 21,
   "id": "a780770a-b6eb-4ae9-b3b0-5407f9ff4ed7",
   "metadata": {},
   "outputs": [],
   "source": [
    "# Recode these annotation columns\n",
    "abortion_counts.drop(columns = ['annotation_description'], inplace = True)\n",
    "abortion_counts['annotation_code'] = abortion_counts['annotation_code'].fillna(0)\n",
    "annot_2s = abortion_counts['annotation_code']==2\n",
    "abortion_counts.loc[annot_2s, 'annotation_code'] = 1\n",
    "abortion_counts.rename(columns = {\n",
    "    'annotation_code': 'abortion_rs_count_total_suppressed',\n",
    "    'total_abortion_related_services': 'abortion_rs_count_total'}, inplace = True)"
   ]
  },
  {
   "cell_type": "markdown",
   "id": "5b12edcb-e7b2-4dbe-9c2b-dedb52ece7bf",
   "metadata": {},
   "source": [
    "Data were listed on separate rows depending on the type of payment Medi-Cal made for the abortion related services, but in the interest of minimizing our dimensions, we choose to use the total count only."
   ]
  },
  {
   "cell_type": "code",
   "execution_count": 22,
   "id": "3a067f19-4b00-4d40-9c20-83bc5790c5e7",
   "metadata": {},
   "outputs": [
    {
     "data": {
      "text/plain": [
       "(57, 3)"
      ]
     },
     "execution_count": 22,
     "metadata": {},
     "output_type": "execute_result"
    }
   ],
   "source": [
    "# Drop unnecessary rows\n",
    "abortion_counts = abortion_counts[abortion_counts['delivery_system']=='Total']\n",
    "abortion_counts = abortion_counts[abortion_counts['county']!='Alpine']\n",
    "\n",
    "# Drop unnecessary columns\n",
    "abortion_counts.drop(\n",
    "    columns = ['calendar_year', 'delivery_system', 'date_of_data'], inplace = True)\n",
    "\n",
    "# Get the shape\n",
    "abortion_counts.shape"
   ]
  },
  {
   "cell_type": "code",
   "execution_count": 23,
   "id": "8c26feeb-d06b-4498-8878-4ce34a911462",
   "metadata": {},
   "outputs": [],
   "source": [
    "# Save to csv\n",
    "abortion_counts.to_csv('./03_output/abortion_counts_eks.csv', index = False)"
   ]
  },
  {
   "cell_type": "markdown",
   "id": "e5571ba8-789c-4cef-91a5-ccb7cb348042",
   "metadata": {},
   "source": [
    "#### Daycare Slots"
   ]
  },
  {
   "cell_type": "code",
   "execution_count": 24,
   "id": "bc659603-991f-4174-a233-45f619758948",
   "metadata": {},
   "outputs": [
    {
     "data": {
      "text/plain": [
       "(20101, 28)"
      ]
     },
     "execution_count": 24,
     "metadata": {},
     "output_type": "execute_result"
    }
   ],
   "source": [
    "# Read it in\n",
    "daycare_slots = pd.read_csv('./01_original_datasets/daycare_slots.csv')\n",
    "\n",
    "# Rename columns\n",
    "col_names = {\n",
    "    'reportyear': 'report_year', 'geotypevalue': 'geotype_value'}\n",
    "daycare_slots.rename(columns = col_names, inplace = True)\n",
    "\n",
    "# Get the shape\n",
    "daycare_slots.shape"
   ]
  },
  {
   "cell_type": "code",
   "execution_count": 25,
   "id": "a413dbb5-d0b5-4087-90aa-84bcae181908",
   "metadata": {},
   "outputs": [
    {
     "data": {
      "text/plain": [
       "(20101, 19)"
      ]
     },
     "execution_count": 25,
     "metadata": {},
     "output_type": "execute_result"
    }
   ],
   "source": [
    "# Drop redundant columns\n",
    "drop_cols = ['ind_id', 'ind_definition', 'race_eth_code',\n",
    "       'race_eth_name', 'version', 'region_name',\n",
    "       'strata_name_code', 'strata_name', 'ca_decile']\n",
    "daycare_slots.drop(columns = drop_cols, inplace = True)\n",
    "\n",
    "# Get the shape\n",
    "daycare_slots.shape"
   ]
  },
  {
   "cell_type": "code",
   "execution_count": 26,
   "id": "332d6907-a96d-4534-ae7b-7d35b55a0382",
   "metadata": {},
   "outputs": [
    {
     "data": {
      "text/plain": [
       "(116, 19)"
      ]
     },
     "execution_count": 26,
     "metadata": {},
     "output_type": "execute_result"
    }
   ],
   "source": [
    "# Real counties only\n",
    "daycare_slots = daycare_slots[daycare_slots['geotype']=='CO']\n",
    "\n",
    "# Get the shape\n",
    "daycare_slots.shape"
   ]
  },
  {
   "cell_type": "code",
   "execution_count": 27,
   "id": "d8efc884-2cc1-4ddc-8363-8222f092ac5c",
   "metadata": {
    "scrolled": true
   },
   "outputs": [
    {
     "name": "stdout",
     "output_type": "stream",
     "text": [
      "====================\n",
      "report_year\n",
      "1\n",
      "====================\n",
      "geotype\n",
      "1\n",
      "====================\n",
      "geotype_value\n",
      "58\n",
      "====================\n",
      "geoname\n",
      "58\n",
      "====================\n",
      "county_fips\n",
      "58\n",
      "====================\n",
      "county_name\n",
      "58\n",
      "====================\n",
      "region_code\n",
      "14\n",
      "====================\n",
      "strata_level_name_code\n",
      "2\n",
      "====================\n",
      "strata_level_name\n",
      "2\n",
      "====================\n",
      "facility_capacity\n",
      "108\n",
      "====================\n",
      "total_pop\n",
      "116\n",
      "====================\n",
      "rate_slots\n",
      "111\n",
      "====================\n",
      "ll_95ci\n",
      "111\n",
      "====================\n",
      "ul_95ci\n",
      "111\n",
      "====================\n",
      "se\n",
      "111\n",
      "====================\n",
      "rse\n",
      "108\n",
      "====================\n",
      "ca_rr\n",
      "111\n",
      "====================\n",
      "no_facility\n",
      "72\n",
      "====================\n",
      "pct_nonwhite\n",
      "115\n"
     ]
    }
   ],
   "source": [
    "# Take a look at the column counts\n",
    "col_counts(daycare_slots)"
   ]
  },
  {
   "cell_type": "code",
   "execution_count": 28,
   "id": "fe0c8746-4f18-45b2-a61d-d6daa5178ed6",
   "metadata": {},
   "outputs": [
    {
     "data": {
      "text/plain": [
       "report_year               0\n",
       "geotype                   0\n",
       "geotype_value             0\n",
       "geoname                   0\n",
       "county_fips               0\n",
       "county_name               0\n",
       "region_code               0\n",
       "strata_level_name_code    0\n",
       "strata_level_name         0\n",
       "facility_capacity         5\n",
       "total_pop                 0\n",
       "rate_slots                5\n",
       "ll_95ci                   5\n",
       "ul_95ci                   5\n",
       "se                        5\n",
       "rse                       5\n",
       "ca_rr                     5\n",
       "no_facility               5\n",
       "pct_nonwhite              0\n",
       "dtype: int64"
      ]
     },
     "execution_count": 28,
     "metadata": {},
     "output_type": "execute_result"
    }
   ],
   "source": [
    "# Look for missing data\n",
    "daycare_slots.isna().sum()"
   ]
  },
  {
   "cell_type": "markdown",
   "id": "c616dbd5-afe9-475f-860b-88e2aa070964",
   "metadata": {},
   "source": [
    "This dataset contains two rows per county - one for infant (0-2) daycare availability, and one for child (2-5) daycare availability.  To condense these into one row, I first broke the dataframe into two dataframes (one per type), gave the columns within those dataframes different names, then merged them back together."
   ]
  },
  {
   "cell_type": "code",
   "execution_count": 29,
   "id": "b5f993b3-b692-42ae-90c5-72dbd613f9e5",
   "metadata": {},
   "outputs": [],
   "source": [
    "# Divide the df\n",
    "df1 = daycare_slots[daycare_slots['strata_level_name_code']==1] # child\n",
    "df2 = daycare_slots[daycare_slots['strata_level_name_code']==2] # infant"
   ]
  },
  {
   "cell_type": "code",
   "execution_count": 30,
   "id": "b50acaaf-6ee6-415e-a6ca-22a9f821ae38",
   "metadata": {
    "scrolled": true
   },
   "outputs": [
    {
     "name": "stdout",
     "output_type": "stream",
     "text": [
      "====================\n",
      "report_year\n",
      "1\n",
      "====================\n",
      "geotype\n",
      "1\n",
      "====================\n",
      "geotype_value\n",
      "58\n",
      "====================\n",
      "geoname\n",
      "58\n",
      "====================\n",
      "county_fips\n",
      "58\n",
      "====================\n",
      "county_name\n",
      "58\n",
      "====================\n",
      "region_code\n",
      "14\n",
      "====================\n",
      "strata_level_name_code\n",
      "1\n",
      "====================\n",
      "strata_level_name\n",
      "1\n",
      "====================\n",
      "facility_capacity\n",
      "58\n",
      "====================\n",
      "total_pop\n",
      "58\n",
      "====================\n",
      "rate_slots\n",
      "58\n",
      "====================\n",
      "ll_95ci\n",
      "58\n",
      "====================\n",
      "ul_95ci\n",
      "58\n",
      "====================\n",
      "se\n",
      "58\n",
      "====================\n",
      "rse\n",
      "58\n",
      "====================\n",
      "ca_rr\n",
      "58\n",
      "====================\n",
      "no_facility\n",
      "50\n",
      "====================\n",
      "pct_nonwhite\n",
      "58\n"
     ]
    }
   ],
   "source": [
    "# Take a look at the column counts\n",
    "col_counts(df1)"
   ]
  },
  {
   "cell_type": "code",
   "execution_count": 31,
   "id": "e5ed0474-5f69-4060-bf1d-8e3c187018a7",
   "metadata": {
    "scrolled": true
   },
   "outputs": [
    {
     "name": "stdout",
     "output_type": "stream",
     "text": [
      "====================\n",
      "report_year\n",
      "1\n",
      "====================\n",
      "geotype\n",
      "1\n",
      "====================\n",
      "geotype_value\n",
      "58\n",
      "====================\n",
      "geoname\n",
      "58\n",
      "====================\n",
      "county_fips\n",
      "58\n",
      "====================\n",
      "county_name\n",
      "58\n",
      "====================\n",
      "region_code\n",
      "14\n",
      "====================\n",
      "strata_level_name_code\n",
      "1\n",
      "====================\n",
      "strata_level_name\n",
      "1\n",
      "====================\n",
      "facility_capacity\n",
      "51\n",
      "====================\n",
      "total_pop\n",
      "58\n",
      "====================\n",
      "rate_slots\n",
      "53\n",
      "====================\n",
      "ll_95ci\n",
      "53\n",
      "====================\n",
      "ul_95ci\n",
      "53\n",
      "====================\n",
      "se\n",
      "53\n",
      "====================\n",
      "rse\n",
      "51\n",
      "====================\n",
      "ca_rr\n",
      "53\n",
      "====================\n",
      "no_facility\n",
      "33\n",
      "====================\n",
      "pct_nonwhite\n",
      "58\n"
     ]
    }
   ],
   "source": [
    "col_counts(df2)"
   ]
  },
  {
   "cell_type": "code",
   "execution_count": 32,
   "id": "0163adc2-8da5-43f8-9115-facad1dee921",
   "metadata": {},
   "outputs": [
    {
     "name": "stdout",
     "output_type": "stream",
     "text": [
      "(58, 6)\n",
      "(58, 6)\n"
     ]
    }
   ],
   "source": [
    "# Drop unnecessary columns\n",
    "drop_cols = ['county_fips', 'region_code',\n",
    "    'geoname', 'report_year', 'strata_level_name_code', \n",
    "    'strata_level_name', 'geotype', 'geotype_value',\n",
    "    'll_95ci', 'ul_95ci', 'se', 'rse', 'ca_rr']\n",
    "\n",
    "df1.drop(columns = drop_cols, inplace = True) #child\n",
    "df2.drop(columns = drop_cols, inplace = True) #infant\n",
    "\n",
    "# Get the shapes\n",
    "print(df1.shape)\n",
    "print(df2.shape)"
   ]
  },
  {
   "cell_type": "code",
   "execution_count": 33,
   "id": "23b07efd-b2db-4d23-aeb5-7fe4daf7b2c1",
   "metadata": {},
   "outputs": [
    {
     "name": "stdout",
     "output_type": "stream",
     "text": [
      "(58, 6)\n",
      "(58, 6)\n"
     ]
    }
   ],
   "source": [
    "# Rename the columns\n",
    "infant_cols = ['county_name', 'infant_facility_capacity',\n",
    "    'infant_total_pop', 'infant_rate_slots',\n",
    "    'infant_num_facility', 'infant_pct_nonwhite']\n",
    "\n",
    "child_cols = ['county_name', 'child_facility_capacity', \n",
    "    'child_total_pop', 'child_rate_slots', \n",
    "    'child_num_facility', 'child_pct_nonwhite']\n",
    "\n",
    "df1.columns = child_cols\n",
    "df2.columns = infant_cols\n",
    "\n",
    "# Get the shapes\n",
    "print(df1.shape)\n",
    "print(df2.shape)"
   ]
  },
  {
   "cell_type": "code",
   "execution_count": 34,
   "id": "59e0e324-860e-45c2-940f-77b56899aa33",
   "metadata": {},
   "outputs": [],
   "source": [
    "# Merge them back together\n",
    "daycare_slots = df1.merge(df2, left_on = 'county_name', \n",
    "  right_on = 'county_name', how = 'left')"
   ]
  },
  {
   "cell_type": "code",
   "execution_count": 35,
   "id": "170126a5-931e-4c4c-ac72-709d2d7abca8",
   "metadata": {},
   "outputs": [],
   "source": [
    "# Rename the columns again\n",
    "cols = [''.join(['daycare_slots_', c]) for c in list(daycare_slots.columns)]\n",
    "daycare_slots.columns = cols\n",
    "daycare_slots.rename(columns = {'daycare_slots_county_name': 'county'}, inplace = True)\n",
    "\n",
    "# Drop Alpine county\n",
    "daycare_slots = daycare_slots[daycare_slots['county']!='Alpine']"
   ]
  },
  {
   "cell_type": "code",
   "execution_count": 36,
   "id": "d486bfb4-4403-42e0-8ac7-a3f9b2da7048",
   "metadata": {},
   "outputs": [
    {
     "data": {
      "text/html": [
       "<div>\n",
       "<style scoped>\n",
       "    .dataframe tbody tr th:only-of-type {\n",
       "        vertical-align: middle;\n",
       "    }\n",
       "\n",
       "    .dataframe tbody tr th {\n",
       "        vertical-align: top;\n",
       "    }\n",
       "\n",
       "    .dataframe thead th {\n",
       "        text-align: right;\n",
       "    }\n",
       "</style>\n",
       "<table border=\"1\" class=\"dataframe\">\n",
       "  <thead>\n",
       "    <tr style=\"text-align: right;\">\n",
       "      <th></th>\n",
       "      <th>county</th>\n",
       "      <th>daycare_slots_child_facility_capacity</th>\n",
       "      <th>daycare_slots_child_total_pop</th>\n",
       "      <th>daycare_slots_child_rate_slots</th>\n",
       "      <th>daycare_slots_child_num_facility</th>\n",
       "      <th>daycare_slots_child_pct_nonwhite</th>\n",
       "      <th>daycare_slots_infant_facility_capacity</th>\n",
       "      <th>daycare_slots_infant_total_pop</th>\n",
       "      <th>daycare_slots_infant_rate_slots</th>\n",
       "      <th>daycare_slots_infant_num_facility</th>\n",
       "      <th>daycare_slots_infant_pct_nonwhite</th>\n",
       "    </tr>\n",
       "  </thead>\n",
       "  <tbody>\n",
       "    <tr>\n",
       "      <th>0</th>\n",
       "      <td>Alameda</td>\n",
       "      <td>30404.0</td>\n",
       "      <td>78508.0</td>\n",
       "      <td>387.272635</td>\n",
       "      <td>528.0</td>\n",
       "      <td>78.641667</td>\n",
       "      <td>2252.0</td>\n",
       "      <td>58612.0</td>\n",
       "      <td>38.422166</td>\n",
       "      <td>98.0</td>\n",
       "      <td>78.787620</td>\n",
       "    </tr>\n",
       "    <tr>\n",
       "      <th>2</th>\n",
       "      <td>Amador</td>\n",
       "      <td>320.0</td>\n",
       "      <td>1202.0</td>\n",
       "      <td>266.222962</td>\n",
       "      <td>14.0</td>\n",
       "      <td>28.785358</td>\n",
       "      <td>24.0</td>\n",
       "      <td>834.0</td>\n",
       "      <td>28.776978</td>\n",
       "      <td>2.0</td>\n",
       "      <td>28.057554</td>\n",
       "    </tr>\n",
       "    <tr>\n",
       "      <th>3</th>\n",
       "      <td>Butte</td>\n",
       "      <td>2984.0</td>\n",
       "      <td>9973.0</td>\n",
       "      <td>299.207861</td>\n",
       "      <td>74.0</td>\n",
       "      <td>41.441893</td>\n",
       "      <td>443.0</td>\n",
       "      <td>7322.0</td>\n",
       "      <td>60.502595</td>\n",
       "      <td>25.0</td>\n",
       "      <td>42.024037</td>\n",
       "    </tr>\n",
       "    <tr>\n",
       "      <th>4</th>\n",
       "      <td>Calaveras</td>\n",
       "      <td>471.0</td>\n",
       "      <td>1673.0</td>\n",
       "      <td>281.530185</td>\n",
       "      <td>18.0</td>\n",
       "      <td>25.702331</td>\n",
       "      <td>52.0</td>\n",
       "      <td>1156.0</td>\n",
       "      <td>44.982699</td>\n",
       "      <td>3.0</td>\n",
       "      <td>25.346021</td>\n",
       "    </tr>\n",
       "    <tr>\n",
       "      <th>5</th>\n",
       "      <td>Colusa</td>\n",
       "      <td>306.0</td>\n",
       "      <td>1506.0</td>\n",
       "      <td>203.187251</td>\n",
       "      <td>11.0</td>\n",
       "      <td>79.150066</td>\n",
       "      <td>110.0</td>\n",
       "      <td>1097.0</td>\n",
       "      <td>100.273473</td>\n",
       "      <td>4.0</td>\n",
       "      <td>80.948040</td>\n",
       "    </tr>\n",
       "    <tr>\n",
       "      <th>6</th>\n",
       "      <td>Contra Costa</td>\n",
       "      <td>18271.0</td>\n",
       "      <td>56056.0</td>\n",
       "      <td>325.941915</td>\n",
       "      <td>320.0</td>\n",
       "      <td>67.241687</td>\n",
       "      <td>1785.0</td>\n",
       "      <td>38823.0</td>\n",
       "      <td>45.977900</td>\n",
       "      <td>73.0</td>\n",
       "      <td>68.894727</td>\n",
       "    </tr>\n",
       "    <tr>\n",
       "      <th>7</th>\n",
       "      <td>Del Norte</td>\n",
       "      <td>277.0</td>\n",
       "      <td>1346.0</td>\n",
       "      <td>205.794948</td>\n",
       "      <td>10.0</td>\n",
       "      <td>47.176820</td>\n",
       "      <td>20.0</td>\n",
       "      <td>972.0</td>\n",
       "      <td>20.576132</td>\n",
       "      <td>1.0</td>\n",
       "      <td>48.868313</td>\n",
       "    </tr>\n",
       "    <tr>\n",
       "      <th>8</th>\n",
       "      <td>El Dorado</td>\n",
       "      <td>2718.0</td>\n",
       "      <td>8201.0</td>\n",
       "      <td>331.422997</td>\n",
       "      <td>62.0</td>\n",
       "      <td>33.556883</td>\n",
       "      <td>275.0</td>\n",
       "      <td>5318.0</td>\n",
       "      <td>51.711170</td>\n",
       "      <td>19.0</td>\n",
       "      <td>34.373825</td>\n",
       "    </tr>\n",
       "    <tr>\n",
       "      <th>9</th>\n",
       "      <td>Fresno</td>\n",
       "      <td>13564.0</td>\n",
       "      <td>63454.0</td>\n",
       "      <td>213.761150</td>\n",
       "      <td>290.0</td>\n",
       "      <td>81.860876</td>\n",
       "      <td>1061.0</td>\n",
       "      <td>47329.0</td>\n",
       "      <td>22.417545</td>\n",
       "      <td>48.0</td>\n",
       "      <td>82.372330</td>\n",
       "    </tr>\n",
       "    <tr>\n",
       "      <th>10</th>\n",
       "      <td>Glenn</td>\n",
       "      <td>305.0</td>\n",
       "      <td>1729.0</td>\n",
       "      <td>176.402545</td>\n",
       "      <td>10.0</td>\n",
       "      <td>60.323887</td>\n",
       "      <td>48.0</td>\n",
       "      <td>1308.0</td>\n",
       "      <td>36.697248</td>\n",
       "      <td>3.0</td>\n",
       "      <td>62.461774</td>\n",
       "    </tr>\n",
       "    <tr>\n",
       "      <th>11</th>\n",
       "      <td>Humboldt</td>\n",
       "      <td>1797.0</td>\n",
       "      <td>6221.0</td>\n",
       "      <td>288.860312</td>\n",
       "      <td>53.0</td>\n",
       "      <td>38.884424</td>\n",
       "      <td>148.0</td>\n",
       "      <td>4551.0</td>\n",
       "      <td>32.520325</td>\n",
       "      <td>6.0</td>\n",
       "      <td>38.694792</td>\n",
       "    </tr>\n",
       "    <tr>\n",
       "      <th>12</th>\n",
       "      <td>Imperial</td>\n",
       "      <td>2659.0</td>\n",
       "      <td>10981.0</td>\n",
       "      <td>242.145524</td>\n",
       "      <td>56.0</td>\n",
       "      <td>92.268464</td>\n",
       "      <td>145.0</td>\n",
       "      <td>8118.0</td>\n",
       "      <td>17.861542</td>\n",
       "      <td>7.0</td>\n",
       "      <td>92.793792</td>\n",
       "    </tr>\n",
       "    <tr>\n",
       "      <th>13</th>\n",
       "      <td>Inyo</td>\n",
       "      <td>327.0</td>\n",
       "      <td>837.0</td>\n",
       "      <td>390.681004</td>\n",
       "      <td>14.0</td>\n",
       "      <td>58.781362</td>\n",
       "      <td>NaN</td>\n",
       "      <td>655.0</td>\n",
       "      <td>NaN</td>\n",
       "      <td>NaN</td>\n",
       "      <td>57.404580</td>\n",
       "    </tr>\n",
       "    <tr>\n",
       "      <th>14</th>\n",
       "      <td>Kern</td>\n",
       "      <td>10807.0</td>\n",
       "      <td>57922.0</td>\n",
       "      <td>186.578502</td>\n",
       "      <td>188.0</td>\n",
       "      <td>74.904181</td>\n",
       "      <td>578.0</td>\n",
       "      <td>43784.0</td>\n",
       "      <td>13.201169</td>\n",
       "      <td>31.0</td>\n",
       "      <td>75.411109</td>\n",
       "    </tr>\n",
       "    <tr>\n",
       "      <th>15</th>\n",
       "      <td>Kings</td>\n",
       "      <td>1731.0</td>\n",
       "      <td>10207.0</td>\n",
       "      <td>169.589497</td>\n",
       "      <td>42.0</td>\n",
       "      <td>76.183012</td>\n",
       "      <td>65.0</td>\n",
       "      <td>7782.0</td>\n",
       "      <td>8.352609</td>\n",
       "      <td>4.0</td>\n",
       "      <td>75.931637</td>\n",
       "    </tr>\n",
       "    <tr>\n",
       "      <th>16</th>\n",
       "      <td>Lake</td>\n",
       "      <td>583.0</td>\n",
       "      <td>2959.0</td>\n",
       "      <td>197.026022</td>\n",
       "      <td>20.0</td>\n",
       "      <td>45.353160</td>\n",
       "      <td>78.0</td>\n",
       "      <td>2181.0</td>\n",
       "      <td>35.763411</td>\n",
       "      <td>3.0</td>\n",
       "      <td>46.538285</td>\n",
       "    </tr>\n",
       "    <tr>\n",
       "      <th>17</th>\n",
       "      <td>Lassen</td>\n",
       "      <td>344.0</td>\n",
       "      <td>1255.0</td>\n",
       "      <td>274.103586</td>\n",
       "      <td>11.0</td>\n",
       "      <td>29.482072</td>\n",
       "      <td>22.0</td>\n",
       "      <td>990.0</td>\n",
       "      <td>22.222222</td>\n",
       "      <td>2.0</td>\n",
       "      <td>33.030303</td>\n",
       "    </tr>\n",
       "    <tr>\n",
       "      <th>18</th>\n",
       "      <td>Los Angeles</td>\n",
       "      <td>160580.0</td>\n",
       "      <td>516583.0</td>\n",
       "      <td>310.850338</td>\n",
       "      <td>2641.0</td>\n",
       "      <td>83.368984</td>\n",
       "      <td>9823.0</td>\n",
       "      <td>388055.0</td>\n",
       "      <td>25.313422</td>\n",
       "      <td>430.0</td>\n",
       "      <td>83.625002</td>\n",
       "    </tr>\n",
       "    <tr>\n",
       "      <th>19</th>\n",
       "      <td>Madera</td>\n",
       "      <td>1781.0</td>\n",
       "      <td>9748.0</td>\n",
       "      <td>182.704144</td>\n",
       "      <td>50.0</td>\n",
       "      <td>80.170291</td>\n",
       "      <td>70.0</td>\n",
       "      <td>7077.0</td>\n",
       "      <td>9.891197</td>\n",
       "      <td>5.0</td>\n",
       "      <td>81.065423</td>\n",
       "    </tr>\n",
       "    <tr>\n",
       "      <th>20</th>\n",
       "      <td>Marin</td>\n",
       "      <td>6131.0</td>\n",
       "      <td>11915.0</td>\n",
       "      <td>514.561477</td>\n",
       "      <td>122.0</td>\n",
       "      <td>38.942509</td>\n",
       "      <td>339.0</td>\n",
       "      <td>8078.0</td>\n",
       "      <td>41.965833</td>\n",
       "      <td>17.0</td>\n",
       "      <td>42.510522</td>\n",
       "    </tr>\n",
       "    <tr>\n",
       "      <th>21</th>\n",
       "      <td>Mariposa</td>\n",
       "      <td>123.0</td>\n",
       "      <td>634.0</td>\n",
       "      <td>194.006309</td>\n",
       "      <td>6.0</td>\n",
       "      <td>30.283912</td>\n",
       "      <td>NaN</td>\n",
       "      <td>462.0</td>\n",
       "      <td>NaN</td>\n",
       "      <td>NaN</td>\n",
       "      <td>27.922078</td>\n",
       "    </tr>\n",
       "    <tr>\n",
       "      <th>22</th>\n",
       "      <td>Mendocino</td>\n",
       "      <td>1226.0</td>\n",
       "      <td>4299.0</td>\n",
       "      <td>285.182601</td>\n",
       "      <td>37.0</td>\n",
       "      <td>53.849732</td>\n",
       "      <td>36.0</td>\n",
       "      <td>3178.0</td>\n",
       "      <td>11.327879</td>\n",
       "      <td>3.0</td>\n",
       "      <td>53.398364</td>\n",
       "    </tr>\n",
       "    <tr>\n",
       "      <th>23</th>\n",
       "      <td>Merced</td>\n",
       "      <td>3285.0</td>\n",
       "      <td>18077.0</td>\n",
       "      <td>181.722631</td>\n",
       "      <td>76.0</td>\n",
       "      <td>81.423909</td>\n",
       "      <td>259.0</td>\n",
       "      <td>12994.0</td>\n",
       "      <td>19.932276</td>\n",
       "      <td>16.0</td>\n",
       "      <td>81.406803</td>\n",
       "    </tr>\n",
       "    <tr>\n",
       "      <th>24</th>\n",
       "      <td>Modoc</td>\n",
       "      <td>173.0</td>\n",
       "      <td>422.0</td>\n",
       "      <td>409.952607</td>\n",
       "      <td>7.0</td>\n",
       "      <td>31.990521</td>\n",
       "      <td>24.0</td>\n",
       "      <td>317.0</td>\n",
       "      <td>75.709779</td>\n",
       "      <td>2.0</td>\n",
       "      <td>30.283912</td>\n",
       "    </tr>\n",
       "    <tr>\n",
       "      <th>25</th>\n",
       "      <td>Mono</td>\n",
       "      <td>184.0</td>\n",
       "      <td>708.0</td>\n",
       "      <td>259.887006</td>\n",
       "      <td>7.0</td>\n",
       "      <td>55.649718</td>\n",
       "      <td>52.0</td>\n",
       "      <td>533.0</td>\n",
       "      <td>97.560976</td>\n",
       "      <td>3.0</td>\n",
       "      <td>57.223265</td>\n",
       "    </tr>\n",
       "    <tr>\n",
       "      <th>26</th>\n",
       "      <td>Monterey</td>\n",
       "      <td>5455.0</td>\n",
       "      <td>26146.0</td>\n",
       "      <td>208.636120</td>\n",
       "      <td>126.0</td>\n",
       "      <td>84.158189</td>\n",
       "      <td>357.0</td>\n",
       "      <td>19529.0</td>\n",
       "      <td>18.280506</td>\n",
       "      <td>20.0</td>\n",
       "      <td>84.556301</td>\n",
       "    </tr>\n",
       "    <tr>\n",
       "      <th>27</th>\n",
       "      <td>Napa</td>\n",
       "      <td>1996.0</td>\n",
       "      <td>6676.0</td>\n",
       "      <td>298.981426</td>\n",
       "      <td>52.0</td>\n",
       "      <td>64.979029</td>\n",
       "      <td>109.0</td>\n",
       "      <td>4741.0</td>\n",
       "      <td>22.990930</td>\n",
       "      <td>5.0</td>\n",
       "      <td>66.062012</td>\n",
       "    </tr>\n",
       "    <tr>\n",
       "      <th>28</th>\n",
       "      <td>Nevada</td>\n",
       "      <td>1097.0</td>\n",
       "      <td>3629.0</td>\n",
       "      <td>302.287131</td>\n",
       "      <td>30.0</td>\n",
       "      <td>24.138881</td>\n",
       "      <td>108.0</td>\n",
       "      <td>2564.0</td>\n",
       "      <td>42.121685</td>\n",
       "      <td>5.0</td>\n",
       "      <td>27.457098</td>\n",
       "    </tr>\n",
       "    <tr>\n",
       "      <th>29</th>\n",
       "      <td>Orange</td>\n",
       "      <td>51563.0</td>\n",
       "      <td>157120.0</td>\n",
       "      <td>328.175916</td>\n",
       "      <td>761.0</td>\n",
       "      <td>71.049516</td>\n",
       "      <td>3818.0</td>\n",
       "      <td>113361.0</td>\n",
       "      <td>33.680013</td>\n",
       "      <td>165.0</td>\n",
       "      <td>72.344104</td>\n",
       "    </tr>\n",
       "    <tr>\n",
       "      <th>30</th>\n",
       "      <td>Placer</td>\n",
       "      <td>5147.0</td>\n",
       "      <td>17627.0</td>\n",
       "      <td>291.995235</td>\n",
       "      <td>99.0</td>\n",
       "      <td>35.610144</td>\n",
       "      <td>689.0</td>\n",
       "      <td>12064.0</td>\n",
       "      <td>57.112069</td>\n",
       "      <td>29.0</td>\n",
       "      <td>36.812003</td>\n",
       "    </tr>\n",
       "    <tr>\n",
       "      <th>31</th>\n",
       "      <td>Plumas</td>\n",
       "      <td>236.0</td>\n",
       "      <td>748.0</td>\n",
       "      <td>315.508021</td>\n",
       "      <td>9.0</td>\n",
       "      <td>26.069519</td>\n",
       "      <td>12.0</td>\n",
       "      <td>534.0</td>\n",
       "      <td>22.471910</td>\n",
       "      <td>1.0</td>\n",
       "      <td>27.340824</td>\n",
       "    </tr>\n",
       "    <tr>\n",
       "      <th>32</th>\n",
       "      <td>Riverside</td>\n",
       "      <td>24073.0</td>\n",
       "      <td>133445.0</td>\n",
       "      <td>180.396418</td>\n",
       "      <td>364.0</td>\n",
       "      <td>75.857469</td>\n",
       "      <td>1952.0</td>\n",
       "      <td>95543.0</td>\n",
       "      <td>20.430591</td>\n",
       "      <td>79.0</td>\n",
       "      <td>76.145819</td>\n",
       "    </tr>\n",
       "    <tr>\n",
       "      <th>33</th>\n",
       "      <td>Sacramento</td>\n",
       "      <td>22825.0</td>\n",
       "      <td>81973.0</td>\n",
       "      <td>278.445342</td>\n",
       "      <td>420.0</td>\n",
       "      <td>66.436510</td>\n",
       "      <td>2849.0</td>\n",
       "      <td>59821.0</td>\n",
       "      <td>47.625416</td>\n",
       "      <td>122.0</td>\n",
       "      <td>66.697314</td>\n",
       "    </tr>\n",
       "    <tr>\n",
       "      <th>34</th>\n",
       "      <td>San Benito</td>\n",
       "      <td>859.0</td>\n",
       "      <td>3417.0</td>\n",
       "      <td>251.390108</td>\n",
       "      <td>20.0</td>\n",
       "      <td>77.699737</td>\n",
       "      <td>29.0</td>\n",
       "      <td>2348.0</td>\n",
       "      <td>12.350937</td>\n",
       "      <td>3.0</td>\n",
       "      <td>78.875639</td>\n",
       "    </tr>\n",
       "    <tr>\n",
       "      <th>35</th>\n",
       "      <td>San Bernardino</td>\n",
       "      <td>22914.0</td>\n",
       "      <td>128387.0</td>\n",
       "      <td>178.476014</td>\n",
       "      <td>395.0</td>\n",
       "      <td>79.422371</td>\n",
       "      <td>1901.0</td>\n",
       "      <td>94281.0</td>\n",
       "      <td>20.163129</td>\n",
       "      <td>84.0</td>\n",
       "      <td>79.114562</td>\n",
       "    </tr>\n",
       "    <tr>\n",
       "      <th>36</th>\n",
       "      <td>San Diego</td>\n",
       "      <td>53599.0</td>\n",
       "      <td>161978.0</td>\n",
       "      <td>330.902962</td>\n",
       "      <td>859.0</td>\n",
       "      <td>66.888713</td>\n",
       "      <td>4549.0</td>\n",
       "      <td>122267.0</td>\n",
       "      <td>37.205460</td>\n",
       "      <td>198.0</td>\n",
       "      <td>66.731825</td>\n",
       "    </tr>\n",
       "    <tr>\n",
       "      <th>37</th>\n",
       "      <td>San Francisco</td>\n",
       "      <td>14329.0</td>\n",
       "      <td>26130.0</td>\n",
       "      <td>548.373517</td>\n",
       "      <td>278.0</td>\n",
       "      <td>68.606965</td>\n",
       "      <td>1316.0</td>\n",
       "      <td>22409.0</td>\n",
       "      <td>58.726405</td>\n",
       "      <td>51.0</td>\n",
       "      <td>63.577134</td>\n",
       "    </tr>\n",
       "    <tr>\n",
       "      <th>38</th>\n",
       "      <td>San Joaquin</td>\n",
       "      <td>10092.0</td>\n",
       "      <td>44461.0</td>\n",
       "      <td>226.985448</td>\n",
       "      <td>218.0</td>\n",
       "      <td>79.287465</td>\n",
       "      <td>828.0</td>\n",
       "      <td>31806.0</td>\n",
       "      <td>26.032824</td>\n",
       "      <td>37.0</td>\n",
       "      <td>79.657926</td>\n",
       "    </tr>\n",
       "    <tr>\n",
       "      <th>39</th>\n",
       "      <td>San Luis Obispo</td>\n",
       "      <td>3512.0</td>\n",
       "      <td>10991.0</td>\n",
       "      <td>319.534164</td>\n",
       "      <td>89.0</td>\n",
       "      <td>46.201438</td>\n",
       "      <td>205.0</td>\n",
       "      <td>7845.0</td>\n",
       "      <td>26.131294</td>\n",
       "      <td>9.0</td>\n",
       "      <td>46.692161</td>\n",
       "    </tr>\n",
       "    <tr>\n",
       "      <th>40</th>\n",
       "      <td>San Mateo</td>\n",
       "      <td>14799.0</td>\n",
       "      <td>37173.0</td>\n",
       "      <td>398.111533</td>\n",
       "      <td>260.0</td>\n",
       "      <td>68.533613</td>\n",
       "      <td>1171.0</td>\n",
       "      <td>27690.0</td>\n",
       "      <td>42.289635</td>\n",
       "      <td>39.0</td>\n",
       "      <td>70.278079</td>\n",
       "    </tr>\n",
       "    <tr>\n",
       "      <th>41</th>\n",
       "      <td>Santa Barbara</td>\n",
       "      <td>6425.0</td>\n",
       "      <td>22120.0</td>\n",
       "      <td>290.461121</td>\n",
       "      <td>149.0</td>\n",
       "      <td>73.268535</td>\n",
       "      <td>446.0</td>\n",
       "      <td>16335.0</td>\n",
       "      <td>27.303336</td>\n",
       "      <td>19.0</td>\n",
       "      <td>74.551576</td>\n",
       "    </tr>\n",
       "    <tr>\n",
       "      <th>42</th>\n",
       "      <td>Santa Clara</td>\n",
       "      <td>41281.0</td>\n",
       "      <td>100993.0</td>\n",
       "      <td>408.751102</td>\n",
       "      <td>602.0</td>\n",
       "      <td>78.010357</td>\n",
       "      <td>3808.0</td>\n",
       "      <td>73761.0</td>\n",
       "      <td>51.626198</td>\n",
       "      <td>130.0</td>\n",
       "      <td>79.373924</td>\n",
       "    </tr>\n",
       "    <tr>\n",
       "      <th>43</th>\n",
       "      <td>Santa Cruz</td>\n",
       "      <td>3544.0</td>\n",
       "      <td>12167.0</td>\n",
       "      <td>291.279691</td>\n",
       "      <td>97.0</td>\n",
       "      <td>62.135284</td>\n",
       "      <td>384.0</td>\n",
       "      <td>8907.0</td>\n",
       "      <td>43.112159</td>\n",
       "      <td>23.0</td>\n",
       "      <td>62.725946</td>\n",
       "    </tr>\n",
       "    <tr>\n",
       "      <th>44</th>\n",
       "      <td>Shasta</td>\n",
       "      <td>2719.0</td>\n",
       "      <td>8315.0</td>\n",
       "      <td>326.999399</td>\n",
       "      <td>70.0</td>\n",
       "      <td>29.368611</td>\n",
       "      <td>235.0</td>\n",
       "      <td>6102.0</td>\n",
       "      <td>38.511963</td>\n",
       "      <td>12.0</td>\n",
       "      <td>29.400197</td>\n",
       "    </tr>\n",
       "    <tr>\n",
       "      <th>45</th>\n",
       "      <td>Sierra</td>\n",
       "      <td>30.0</td>\n",
       "      <td>108.0</td>\n",
       "      <td>277.777778</td>\n",
       "      <td>1.0</td>\n",
       "      <td>19.444444</td>\n",
       "      <td>NaN</td>\n",
       "      <td>92.0</td>\n",
       "      <td>NaN</td>\n",
       "      <td>NaN</td>\n",
       "      <td>27.173913</td>\n",
       "    </tr>\n",
       "    <tr>\n",
       "      <th>46</th>\n",
       "      <td>Siskiyou</td>\n",
       "      <td>663.0</td>\n",
       "      <td>2004.0</td>\n",
       "      <td>330.838323</td>\n",
       "      <td>22.0</td>\n",
       "      <td>34.780439</td>\n",
       "      <td>56.0</td>\n",
       "      <td>1478.0</td>\n",
       "      <td>37.889039</td>\n",
       "      <td>4.0</td>\n",
       "      <td>37.077131</td>\n",
       "    </tr>\n",
       "    <tr>\n",
       "      <th>47</th>\n",
       "      <td>Solano</td>\n",
       "      <td>4135.0</td>\n",
       "      <td>21735.0</td>\n",
       "      <td>190.246147</td>\n",
       "      <td>93.0</td>\n",
       "      <td>72.850242</td>\n",
       "      <td>399.0</td>\n",
       "      <td>15978.0</td>\n",
       "      <td>24.971836</td>\n",
       "      <td>15.0</td>\n",
       "      <td>73.313306</td>\n",
       "    </tr>\n",
       "    <tr>\n",
       "      <th>48</th>\n",
       "      <td>Sonoma</td>\n",
       "      <td>6139.0</td>\n",
       "      <td>23097.0</td>\n",
       "      <td>265.792094</td>\n",
       "      <td>145.0</td>\n",
       "      <td>56.435901</td>\n",
       "      <td>286.0</td>\n",
       "      <td>16540.0</td>\n",
       "      <td>17.291415</td>\n",
       "      <td>17.0</td>\n",
       "      <td>57.793229</td>\n",
       "    </tr>\n",
       "    <tr>\n",
       "      <th>49</th>\n",
       "      <td>Stanislaus</td>\n",
       "      <td>6347.0</td>\n",
       "      <td>32313.0</td>\n",
       "      <td>196.422492</td>\n",
       "      <td>128.0</td>\n",
       "      <td>69.588091</td>\n",
       "      <td>513.0</td>\n",
       "      <td>23638.0</td>\n",
       "      <td>21.702344</td>\n",
       "      <td>30.0</td>\n",
       "      <td>69.785938</td>\n",
       "    </tr>\n",
       "    <tr>\n",
       "      <th>50</th>\n",
       "      <td>Sutter</td>\n",
       "      <td>1428.0</td>\n",
       "      <td>5895.0</td>\n",
       "      <td>242.239186</td>\n",
       "      <td>33.0</td>\n",
       "      <td>63.935539</td>\n",
       "      <td>119.0</td>\n",
       "      <td>4202.0</td>\n",
       "      <td>28.319848</td>\n",
       "      <td>7.0</td>\n",
       "      <td>65.230842</td>\n",
       "    </tr>\n",
       "    <tr>\n",
       "      <th>51</th>\n",
       "      <td>Tehama</td>\n",
       "      <td>765.0</td>\n",
       "      <td>3539.0</td>\n",
       "      <td>216.162758</td>\n",
       "      <td>25.0</td>\n",
       "      <td>44.221532</td>\n",
       "      <td>74.0</td>\n",
       "      <td>2587.0</td>\n",
       "      <td>28.604561</td>\n",
       "      <td>4.0</td>\n",
       "      <td>45.728643</td>\n",
       "    </tr>\n",
       "    <tr>\n",
       "      <th>52</th>\n",
       "      <td>Trinity</td>\n",
       "      <td>109.0</td>\n",
       "      <td>535.0</td>\n",
       "      <td>203.738318</td>\n",
       "      <td>5.0</td>\n",
       "      <td>27.663551</td>\n",
       "      <td>NaN</td>\n",
       "      <td>335.0</td>\n",
       "      <td>NaN</td>\n",
       "      <td>NaN</td>\n",
       "      <td>25.671642</td>\n",
       "    </tr>\n",
       "    <tr>\n",
       "      <th>53</th>\n",
       "      <td>Tulare</td>\n",
       "      <td>5719.0</td>\n",
       "      <td>33044.0</td>\n",
       "      <td>173.072267</td>\n",
       "      <td>117.0</td>\n",
       "      <td>81.999758</td>\n",
       "      <td>133.0</td>\n",
       "      <td>24589.0</td>\n",
       "      <td>5.408923</td>\n",
       "      <td>5.0</td>\n",
       "      <td>82.992395</td>\n",
       "    </tr>\n",
       "    <tr>\n",
       "      <th>54</th>\n",
       "      <td>Tuolumne</td>\n",
       "      <td>652.0</td>\n",
       "      <td>1956.0</td>\n",
       "      <td>333.333333</td>\n",
       "      <td>18.0</td>\n",
       "      <td>25.766871</td>\n",
       "      <td>37.0</td>\n",
       "      <td>1345.0</td>\n",
       "      <td>27.509294</td>\n",
       "      <td>3.0</td>\n",
       "      <td>25.353160</td>\n",
       "    </tr>\n",
       "    <tr>\n",
       "      <th>55</th>\n",
       "      <td>Ventura</td>\n",
       "      <td>13616.0</td>\n",
       "      <td>45414.0</td>\n",
       "      <td>299.819439</td>\n",
       "      <td>217.0</td>\n",
       "      <td>68.914872</td>\n",
       "      <td>1040.0</td>\n",
       "      <td>32452.0</td>\n",
       "      <td>32.047331</td>\n",
       "      <td>35.0</td>\n",
       "      <td>70.565759</td>\n",
       "    </tr>\n",
       "    <tr>\n",
       "      <th>56</th>\n",
       "      <td>Yolo</td>\n",
       "      <td>3411.0</td>\n",
       "      <td>10130.0</td>\n",
       "      <td>336.722606</td>\n",
       "      <td>73.0</td>\n",
       "      <td>64.264561</td>\n",
       "      <td>302.0</td>\n",
       "      <td>7372.0</td>\n",
       "      <td>40.965817</td>\n",
       "      <td>19.0</td>\n",
       "      <td>65.504612</td>\n",
       "    </tr>\n",
       "    <tr>\n",
       "      <th>57</th>\n",
       "      <td>Yuba</td>\n",
       "      <td>964.0</td>\n",
       "      <td>4949.0</td>\n",
       "      <td>194.786826</td>\n",
       "      <td>20.0</td>\n",
       "      <td>55.021216</td>\n",
       "      <td>43.0</td>\n",
       "      <td>3736.0</td>\n",
       "      <td>11.509636</td>\n",
       "      <td>3.0</td>\n",
       "      <td>55.139186</td>\n",
       "    </tr>\n",
       "  </tbody>\n",
       "</table>\n",
       "</div>"
      ],
      "text/plain": [
       "             county  daycare_slots_child_facility_capacity  \\\n",
       "0           Alameda                                30404.0   \n",
       "2            Amador                                  320.0   \n",
       "3             Butte                                 2984.0   \n",
       "4         Calaveras                                  471.0   \n",
       "5            Colusa                                  306.0   \n",
       "6      Contra Costa                                18271.0   \n",
       "7         Del Norte                                  277.0   \n",
       "8         El Dorado                                 2718.0   \n",
       "9            Fresno                                13564.0   \n",
       "10            Glenn                                  305.0   \n",
       "11         Humboldt                                 1797.0   \n",
       "12         Imperial                                 2659.0   \n",
       "13             Inyo                                  327.0   \n",
       "14             Kern                                10807.0   \n",
       "15            Kings                                 1731.0   \n",
       "16             Lake                                  583.0   \n",
       "17           Lassen                                  344.0   \n",
       "18      Los Angeles                               160580.0   \n",
       "19           Madera                                 1781.0   \n",
       "20            Marin                                 6131.0   \n",
       "21         Mariposa                                  123.0   \n",
       "22        Mendocino                                 1226.0   \n",
       "23           Merced                                 3285.0   \n",
       "24            Modoc                                  173.0   \n",
       "25             Mono                                  184.0   \n",
       "26         Monterey                                 5455.0   \n",
       "27             Napa                                 1996.0   \n",
       "28           Nevada                                 1097.0   \n",
       "29           Orange                                51563.0   \n",
       "30           Placer                                 5147.0   \n",
       "31           Plumas                                  236.0   \n",
       "32        Riverside                                24073.0   \n",
       "33       Sacramento                                22825.0   \n",
       "34       San Benito                                  859.0   \n",
       "35   San Bernardino                                22914.0   \n",
       "36        San Diego                                53599.0   \n",
       "37    San Francisco                                14329.0   \n",
       "38      San Joaquin                                10092.0   \n",
       "39  San Luis Obispo                                 3512.0   \n",
       "40        San Mateo                                14799.0   \n",
       "41    Santa Barbara                                 6425.0   \n",
       "42      Santa Clara                                41281.0   \n",
       "43       Santa Cruz                                 3544.0   \n",
       "44           Shasta                                 2719.0   \n",
       "45           Sierra                                   30.0   \n",
       "46         Siskiyou                                  663.0   \n",
       "47           Solano                                 4135.0   \n",
       "48           Sonoma                                 6139.0   \n",
       "49       Stanislaus                                 6347.0   \n",
       "50           Sutter                                 1428.0   \n",
       "51           Tehama                                  765.0   \n",
       "52          Trinity                                  109.0   \n",
       "53           Tulare                                 5719.0   \n",
       "54         Tuolumne                                  652.0   \n",
       "55          Ventura                                13616.0   \n",
       "56             Yolo                                 3411.0   \n",
       "57             Yuba                                  964.0   \n",
       "\n",
       "    daycare_slots_child_total_pop  daycare_slots_child_rate_slots  \\\n",
       "0                         78508.0                      387.272635   \n",
       "2                          1202.0                      266.222962   \n",
       "3                          9973.0                      299.207861   \n",
       "4                          1673.0                      281.530185   \n",
       "5                          1506.0                      203.187251   \n",
       "6                         56056.0                      325.941915   \n",
       "7                          1346.0                      205.794948   \n",
       "8                          8201.0                      331.422997   \n",
       "9                         63454.0                      213.761150   \n",
       "10                         1729.0                      176.402545   \n",
       "11                         6221.0                      288.860312   \n",
       "12                        10981.0                      242.145524   \n",
       "13                          837.0                      390.681004   \n",
       "14                        57922.0                      186.578502   \n",
       "15                        10207.0                      169.589497   \n",
       "16                         2959.0                      197.026022   \n",
       "17                         1255.0                      274.103586   \n",
       "18                       516583.0                      310.850338   \n",
       "19                         9748.0                      182.704144   \n",
       "20                        11915.0                      514.561477   \n",
       "21                          634.0                      194.006309   \n",
       "22                         4299.0                      285.182601   \n",
       "23                        18077.0                      181.722631   \n",
       "24                          422.0                      409.952607   \n",
       "25                          708.0                      259.887006   \n",
       "26                        26146.0                      208.636120   \n",
       "27                         6676.0                      298.981426   \n",
       "28                         3629.0                      302.287131   \n",
       "29                       157120.0                      328.175916   \n",
       "30                        17627.0                      291.995235   \n",
       "31                          748.0                      315.508021   \n",
       "32                       133445.0                      180.396418   \n",
       "33                        81973.0                      278.445342   \n",
       "34                         3417.0                      251.390108   \n",
       "35                       128387.0                      178.476014   \n",
       "36                       161978.0                      330.902962   \n",
       "37                        26130.0                      548.373517   \n",
       "38                        44461.0                      226.985448   \n",
       "39                        10991.0                      319.534164   \n",
       "40                        37173.0                      398.111533   \n",
       "41                        22120.0                      290.461121   \n",
       "42                       100993.0                      408.751102   \n",
       "43                        12167.0                      291.279691   \n",
       "44                         8315.0                      326.999399   \n",
       "45                          108.0                      277.777778   \n",
       "46                         2004.0                      330.838323   \n",
       "47                        21735.0                      190.246147   \n",
       "48                        23097.0                      265.792094   \n",
       "49                        32313.0                      196.422492   \n",
       "50                         5895.0                      242.239186   \n",
       "51                         3539.0                      216.162758   \n",
       "52                          535.0                      203.738318   \n",
       "53                        33044.0                      173.072267   \n",
       "54                         1956.0                      333.333333   \n",
       "55                        45414.0                      299.819439   \n",
       "56                        10130.0                      336.722606   \n",
       "57                         4949.0                      194.786826   \n",
       "\n",
       "    daycare_slots_child_num_facility  daycare_slots_child_pct_nonwhite  \\\n",
       "0                              528.0                         78.641667   \n",
       "2                               14.0                         28.785358   \n",
       "3                               74.0                         41.441893   \n",
       "4                               18.0                         25.702331   \n",
       "5                               11.0                         79.150066   \n",
       "6                              320.0                         67.241687   \n",
       "7                               10.0                         47.176820   \n",
       "8                               62.0                         33.556883   \n",
       "9                              290.0                         81.860876   \n",
       "10                              10.0                         60.323887   \n",
       "11                              53.0                         38.884424   \n",
       "12                              56.0                         92.268464   \n",
       "13                              14.0                         58.781362   \n",
       "14                             188.0                         74.904181   \n",
       "15                              42.0                         76.183012   \n",
       "16                              20.0                         45.353160   \n",
       "17                              11.0                         29.482072   \n",
       "18                            2641.0                         83.368984   \n",
       "19                              50.0                         80.170291   \n",
       "20                             122.0                         38.942509   \n",
       "21                               6.0                         30.283912   \n",
       "22                              37.0                         53.849732   \n",
       "23                              76.0                         81.423909   \n",
       "24                               7.0                         31.990521   \n",
       "25                               7.0                         55.649718   \n",
       "26                             126.0                         84.158189   \n",
       "27                              52.0                         64.979029   \n",
       "28                              30.0                         24.138881   \n",
       "29                             761.0                         71.049516   \n",
       "30                              99.0                         35.610144   \n",
       "31                               9.0                         26.069519   \n",
       "32                             364.0                         75.857469   \n",
       "33                             420.0                         66.436510   \n",
       "34                              20.0                         77.699737   \n",
       "35                             395.0                         79.422371   \n",
       "36                             859.0                         66.888713   \n",
       "37                             278.0                         68.606965   \n",
       "38                             218.0                         79.287465   \n",
       "39                              89.0                         46.201438   \n",
       "40                             260.0                         68.533613   \n",
       "41                             149.0                         73.268535   \n",
       "42                             602.0                         78.010357   \n",
       "43                              97.0                         62.135284   \n",
       "44                              70.0                         29.368611   \n",
       "45                               1.0                         19.444444   \n",
       "46                              22.0                         34.780439   \n",
       "47                              93.0                         72.850242   \n",
       "48                             145.0                         56.435901   \n",
       "49                             128.0                         69.588091   \n",
       "50                              33.0                         63.935539   \n",
       "51                              25.0                         44.221532   \n",
       "52                               5.0                         27.663551   \n",
       "53                             117.0                         81.999758   \n",
       "54                              18.0                         25.766871   \n",
       "55                             217.0                         68.914872   \n",
       "56                              73.0                         64.264561   \n",
       "57                              20.0                         55.021216   \n",
       "\n",
       "    daycare_slots_infant_facility_capacity  daycare_slots_infant_total_pop  \\\n",
       "0                                   2252.0                         58612.0   \n",
       "2                                     24.0                           834.0   \n",
       "3                                    443.0                          7322.0   \n",
       "4                                     52.0                          1156.0   \n",
       "5                                    110.0                          1097.0   \n",
       "6                                   1785.0                         38823.0   \n",
       "7                                     20.0                           972.0   \n",
       "8                                    275.0                          5318.0   \n",
       "9                                   1061.0                         47329.0   \n",
       "10                                    48.0                          1308.0   \n",
       "11                                   148.0                          4551.0   \n",
       "12                                   145.0                          8118.0   \n",
       "13                                     NaN                           655.0   \n",
       "14                                   578.0                         43784.0   \n",
       "15                                    65.0                          7782.0   \n",
       "16                                    78.0                          2181.0   \n",
       "17                                    22.0                           990.0   \n",
       "18                                  9823.0                        388055.0   \n",
       "19                                    70.0                          7077.0   \n",
       "20                                   339.0                          8078.0   \n",
       "21                                     NaN                           462.0   \n",
       "22                                    36.0                          3178.0   \n",
       "23                                   259.0                         12994.0   \n",
       "24                                    24.0                           317.0   \n",
       "25                                    52.0                           533.0   \n",
       "26                                   357.0                         19529.0   \n",
       "27                                   109.0                          4741.0   \n",
       "28                                   108.0                          2564.0   \n",
       "29                                  3818.0                        113361.0   \n",
       "30                                   689.0                         12064.0   \n",
       "31                                    12.0                           534.0   \n",
       "32                                  1952.0                         95543.0   \n",
       "33                                  2849.0                         59821.0   \n",
       "34                                    29.0                          2348.0   \n",
       "35                                  1901.0                         94281.0   \n",
       "36                                  4549.0                        122267.0   \n",
       "37                                  1316.0                         22409.0   \n",
       "38                                   828.0                         31806.0   \n",
       "39                                   205.0                          7845.0   \n",
       "40                                  1171.0                         27690.0   \n",
       "41                                   446.0                         16335.0   \n",
       "42                                  3808.0                         73761.0   \n",
       "43                                   384.0                          8907.0   \n",
       "44                                   235.0                          6102.0   \n",
       "45                                     NaN                            92.0   \n",
       "46                                    56.0                          1478.0   \n",
       "47                                   399.0                         15978.0   \n",
       "48                                   286.0                         16540.0   \n",
       "49                                   513.0                         23638.0   \n",
       "50                                   119.0                          4202.0   \n",
       "51                                    74.0                          2587.0   \n",
       "52                                     NaN                           335.0   \n",
       "53                                   133.0                         24589.0   \n",
       "54                                    37.0                          1345.0   \n",
       "55                                  1040.0                         32452.0   \n",
       "56                                   302.0                          7372.0   \n",
       "57                                    43.0                          3736.0   \n",
       "\n",
       "    daycare_slots_infant_rate_slots  daycare_slots_infant_num_facility  \\\n",
       "0                         38.422166                               98.0   \n",
       "2                         28.776978                                2.0   \n",
       "3                         60.502595                               25.0   \n",
       "4                         44.982699                                3.0   \n",
       "5                        100.273473                                4.0   \n",
       "6                         45.977900                               73.0   \n",
       "7                         20.576132                                1.0   \n",
       "8                         51.711170                               19.0   \n",
       "9                         22.417545                               48.0   \n",
       "10                        36.697248                                3.0   \n",
       "11                        32.520325                                6.0   \n",
       "12                        17.861542                                7.0   \n",
       "13                              NaN                                NaN   \n",
       "14                        13.201169                               31.0   \n",
       "15                         8.352609                                4.0   \n",
       "16                        35.763411                                3.0   \n",
       "17                        22.222222                                2.0   \n",
       "18                        25.313422                              430.0   \n",
       "19                         9.891197                                5.0   \n",
       "20                        41.965833                               17.0   \n",
       "21                              NaN                                NaN   \n",
       "22                        11.327879                                3.0   \n",
       "23                        19.932276                               16.0   \n",
       "24                        75.709779                                2.0   \n",
       "25                        97.560976                                3.0   \n",
       "26                        18.280506                               20.0   \n",
       "27                        22.990930                                5.0   \n",
       "28                        42.121685                                5.0   \n",
       "29                        33.680013                              165.0   \n",
       "30                        57.112069                               29.0   \n",
       "31                        22.471910                                1.0   \n",
       "32                        20.430591                               79.0   \n",
       "33                        47.625416                              122.0   \n",
       "34                        12.350937                                3.0   \n",
       "35                        20.163129                               84.0   \n",
       "36                        37.205460                              198.0   \n",
       "37                        58.726405                               51.0   \n",
       "38                        26.032824                               37.0   \n",
       "39                        26.131294                                9.0   \n",
       "40                        42.289635                               39.0   \n",
       "41                        27.303336                               19.0   \n",
       "42                        51.626198                              130.0   \n",
       "43                        43.112159                               23.0   \n",
       "44                        38.511963                               12.0   \n",
       "45                              NaN                                NaN   \n",
       "46                        37.889039                                4.0   \n",
       "47                        24.971836                               15.0   \n",
       "48                        17.291415                               17.0   \n",
       "49                        21.702344                               30.0   \n",
       "50                        28.319848                                7.0   \n",
       "51                        28.604561                                4.0   \n",
       "52                              NaN                                NaN   \n",
       "53                         5.408923                                5.0   \n",
       "54                        27.509294                                3.0   \n",
       "55                        32.047331                               35.0   \n",
       "56                        40.965817                               19.0   \n",
       "57                        11.509636                                3.0   \n",
       "\n",
       "    daycare_slots_infant_pct_nonwhite  \n",
       "0                           78.787620  \n",
       "2                           28.057554  \n",
       "3                           42.024037  \n",
       "4                           25.346021  \n",
       "5                           80.948040  \n",
       "6                           68.894727  \n",
       "7                           48.868313  \n",
       "8                           34.373825  \n",
       "9                           82.372330  \n",
       "10                          62.461774  \n",
       "11                          38.694792  \n",
       "12                          92.793792  \n",
       "13                          57.404580  \n",
       "14                          75.411109  \n",
       "15                          75.931637  \n",
       "16                          46.538285  \n",
       "17                          33.030303  \n",
       "18                          83.625002  \n",
       "19                          81.065423  \n",
       "20                          42.510522  \n",
       "21                          27.922078  \n",
       "22                          53.398364  \n",
       "23                          81.406803  \n",
       "24                          30.283912  \n",
       "25                          57.223265  \n",
       "26                          84.556301  \n",
       "27                          66.062012  \n",
       "28                          27.457098  \n",
       "29                          72.344104  \n",
       "30                          36.812003  \n",
       "31                          27.340824  \n",
       "32                          76.145819  \n",
       "33                          66.697314  \n",
       "34                          78.875639  \n",
       "35                          79.114562  \n",
       "36                          66.731825  \n",
       "37                          63.577134  \n",
       "38                          79.657926  \n",
       "39                          46.692161  \n",
       "40                          70.278079  \n",
       "41                          74.551576  \n",
       "42                          79.373924  \n",
       "43                          62.725946  \n",
       "44                          29.400197  \n",
       "45                          27.173913  \n",
       "46                          37.077131  \n",
       "47                          73.313306  \n",
       "48                          57.793229  \n",
       "49                          69.785938  \n",
       "50                          65.230842  \n",
       "51                          45.728643  \n",
       "52                          25.671642  \n",
       "53                          82.992395  \n",
       "54                          25.353160  \n",
       "55                          70.565759  \n",
       "56                          65.504612  \n",
       "57                          55.139186  "
      ]
     },
     "execution_count": 36,
     "metadata": {},
     "output_type": "execute_result"
    }
   ],
   "source": [
    "daycare_slots"
   ]
  },
  {
   "cell_type": "code",
   "execution_count": 37,
   "id": "a147cd03-039a-482e-aa9d-0fc7a646c95e",
   "metadata": {},
   "outputs": [],
   "source": [
    "# Save to csv \n",
    "daycare_slots.to_csv('./03_output/daycare_slots_eks.csv', index = False)"
   ]
  },
  {
   "cell_type": "markdown",
   "id": "9fa7db59-3f1f-4b67-b805-76e88e605df5",
   "metadata": {},
   "source": [
    "#### E-cigarettes"
   ]
  },
  {
   "cell_type": "code",
   "execution_count": 38,
   "id": "fc8cc116-45cb-47ed-a642-1e3f4a3290d1",
   "metadata": {},
   "outputs": [
    {
     "data": {
      "text/plain": [
       "(186, 5)"
      ]
     },
     "execution_count": 38,
     "metadata": {},
     "output_type": "execute_result"
    }
   ],
   "source": [
    "# Read it in\n",
    "ecig_availability = pd.read_csv('./01_original_datasets/ecig_availability.csv')\n",
    "\n",
    "# Rename columns\n",
    "col_names = [col.lower().replace(' ', '_') for col in list(ecig_availability.columns)]\n",
    "col_names = [col.lower().replace('-', '_') for col in col_names]\n",
    "ecig_availability.columns = col_names\n",
    "col_names = {\n",
    "  'percentage': 'ecigs_percentage_tobacco_stores_that_sell',\n",
    "  'lower95ci': 'ecigs_lower95ci', 'upper95ci': 'ecigs_upper95ci'}\n",
    "ecig_availability.rename(columns = col_names, inplace = True)\n",
    "\n",
    "# Get the shape\n",
    "ecig_availability.shape"
   ]
  },
  {
   "cell_type": "code",
   "execution_count": 39,
   "id": "a5a89c26-110a-4cd8-93ed-fc0082d94098",
   "metadata": {},
   "outputs": [
    {
     "name": "stdout",
     "output_type": "stream",
     "text": [
      "====================\n",
      "county\n",
      "62\n",
      "====================\n",
      "year\n",
      "3\n",
      "====================\n",
      "ecigs_percentage_tobacco_stores_that_sell\n",
      "63\n",
      "====================\n",
      "ecigs_lower95ci\n",
      "60\n",
      "====================\n",
      "ecigs_upper95ci\n",
      "44\n"
     ]
    }
   ],
   "source": [
    "# Take a look at the column counts\n",
    "col_counts(ecig_availability)"
   ]
  },
  {
   "cell_type": "code",
   "execution_count": 40,
   "id": "8056e25a-ebed-419a-ac87-599ef0d6c2ee",
   "metadata": {},
   "outputs": [
    {
     "data": {
      "text/plain": [
       "(116, 3)"
      ]
     },
     "execution_count": 40,
     "metadata": {},
     "output_type": "execute_result"
    }
   ],
   "source": [
    "# 2015 only - this dataset comes in 3 year intervals. We evaluated 2013 and 2016.\n",
    "ecig_availability = ecig_availability[ecig_availability['year']!=2019]\n",
    "\n",
    "# Real counties only - several cities were evaluated on their own\n",
    "ecig_availability = ecig_availability[ecig_availability['county']!='STATEWIDE'] \n",
    "ecig_availability = ecig_availability[ecig_availability['county']!='Berkeley'] \n",
    "ecig_availability = ecig_availability[ecig_availability['county']!='Long Beach'] \n",
    "ecig_availability = ecig_availability[ecig_availability['county']!='Pasadena'] \n",
    "\n",
    "# Drop unnecessary columns\n",
    "ecig_availability.drop(columns = ['ecigs_lower95ci', 'ecigs_upper95ci'], inplace = True)\n",
    "\n",
    "# Get the shape\n",
    "ecig_availability.shape"
   ]
  },
  {
   "cell_type": "code",
   "execution_count": 41,
   "id": "55868017-208e-4d63-a2ee-dbab0def44e0",
   "metadata": {},
   "outputs": [
    {
     "data": {
      "text/html": [
       "<div>\n",
       "<style scoped>\n",
       "    .dataframe tbody tr th:only-of-type {\n",
       "        vertical-align: middle;\n",
       "    }\n",
       "\n",
       "    .dataframe tbody tr th {\n",
       "        vertical-align: top;\n",
       "    }\n",
       "\n",
       "    .dataframe thead th {\n",
       "        text-align: right;\n",
       "    }\n",
       "</style>\n",
       "<table border=\"1\" class=\"dataframe\">\n",
       "  <thead>\n",
       "    <tr style=\"text-align: right;\">\n",
       "      <th></th>\n",
       "      <th>county</th>\n",
       "      <th>year</th>\n",
       "      <th>ecigs_percentage_tobacco_stores_that_sell</th>\n",
       "    </tr>\n",
       "    <tr>\n",
       "      <th>year</th>\n",
       "      <th></th>\n",
       "      <th></th>\n",
       "      <th></th>\n",
       "    </tr>\n",
       "  </thead>\n",
       "  <tbody>\n",
       "    <tr>\n",
       "      <th>2013</th>\n",
       "      <td>0</td>\n",
       "      <td>0</td>\n",
       "      <td>0</td>\n",
       "    </tr>\n",
       "    <tr>\n",
       "      <th>2016</th>\n",
       "      <td>0</td>\n",
       "      <td>0</td>\n",
       "      <td>0</td>\n",
       "    </tr>\n",
       "  </tbody>\n",
       "</table>\n",
       "</div>"
      ],
      "text/plain": [
       "      county  year  ecigs_percentage_tobacco_stores_that_sell\n",
       "year                                                         \n",
       "2013       0     0                                          0\n",
       "2016       0     0                                          0"
      ]
     },
     "execution_count": 41,
     "metadata": {},
     "output_type": "execute_result"
    }
   ],
   "source": [
    "# Look for missing data - see if either year is better\n",
    "ecig_availability.isna().groupby(ecig_availability['year']).sum()"
   ]
  },
  {
   "cell_type": "code",
   "execution_count": 42,
   "id": "2df37b91-2495-4d35-9f16-ad918b588a51",
   "metadata": {},
   "outputs": [
    {
     "data": {
      "text/plain": [
       "(58, 3)"
      ]
     },
     "execution_count": 42,
     "metadata": {},
     "output_type": "execute_result"
    }
   ],
   "source": [
    "# Convert the rows for 2013 and 2016 into columns\n",
    "\n",
    "# Split them up\n",
    "ecigs_2013 = ecig_availability[ecig_availability['year']==2013] \n",
    "ecigs_2016 = ecig_availability[ecig_availability['year']==2016]\n",
    "\n",
    "# Drop columns\n",
    "ecigs_2013.drop(columns = ['year'], inplace = True)\n",
    "ecigs_2016.drop(columns = ['year'], inplace = True)\n",
    "\n",
    "# Rename the columns\n",
    "ecigs_2013.columns = ['county', 'ecigs_sold_pct_tobacco_stores_2013']\n",
    "ecigs_2016.columns = ['county', 'ecigs_sold_pct_tobacco_stores_2016']\n",
    "\n",
    "# Merge them back together\n",
    "ecig_availability = ecigs_2016.merge(ecigs_2013, \n",
    "  left_on = 'county', right_on = 'county', how = 'left')\n",
    "\n",
    "#Get the shape\n",
    "ecig_availability.shape"
   ]
  },
  {
   "cell_type": "code",
   "execution_count": 43,
   "id": "0cbdfb57-7f9a-4e60-bd06-8be8998f81fc",
   "metadata": {},
   "outputs": [],
   "source": [
    "# Drop Alpine County\n",
    "ecig_availability = ecig_availability[ecig_availability['county']!='Alpine']"
   ]
  },
  {
   "cell_type": "code",
   "execution_count": 44,
   "id": "3b2058ce-4393-4996-a4dd-479b90e28e81",
   "metadata": {},
   "outputs": [],
   "source": [
    "# Save to csv\n",
    "ecig_availability.to_csv('./03_output/ecig_availability_eks.csv', index = False)"
   ]
  },
  {
   "cell_type": "markdown",
   "id": "b207c1a4-f396-40a3-8888-574e0b33706a",
   "metadata": {},
   "source": [
    "#### Poverty Rate"
   ]
  },
  {
   "cell_type": "code",
   "execution_count": 45,
   "id": "d66f23b1-29f2-4ad5-addb-e3a64431cca0",
   "metadata": {},
   "outputs": [
    {
     "data": {
      "text/plain": [
       "(32005, 26)"
      ]
     },
     "execution_count": 45,
     "metadata": {},
     "output_type": "execute_result"
    }
   ],
   "source": [
    "# Read it in\n",
    "poverty_rate = pd.read_csv('./01_original_datasets/poverty_rate.csv')\n",
    "\n",
    "# Get the shape\n",
    "poverty_rate.shape"
   ]
  },
  {
   "cell_type": "code",
   "execution_count": 46,
   "id": "56eac25c-88bf-405d-82ba-155e53bd728f",
   "metadata": {},
   "outputs": [
    {
     "data": {
      "text/plain": [
       "(693, 26)"
      ]
     },
     "execution_count": 46,
     "metadata": {},
     "output_type": "execute_result"
    }
   ],
   "source": [
    "# Real counties only\n",
    "poverty_rate = poverty_rate[poverty_rate['geotype']=='CO']\n",
    "\n",
    "# Get the shape\n",
    "poverty_rate.shape"
   ]
  },
  {
   "cell_type": "code",
   "execution_count": 47,
   "id": "e0123e94-4f4b-473b-b4c2-3426244964f7",
   "metadata": {},
   "outputs": [
    {
     "data": {
      "text/plain": [
       "(693, 17)"
      ]
     },
     "execution_count": 47,
     "metadata": {},
     "output_type": "execute_result"
    }
   ],
   "source": [
    "# Drop columns, round 1\n",
    "drop_cols = ['ind_id', 'ind_definition', 'geotype', 'geoname', 'version',\n",
    "  'region_name', 'strata_two_code', 'strata_two_name', 'ca_decile']\n",
    "poverty_rate.drop(columns = drop_cols, inplace = True)\n",
    "\n",
    "# Get the shape\n",
    "poverty_rate.shape"
   ]
  },
  {
   "cell_type": "code",
   "execution_count": 48,
   "id": "fd73561b-305c-4aec-a075-a5b304f4edc8",
   "metadata": {},
   "outputs": [
    {
     "data": {
      "text/plain": [
       "(693, 17)"
      ]
     },
     "execution_count": 48,
     "metadata": {},
     "output_type": "execute_result"
    }
   ],
   "source": [
    "# Rename columns\n",
    "col_names = [f'povr_{col}' for col in poverty_rate.columns]\n",
    "poverty_rate.columns = col_names\n",
    "col_names = {'povr_county_fips': 'county_fips',\n",
    "    'povr_reportyear': 'year', 'povr_county_name': 'county'}\n",
    "poverty_rate.rename(columns = col_names, inplace = True)\n",
    "\n",
    "# Get the shape\n",
    "poverty_rate.shape"
   ]
  },
  {
   "cell_type": "code",
   "execution_count": 49,
   "id": "c02720d2-3161-4e7b-96d5-a16fd9d74c19",
   "metadata": {
    "scrolled": true
   },
   "outputs": [
    {
     "name": "stdout",
     "output_type": "stream",
     "text": [
      "====================\n",
      "year\n",
      "2\n",
      "====================\n",
      "povr_race_eth_code\n",
      "9\n",
      "====================\n",
      "povr_race_eth_name\n",
      "9\n",
      "====================\n",
      "povr_geotypevalue\n",
      "58\n",
      "====================\n",
      "county\n",
      "58\n",
      "====================\n",
      "county_fips\n",
      "58\n",
      "====================\n",
      "povr_region_code\n",
      "14\n",
      "====================\n",
      "povr_strata_one_code\n",
      "2\n",
      "====================\n",
      "povr_strata_one_name\n",
      "2\n",
      "====================\n",
      "povr_numerator\n",
      "660\n",
      "====================\n",
      "povr_denominator\n",
      "680\n",
      "====================\n",
      "povr_estimate\n",
      "683\n",
      "====================\n",
      "povr_ll_95ci\n",
      "657\n",
      "====================\n",
      "povr_ul_95ci\n",
      "655\n",
      "====================\n",
      "povr_se\n",
      "681\n",
      "====================\n",
      "povr_rse\n",
      "681\n",
      "====================\n",
      "povr_ca_rr\n",
      "685\n"
     ]
    }
   ],
   "source": [
    "# Take a look at the column counts\n",
    "col_counts(poverty_rate)"
   ]
  },
  {
   "cell_type": "code",
   "execution_count": 50,
   "id": "6af39cdc-7ab9-4d43-a274-6a93dd69b56a",
   "metadata": {},
   "outputs": [
    {
     "data": {
      "text/plain": [
       "year                     0\n",
       "povr_race_eth_code       0\n",
       "povr_race_eth_name       0\n",
       "povr_geotypevalue        0\n",
       "county                   0\n",
       "county_fips              0\n",
       "povr_region_code         0\n",
       "povr_strata_one_code     0\n",
       "povr_strata_one_name     0\n",
       "povr_numerator           0\n",
       "povr_denominator         0\n",
       "povr_estimate            0\n",
       "povr_ll_95ci            12\n",
       "povr_ul_95ci            12\n",
       "povr_se                 12\n",
       "povr_rse                12\n",
       "povr_ca_rr               0\n",
       "dtype: int64"
      ]
     },
     "execution_count": 50,
     "metadata": {},
     "output_type": "execute_result"
    }
   ],
   "source": [
    "# Look for missing data\n",
    "poverty_rate.isna().sum()"
   ]
  },
  {
   "cell_type": "markdown",
   "id": "5830df8e-f7e9-48d3-b13a-4904b4a0f841",
   "metadata": {},
   "source": [
    "This dataset came with up 18 rows per county - 2 report years (one for child poverty, one for overall poverty), and 9 race/ethnicity categories.  Each of these combinations needs to be converted to a column rather than a row."
   ]
  },
  {
   "cell_type": "code",
   "execution_count": 51,
   "id": "6062a982-faa4-4c90-a4a4-c90ea90376fb",
   "metadata": {},
   "outputs": [
    {
     "data": {
      "text/plain": [
       "((400, 11), (293, 14))"
      ]
     },
     "execution_count": 51,
     "metadata": {},
     "output_type": "execute_result"
    }
   ],
   "source": [
    "# Split them up by year/type\n",
    "pov_kids = poverty_rate[poverty_rate['povr_strata_one_code']==1] \n",
    "pov_whole = poverty_rate[poverty_rate['povr_strata_one_code']==3] \n",
    "\n",
    "# Drop differentiating columns\n",
    "pov_kids.drop(columns = ['povr_strata_one_name', 'povr_strata_one_code', 'year'], inplace = True)\n",
    "pov_whole.drop(columns = ['povr_strata_one_name', 'povr_strata_one_code', 'year'], inplace = True)\n",
    "\n",
    "# Rename the columns\n",
    "pov_kids.columns = [\n",
    "  'povr_kids_race_eth_code', 'povr_kids_race_eth_name', 'povr_geotypevalue',\n",
    "  'county', 'county_fips', 'povr_region_code', 'povr_kids_numerator', \n",
    "  'povr_kids_denominator', 'povr_kids_estimate', 'povr_kids_ll_95ci',\n",
    "  'povr_kids_ul_95ci', 'povr_kids_se', 'povr_kids_rse', 'povr_kids_ca_rr']\n",
    "\n",
    "# Drop some more columns\n",
    "whole_drop = ['county_fips', 'povr_region_code', 'povr_geotypevalue']\n",
    "pov_whole.drop(columns = whole_drop, inplace = True)\n",
    "\n",
    "# Rename some more columns\n",
    "pov_whole.columns = [\n",
    "  'povr_whole_race_eth_code', 'povr_whole_race_eth_name', 'county', \n",
    "  'povr_whole_numerator', 'povr_whole_denominator', 'povr_whole_estimate', \n",
    "  'povr_whole_ll_95ci', 'povr_whole_ul_95ci', 'povr_whole_se', \n",
    "  'povr_whole_rse', 'povr_whole_ca_rr']\n",
    "\n",
    "# Get the shapes\n",
    "pov_whole.shape, pov_kids.shape"
   ]
  },
  {
   "cell_type": "code",
   "execution_count": 52,
   "id": "eb8697ad-7627-4a01-8749-ba7039baa376",
   "metadata": {},
   "outputs": [],
   "source": [
    "# Split them up by race\n",
    "pov_kids['povr_kids_race_eth_code'].unique() #n=9\n",
    "pov_whole['povr_whole_race_eth_code'].unique() #n=9\n",
    "\n",
    "# Drop redundant columns\n",
    "pov_kids.drop(columns = ['povr_kids_race_eth_name'], inplace = True)\n",
    "pov_whole.drop(columns = ['povr_whole_race_eth_name'], inplace = True)\n",
    "\n",
    "# Kids first\n",
    "pov_kids_1 = pov_kids[pov_kids['povr_kids_race_eth_code']==1] # continental native\n",
    "pov_kids_2 = pov_kids[pov_kids['povr_kids_race_eth_code']==2] # Asian\n",
    "pov_kids_3 = pov_kids[pov_kids['povr_kids_race_eth_code']==3] # Black or AA\n",
    "pov_kids_4 = pov_kids[pov_kids['povr_kids_race_eth_code']==4] # Latine\n",
    "pov_kids_5 = pov_kids[pov_kids['povr_kids_race_eth_code']==5] # island native\n",
    "pov_kids_6 = pov_kids[pov_kids['povr_kids_race_eth_code']==6] # white\n",
    "pov_kids_7 = pov_kids[pov_kids['povr_kids_race_eth_code']==7] # multiple\n",
    "pov_kids_8 = pov_kids[pov_kids['povr_kids_race_eth_code']==8] # other\n",
    "pov_kids_9 = pov_kids[pov_kids['povr_kids_race_eth_code']==9] # total"
   ]
  },
  {
   "cell_type": "code",
   "execution_count": 53,
   "id": "f4d7fb07-39ac-46b5-8909-f6aee5dcaf59",
   "metadata": {},
   "outputs": [
    {
     "name": "stdout",
     "output_type": "stream",
     "text": [
      "(34, 13)\n",
      "(34, 13)\n",
      "(34, 13)\n",
      "(29, 13)\n",
      "(34, 13)\n",
      "(34, 13)\n",
      "(27, 13)\n",
      "(34, 13)\n"
     ]
    }
   ],
   "source": [
    "# Get the shapes\n",
    "\n",
    "# kinds = ['kids', 'whole']\n",
    "# nums = list(range(2, 10))\n",
    "# for i in kinds:\n",
    "#   print('')\n",
    "#   for j in nums:\n",
    "# \t  print(f'print(pov_{i}_{j}.shape)')\n",
    "\n",
    "print(pov_kids_2.shape)\n",
    "print(pov_kids_3.shape)\n",
    "print(pov_kids_4.shape)\n",
    "print(pov_kids_5.shape)\n",
    "print(pov_kids_6.shape)\n",
    "print(pov_kids_7.shape)\n",
    "print(pov_kids_8.shape)\n",
    "print(pov_kids_9.shape)"
   ]
  },
  {
   "cell_type": "code",
   "execution_count": 54,
   "id": "9434a868-8028-4204-87a4-d188635c316b",
   "metadata": {},
   "outputs": [
    {
     "data": {
      "text/plain": [
       "Index(['povr_geotypevalue', 'county', 'county_fips', 'povr_region_code',\n",
       "       'povr_kids_cont_native_numerator', 'povr_kids_cont_native_denominator',\n",
       "       'povr_kids_cont_native_estimate', 'povr_kids_cont_native_ll_95ci',\n",
       "       'povr_kids_cont_native_ul_95ci', 'povr_kids_cont_native_se',\n",
       "       'povr_kids_cont_native_rse', 'povr_kids_cont_native_ca_rr'],\n",
       "      dtype='object')"
      ]
     },
     "execution_count": 54,
     "metadata": {},
     "output_type": "execute_result"
    }
   ],
   "source": [
    "# Drop the differentiating column\n",
    "#for i in list(range(1, 10)): print(f\"pov_kids_{i}.drop(columns = ['povr_kids_race_eth_code'], inplace = True)\")\n",
    "pov_kids_1.drop(columns = ['povr_kids_race_eth_code'], inplace = True)\n",
    "pov_kids_2.drop(columns = ['povr_kids_race_eth_code'], inplace = True)\n",
    "pov_kids_3.drop(columns = ['povr_kids_race_eth_code'], inplace = True)\n",
    "pov_kids_4.drop(columns = ['povr_kids_race_eth_code'], inplace = True)\n",
    "pov_kids_5.drop(columns = ['povr_kids_race_eth_code'], inplace = True)\n",
    "pov_kids_6.drop(columns = ['povr_kids_race_eth_code'], inplace = True)\n",
    "pov_kids_7.drop(columns = ['povr_kids_race_eth_code'], inplace = True)\n",
    "pov_kids_8.drop(columns = ['povr_kids_race_eth_code'], inplace = True)\n",
    "pov_kids_9.drop(columns = ['povr_kids_race_eth_code'], inplace = True)\n",
    "\n",
    "# Rename the first set of columns\n",
    "pov_kids_1.columns = [\n",
    "    'povr_geotypevalue', 'county', 'county_fips', 'povr_region_code', \n",
    "    'povr_kids_cont_native_numerator', 'povr_kids_cont_native_denominator',\n",
    "    'povr_kids_cont_native_estimate', 'povr_kids_cont_native_ll_95ci', \n",
    "    'povr_kids_cont_native_ul_95ci', 'povr_kids_cont_native_se', \n",
    "    'povr_kids_cont_native_rse', 'povr_kids_cont_native_ca_rr']\n",
    "pov_kids_1.columns"
   ]
  },
  {
   "cell_type": "code",
   "execution_count": 55,
   "id": "0fdd442d-6198-4df3-91ff-b7d2510a56f8",
   "metadata": {},
   "outputs": [],
   "source": [
    "# Drop redundant columns in all but 1 df\n",
    "# for i in list(range(2, 10)):\n",
    "#   print(f'pov_kids_{i}.drop(columns = whole_drop, inplace = True)')\n",
    "\n",
    "pov_kids_2.drop(columns = whole_drop, inplace = True)\n",
    "pov_kids_3.drop(columns = whole_drop, inplace = True)\n",
    "pov_kids_4.drop(columns = whole_drop, inplace = True)\n",
    "pov_kids_5.drop(columns = whole_drop, inplace = True)\n",
    "pov_kids_6.drop(columns = whole_drop, inplace = True)\n",
    "pov_kids_7.drop(columns = whole_drop, inplace = True)\n",
    "pov_kids_8.drop(columns = whole_drop, inplace = True)\n",
    "pov_kids_9.drop(columns = whole_drop, inplace = True)"
   ]
  },
  {
   "cell_type": "code",
   "execution_count": 56,
   "id": "39165e1c-04c3-4026-8e2f-fbce94a82834",
   "metadata": {},
   "outputs": [],
   "source": [
    "# Rename columns in n>1 dfs\n",
    "\n",
    "# Define the components of the names\n",
    "races = ['asian', 'black', 'latine', 'island_native', \n",
    "  'white', 'multiracial', 'other_race', 'total']\n",
    "\n",
    "cols = ['povr_numerator', 'povr_denominator', \n",
    "  'povr_estimate', 'povr_ll_95ci', 'povr_ul_95ci', \n",
    "  'povr_se', 'povr_rse', 'povr_ca_rr',]\n",
    "\n",
    "kinds = ['kids', 'whole']\n",
    "\n",
    "nums = list(range(2, 10))\n",
    "\n",
    "# Commented out because the output is long\n",
    "\n",
    "# Generate the column names\n",
    "# for i in kinds:\n",
    "# \tprint('')\n",
    "# \tthese_cols = []\n",
    "# \tfor j in cols:\n",
    "# \t\tc = j.replace('povr', f'povr_{i}') # povr_{kind}_variable_name\n",
    "# \t\tthese_cols.append(c)\n",
    "# \tfor k, m in zip(nums, races):\n",
    "# \t  specific_cols = ['county']\n",
    "# \t  for n in these_cols:\n",
    "# \t    p = n.split('_')\n",
    "# \t    a = ('_'.join([p[0], p[1]])) # povr_{kind}\n",
    "# \t    b = ('_'.join(p[2:]))  # variable name\n",
    "# \t    d = ('_'.join([a, m, b])) # povr_{kind}_{race}_variable_name\n",
    "# \t    specific_cols.append(d)\n",
    "# \t  print(f'pov_{i}_{k}.columns = {specific_cols}') # pov_{kind}_{race code}.col...\n",
    "# \t  print('')"
   ]
  },
  {
   "cell_type": "code",
   "execution_count": 57,
   "id": "328e5bf4-a897-4fd5-b58d-fb18b6c5758b",
   "metadata": {},
   "outputs": [],
   "source": [
    "# Use that output to rename the columns\n",
    "pov_kids_2.columns = ['county', 'povr_kids_asian_numerator', 'povr_kids_asian_denominator', 'povr_kids_asian_estimate', 'povr_kids_asian_ll_95ci', 'povr_kids_asian_ul_95ci', 'povr_kids_asian_se', 'povr_kids_asian_rse', 'povr_kids_asian_ca_rr']\n",
    "pov_kids_3.columns = ['county', 'povr_kids_black_numerator', 'povr_kids_black_denominator', 'povr_kids_black_estimate', 'povr_kids_black_ll_95ci', 'povr_kids_black_ul_95ci', 'povr_kids_black_se', 'povr_kids_black_rse', 'povr_kids_black_ca_rr']\n",
    "pov_kids_4.columns = ['county', 'povr_kids_latine_numerator', 'povr_kids_latine_denominator', 'povr_kids_latine_estimate', 'povr_kids_latine_ll_95ci', 'povr_kids_latine_ul_95ci', 'povr_kids_latine_se', 'povr_kids_latine_rse', 'povr_kids_latine_ca_rr']\n",
    "pov_kids_5.columns = ['county', 'povr_kids_island_native_numerator', 'povr_kids_island_native_denominator', 'povr_kids_island_native_estimate', 'povr_kids_island_native_ll_95ci', 'povr_kids_island_native_ul_95ci', 'povr_kids_island_native_se', 'povr_kids_island_native_rse', 'povr_kids_island_native_ca_rr']\n",
    "pov_kids_6.columns = ['county', 'povr_kids_white_numerator', 'povr_kids_white_denominator', 'povr_kids_white_estimate', 'povr_kids_white_ll_95ci', 'povr_kids_white_ul_95ci', 'povr_kids_white_se', 'povr_kids_white_rse', 'povr_kids_white_ca_rr']\n",
    "pov_kids_7.columns = ['county', 'povr_kids_multiracial_numerator', 'povr_kids_multiracial_denominator', 'povr_kids_multiracial_estimate', 'povr_kids_multiracial_ll_95ci', 'povr_kids_multiracial_ul_95ci', 'povr_kids_multiracial_se', 'povr_kids_multiracial_rse', 'povr_kids_multiracial_ca_rr']\n",
    "pov_kids_8.columns = ['county', 'povr_kids_other_race_numerator', 'povr_kids_other_race_denominator', 'povr_kids_other_race_estimate', 'povr_kids_other_race_ll_95ci', 'povr_kids_other_race_ul_95ci', 'povr_kids_other_race_se', 'povr_kids_other_race_rse', 'povr_kids_other_race_ca_rr']\n",
    "pov_kids_9.columns = ['county', 'povr_kids_total_numerator', 'povr_kids_total_denominator', 'povr_kids_total_estimate', 'povr_kids_total_ll_95ci', 'povr_kids_total_ul_95ci', 'povr_kids_total_se', 'povr_kids_total_rse', 'povr_kids_total_ca_rr']"
   ]
  },
  {
   "cell_type": "markdown",
   "id": "51063526-ae0e-4b96-be7a-cfba3497c9a9",
   "metadata": {},
   "source": [
    "These sub-dfs don't have every county listed.  The easiest way to join them back together is with a base dataframe that does have all the counties listed."
   ]
  },
  {
   "cell_type": "code",
   "execution_count": 58,
   "id": "9dd0748b-e49c-4637-81c1-4164bb75490d",
   "metadata": {},
   "outputs": [
    {
     "data": {
      "text/plain": [
       "(57, 1)"
      ]
     },
     "execution_count": 58,
     "metadata": {},
     "output_type": "execute_result"
    }
   ],
   "source": [
    "# Create a base\n",
    "counties = abortion_counts[['county']]\n",
    "counties.shape"
   ]
  },
  {
   "cell_type": "code",
   "execution_count": 59,
   "id": "a02f9b20-befd-495f-89c1-2dbdff5d42b5",
   "metadata": {},
   "outputs": [
    {
     "data": {
      "text/plain": [
       "(57, 76)"
      ]
     },
     "execution_count": 59,
     "metadata": {},
     "output_type": "execute_result"
    }
   ],
   "source": [
    "# Merge them back together\n",
    "# goal: (57, 76)\n",
    "poverty = counties.merge(\n",
    "  pov_kids_2, on = 'county', how = 'left').merge(\n",
    "    pov_kids_1, on = 'county', how = 'left').merge(\n",
    "    pov_kids_3, on = 'county', how = 'left').merge(\n",
    "    pov_kids_4, on = 'county', how = 'left').merge(\n",
    "    pov_kids_5, on = 'county', how = 'left').merge(\n",
    "    pov_kids_6, on = 'county', how = 'left').merge(\n",
    "    pov_kids_7, on = 'county', how = 'left').merge(\n",
    "    pov_kids_8, on = 'county', how = 'left').merge(\n",
    "    pov_kids_9, on = 'county', how = 'left')\n",
    "\n",
    "# Moment of truth\n",
    "poverty.shape"
   ]
  },
  {
   "cell_type": "code",
   "execution_count": 60,
   "id": "fb6dff40-631c-4c62-803b-cf0786dfba68",
   "metadata": {},
   "outputs": [],
   "source": [
    "# Put it back under its own name\n",
    "pov_kids = poverty.copy(deep=True)"
   ]
  },
  {
   "cell_type": "code",
   "execution_count": 61,
   "id": "abf7ddb3-493f-46d8-9a06-545243dbc9bf",
   "metadata": {},
   "outputs": [
    {
     "name": "stdout",
     "output_type": "stream",
     "text": [
      "(47, 10)\n",
      "(44, 10)\n",
      "(56, 10)\n",
      "(21, 10)\n",
      "(58, 10)\n",
      "(50, 10)\n",
      "(19, 10)\n",
      "(58, 10)\n"
     ]
    }
   ],
   "source": [
    "# now whole\n",
    "\n",
    "# Split them\n",
    "\n",
    "# Commented out long output\n",
    "# a = '''\n",
    "# pov_kids_1 = pov_kids[pov_kids['povr_kids_race_eth_code']==1] # continental native\n",
    "# pov_kids_2 = pov_kids[pov_kids['povr_kids_race_eth_code']==2] # Asian\n",
    "# pov_kids_3 = pov_kids[pov_kids['povr_kids_race_eth_code']==3] # Black or AA\n",
    "# pov_kids_4 = pov_kids[pov_kids['povr_kids_race_eth_code']==4] # Latine\n",
    "# pov_kids_5 = pov_kids[pov_kids['povr_kids_race_eth_code']==5] # island native\n",
    "# pov_kids_6 = pov_kids[pov_kids['povr_kids_race_eth_code']==6] # white\n",
    "# pov_kids_7 = pov_kids[pov_kids['povr_kids_race_eth_code']==7] # multiple\n",
    "# pov_kids_8 = pov_kids[pov_kids['povr_kids_race_eth_code']==8] # other\n",
    "# pov_kids_9 = pov_kids[pov_kids['povr_kids_race_eth_code']==9] # total\n",
    "# '''\n",
    "# print(a.replace('_kids', '_whole'))\n",
    "\n",
    "# Use that output to do the splits\n",
    "pov_whole_1 = pov_whole[pov_whole['povr_whole_race_eth_code']==1] # continental native\n",
    "pov_whole_2 = pov_whole[pov_whole['povr_whole_race_eth_code']==2] # Asian\n",
    "pov_whole_3 = pov_whole[pov_whole['povr_whole_race_eth_code']==3] # Black or AA\n",
    "pov_whole_4 = pov_whole[pov_whole['povr_whole_race_eth_code']==4] # Latine\n",
    "pov_whole_5 = pov_whole[pov_whole['povr_whole_race_eth_code']==5] # island native\n",
    "pov_whole_6 = pov_whole[pov_whole['povr_whole_race_eth_code']==6] # white\n",
    "pov_whole_7 = pov_whole[pov_whole['povr_whole_race_eth_code']==7] # multiple\n",
    "pov_whole_8 = pov_whole[pov_whole['povr_whole_race_eth_code']==8] # other\n",
    "pov_whole_9 = pov_whole[pov_whole['povr_whole_race_eth_code']==9] # total\n",
    "\n",
    "# Get the shapes with code generated above\n",
    "print(pov_whole_2.shape)\n",
    "print(pov_whole_3.shape)\n",
    "print(pov_whole_4.shape)\n",
    "print(pov_whole_5.shape)\n",
    "print(pov_whole_6.shape)\n",
    "print(pov_whole_7.shape)\n",
    "print(pov_whole_8.shape)\n",
    "print(pov_whole_9.shape)"
   ]
  },
  {
   "cell_type": "markdown",
   "id": "5bde9e7b-2647-430d-bfcc-556e69d930f5",
   "metadata": {},
   "source": [
    "Number 6 has all 58 (for now) counties, so that will be the base onto which all other dataframes are merged."
   ]
  },
  {
   "cell_type": "code",
   "execution_count": 62,
   "id": "e2224be3-2916-4548-848f-a2a79a79c166",
   "metadata": {},
   "outputs": [],
   "source": [
    "# Drop the differentiating column\n",
    "\n",
    "# Generate the code, then comment out the long output\n",
    "# a = '''\n",
    "# pov_kids_1.drop(columns = ['povr_kids_race_eth_code'], inplace = True)\n",
    "# pov_kids_2.drop(columns = ['povr_kids_race_eth_code'], inplace = True)\n",
    "# pov_kids_3.drop(columns = ['povr_kids_race_eth_code'], inplace = True)\n",
    "# pov_kids_4.drop(columns = ['povr_kids_race_eth_code'], inplace = True)\n",
    "# pov_kids_5.drop(columns = ['povr_kids_race_eth_code'], inplace = True)\n",
    "# pov_kids_6.drop(columns = ['povr_kids_race_eth_code'], inplace = True)\n",
    "# pov_kids_7.drop(columns = ['povr_kids_race_eth_code'], inplace = True)\n",
    "# pov_kids_8.drop(columns = ['povr_kids_race_eth_code'], inplace = True)\n",
    "# pov_kids_9.drop(columns = ['povr_kids_race_eth_code'], inplace = True)\n",
    "# '''\n",
    "# print(a.replace('_kids', '_whole'))\n",
    "\n",
    "# Use the output to do the drops\n",
    "pov_whole_1.drop(columns = ['povr_whole_race_eth_code'], inplace = True)\n",
    "pov_whole_2.drop(columns = ['povr_whole_race_eth_code'], inplace = True)\n",
    "pov_whole_3.drop(columns = ['povr_whole_race_eth_code'], inplace = True)\n",
    "pov_whole_4.drop(columns = ['povr_whole_race_eth_code'], inplace = True)\n",
    "pov_whole_5.drop(columns = ['povr_whole_race_eth_code'], inplace = True)\n",
    "pov_whole_6.drop(columns = ['povr_whole_race_eth_code'], inplace = True)\n",
    "pov_whole_7.drop(columns = ['povr_whole_race_eth_code'], inplace = True)\n",
    "pov_whole_8.drop(columns = ['povr_whole_race_eth_code'], inplace = True)\n",
    "pov_whole_9.drop(columns = ['povr_whole_race_eth_code'], inplace = True)"
   ]
  },
  {
   "cell_type": "code",
   "execution_count": 63,
   "id": "41f474a9-ef2c-47d9-947f-3f3fd6275dd4",
   "metadata": {},
   "outputs": [
    {
     "name": "stdout",
     "output_type": "stream",
     "text": [
      "\n",
      "'povr_whole_cont_native_numerator', 'povr_whole_cont_native_denominator', \n",
      "  'povr_whole_cont_native_estimate', 'povr_whole_cont_native_ll_95ci', \n",
      "  'povr_whole_cont_native_ul_95ci', 'povr_whole_cont_native_se', \n",
      "  'povr_whole_cont_native_rse', 'povr_whole_cont_native_ca_rr']\n",
      "  \n"
     ]
    }
   ],
   "source": [
    "# Rename the \"first\" set of columns\n",
    "pov_whole_6.columns = [\n",
    "  'county', 'povr_whole_white_numerator', 'povr_whole_white_denominator', 'povr_whole_white_estimate', 'povr_whole_white_ll_95ci', 'povr_whole_white_ul_95ci', 'povr_whole_white_se', 'povr_whole_white_rse', 'povr_whole_white_ca_rr']\n",
    "\n",
    "# Generate names for the actual 1st one\n",
    "a = '''\n",
    "'povr_kids_cont_native_numerator', 'povr_kids_cont_native_denominator', \n",
    "  'povr_kids_cont_native_estimate', 'povr_kids_cont_native_ll_95ci', \n",
    "  'povr_kids_cont_native_ul_95ci', 'povr_kids_cont_native_se', \n",
    "  'povr_kids_cont_native_rse', 'povr_kids_cont_native_ca_rr']\n",
    "  '''\n",
    "print(a.replace('_kids', '_whole'))"
   ]
  },
  {
   "cell_type": "code",
   "execution_count": 64,
   "id": "7155dc00-0c22-4d54-87bf-220edf82e093",
   "metadata": {},
   "outputs": [],
   "source": [
    "# Rename columns in the other dfs\n",
    "pov_whole_2.columns = ['county', 'povr_whole_asian_numerator', 'povr_whole_asian_denominator', 'povr_whole_asian_estimate', 'povr_whole_asian_ll_95ci', 'povr_whole_asian_ul_95ci', 'povr_whole_asian_se', 'povr_whole_asian_rse', 'povr_whole_asian_ca_rr']\n",
    "pov_whole_3.columns = ['county', 'povr_whole_black_numerator', 'povr_whole_black_denominator', 'povr_whole_black_estimate', 'povr_whole_black_ll_95ci', 'povr_whole_black_ul_95ci', 'povr_whole_black_se', 'povr_whole_black_rse', 'povr_whole_black_ca_rr']\n",
    "pov_whole_4.columns = ['county', 'povr_whole_latine_numerator', 'povr_whole_latine_denominator', 'povr_whole_latine_estimate', 'povr_whole_latine_ll_95ci', 'povr_whole_latine_ul_95ci', 'povr_whole_latine_se', 'povr_whole_latine_rse', 'povr_whole_latine_ca_rr']\n",
    "pov_whole_5.columns = ['county', 'povr_whole_island_native_numerator', 'povr_whole_island_native_denominator', 'povr_whole_island_native_estimate', 'povr_whole_island_native_ll_95ci', 'povr_whole_island_native_ul_95ci', 'povr_whole_island_native_se', 'povr_whole_island_native_rse', 'povr_whole_island_native_ca_rr']\n",
    "pov_whole_1.columns = ['county', 'povr_whole_cont_native_numerator', 'povr_whole_cont_native_denominator', 'povr_whole_cont_native_estimate', 'povr_whole_cont_native_ll_95ci', 'povr_whole_cont_native_ul_95ci', 'povr_whole_cont_native_se', 'povr_whole_cont_native_rse', 'povr_whole_cont_native_ca_rr']\n",
    "pov_whole_7.columns = ['county', 'povr_whole_multiracial_numerator', 'povr_whole_multiracial_denominator', 'povr_whole_multiracial_estimate', 'povr_whole_multiracial_ll_95ci', 'povr_whole_multiracial_ul_95ci', 'povr_whole_multiracial_se', 'povr_whole_multiracial_rse', 'povr_whole_multiracial_ca_rr']\n",
    "pov_whole_8.columns = ['county', 'povr_whole_other_race_numerator', 'povr_whole_other_race_denominator', 'povr_whole_other_race_estimate', 'povr_whole_other_race_ll_95ci', 'povr_whole_other_race_ul_95ci', 'povr_whole_other_race_se', 'povr_whole_other_race_rse', 'povr_whole_other_race_ca_rr']\n",
    "pov_whole_9.columns = ['county', 'povr_whole_total_numerator', 'povr_whole_total_denominator', 'povr_whole_total_estimate', 'povr_whole_total_ll_95ci', 'povr_whole_total_ul_95ci', 'povr_whole_total_se', 'povr_whole_total_rse', 'povr_whole_total_ca_rr']"
   ]
  },
  {
   "cell_type": "code",
   "execution_count": 65,
   "id": "04f3ebf1-2a8e-4e37-9c4d-084389baf75f",
   "metadata": {},
   "outputs": [
    {
     "data": {
      "text/plain": [
       "(57, 73)"
      ]
     },
     "execution_count": 65,
     "metadata": {},
     "output_type": "execute_result"
    }
   ],
   "source": [
    "# Merge them back together\n",
    "# goal: (57, 73)\n",
    "poverty = counties.merge(\n",
    "  pov_whole_6, on = 'county', how = 'left').merge(\n",
    "    pov_whole_1, on = 'county', how = 'left').merge(\n",
    "      pov_whole_2, on = 'county', how = 'left').merge(\n",
    "        pov_whole_3, on = 'county', how = 'left').merge(\n",
    "          pov_whole_4, on = 'county', how = 'left').merge(\n",
    "            pov_whole_5, on = 'county', how = 'left').merge(\n",
    "              pov_whole_7, on = 'county', how = 'left').merge(\n",
    "                pov_whole_8, on = 'county', how = 'left').merge(\n",
    "                  pov_whole_9, on = 'county', how = 'left')\n",
    "poverty.shape\n",
    "# I can't believe that works."
   ]
  },
  {
   "cell_type": "code",
   "execution_count": 66,
   "id": "aa8abc6e-b270-445b-8a4c-911473cc517f",
   "metadata": {},
   "outputs": [
    {
     "data": {
      "text/plain": [
       "((57, 73), (57, 76))"
      ]
     },
     "execution_count": 66,
     "metadata": {},
     "output_type": "execute_result"
    }
   ],
   "source": [
    "# Put it back under its own name\n",
    "pov_whole = poverty.copy(deep = True)\n",
    "pov_whole.shape, pov_kids.shape"
   ]
  },
  {
   "cell_type": "code",
   "execution_count": 67,
   "id": "f65c6832-0f9c-4a36-a9a0-3c58fbd81c59",
   "metadata": {},
   "outputs": [
    {
     "data": {
      "text/plain": [
       "(57, 148)"
      ]
     },
     "execution_count": 67,
     "metadata": {},
     "output_type": "execute_result"
    }
   ],
   "source": [
    "# Merge the whole thing back together\n",
    "# goal: (57, 148)\n",
    "poverty_rate = pov_whole.merge(pov_kids, on = 'county', how = 'left')\n",
    "poverty_rate.shape"
   ]
  },
  {
   "cell_type": "code",
   "execution_count": 68,
   "id": "ac49190b-a562-4131-9887-ddcd1f3f774c",
   "metadata": {},
   "outputs": [],
   "source": [
    "# At a later stage, we opted to drop many of those columns\n",
    "poverty_rate = poverty_rate[['county', 'povr_whole_white_estimate', 'povr_whole_cont_native_estimate', \n",
    "  'povr_whole_asian_estimate', 'povr_whole_black_estimate', \n",
    "  'povr_whole_latine_estimate', 'povr_whole_island_native_estimate', \n",
    "  'povr_whole_multiracial_estimate', 'povr_whole_other_race_estimate', \n",
    "  'povr_whole_total_estimate', 'povr_kids_asian_estimate', \n",
    "  'povr_kids_cont_native_estimate', 'povr_kids_black_estimate', \n",
    "  'povr_kids_latine_estimate', 'povr_kids_island_native_estimate', \n",
    "  'povr_kids_white_estimate', 'povr_kids_multiracial_estimate', \n",
    "  'povr_kids_other_race_estimate', 'povr_kids_total_estimate']]"
   ]
  },
  {
   "cell_type": "code",
   "execution_count": 69,
   "id": "be0bd78f-b1cc-4268-a6cb-cfb657cef38b",
   "metadata": {},
   "outputs": [],
   "source": [
    "# Save to csv \n",
    "poverty_rate.to_csv('./03_output/poverty_rate_eks.csv', index = False)"
   ]
  },
  {
   "cell_type": "markdown",
   "id": "f0a237ee-e059-4fd5-a0ca-14bf3a6f1b64",
   "metadata": {},
   "source": [
    "#### Suicide Rate"
   ]
  },
  {
   "cell_type": "markdown",
   "id": "acb87246-058b-426b-af39-0c6df7916a4e",
   "metadata": {},
   "source": [
    "Suicide rate was assessed in 3 year intervals, with one interval starting in 2015.  In order to ensure our estimates were centered on 2015, rather than projecting into the future, past the other predictors, we combined the data from 2012-2014 and 2015-2017."
   ]
  },
  {
   "cell_type": "code",
   "execution_count": 70,
   "id": "1f5bda67-ead2-4e84-8705-dced84821751",
   "metadata": {},
   "outputs": [
    {
     "data": {
      "text/plain": [
       "(1404, 9)"
      ]
     },
     "execution_count": 70,
     "metadata": {},
     "output_type": "execute_result"
    }
   ],
   "source": [
    "# Read it in\n",
    "suicide_rate = pd.read_csv('./01_original_datasets/suicide_lghc_indicator_21_2.csv')\n",
    "\n",
    "# Rename the columns\n",
    "col_names = [f'sui_{col}' for col in suicide_rate.columns]\n",
    "suicide_rate.columns = col_names\n",
    "col_names = {'sui_year': 'year', 'sui_geography': 'county'}\n",
    "suicide_rate.rename(columns = col_names, inplace = True)\n",
    "\n",
    "# Get the shape\n",
    "suicide_rate.shape"
   ]
  },
  {
   "cell_type": "code",
   "execution_count": 71,
   "id": "efab1304-051d-4264-991d-9a156efcfa52",
   "metadata": {},
   "outputs": [
    {
     "data": {
      "text/plain": [
       "(455, 9)"
      ]
     },
     "execution_count": 71,
     "metadata": {},
     "output_type": "execute_result"
    }
   ],
   "source": [
    "# 2015 only\n",
    "first = suicide_rate['year']=='2012-2014'\n",
    "second = suicide_rate['year']=='2015-2017'\n",
    "suicide_rate = suicide_rate[first | second] \n",
    "\n",
    "# Real counties only\n",
    "suicide_rate = suicide_rate[suicide_rate['county']!='CALIFORNIA']\n",
    "\n",
    "# Get the shape\n",
    "suicide_rate.shape # goal = (455, 9)"
   ]
  },
  {
   "cell_type": "code",
   "execution_count": 72,
   "id": "69d92028-734b-4469-9571-fd8a849eebd1",
   "metadata": {},
   "outputs": [
    {
     "name": "stdout",
     "output_type": "stream",
     "text": [
      "====================\n",
      "sui_indicator\n",
      "1\n",
      "====================\n",
      "county\n",
      "54\n",
      "====================\n",
      "year\n",
      "2\n",
      "====================\n",
      "sui_strata\n",
      "2\n",
      "====================\n",
      "sui_strata_name\n",
      "8\n",
      "====================\n",
      "sui_numerator\n",
      "217\n",
      "====================\n",
      "sui_denominator\n",
      "451\n",
      "====================\n",
      "sui_rate\n",
      "442\n",
      "====================\n",
      "sui_age_adjusted_rate\n",
      "429\n"
     ]
    }
   ],
   "source": [
    "# Take a look at the column counts\n",
    "col_counts(suicide_rate)"
   ]
  },
  {
   "cell_type": "code",
   "execution_count": 73,
   "id": "d8e961fe-f2cf-4cea-9b26-b52dd606571c",
   "metadata": {},
   "outputs": [
    {
     "data": {
      "text/plain": [
       "sui_indicator            0\n",
       "county                   0\n",
       "year                     0\n",
       "sui_strata               0\n",
       "sui_strata_name          0\n",
       "sui_numerator            0\n",
       "sui_denominator          0\n",
       "sui_rate                 0\n",
       "sui_age_adjusted_rate    0\n",
       "dtype: int64"
      ]
     },
     "execution_count": 73,
     "metadata": {},
     "output_type": "execute_result"
    }
   ],
   "source": [
    "# Look for missing data\n",
    "suicide_rate.isna().sum()"
   ]
  },
  {
   "cell_type": "markdown",
   "id": "083491b9-9421-4b62-8395-610c5e8cf594",
   "metadata": {},
   "source": [
    "Although this dataset tantalizingly offered by-race rates, the sum of those rows did not equal the county total.  We concluded that small numbers must suppressed.  Because including the by-race rows and the total would introduce massive colinearity, we opted to only use the totals."
   ]
  },
  {
   "cell_type": "code",
   "execution_count": 74,
   "id": "209f3ff4-b4c7-4d3a-83ef-f040541f3f35",
   "metadata": {},
   "outputs": [
    {
     "data": {
      "text/plain": [
       "(103, 4)"
      ]
     },
     "execution_count": 74,
     "metadata": {},
     "output_type": "execute_result"
    }
   ],
   "source": [
    "# Drop unnecessary rows\n",
    "suicide_rate = suicide_rate[suicide_rate['sui_strata_name']=='Total'] # goal: 100-116\n",
    "\n",
    "# Drop unnecessary columns\n",
    "suicide_rate.drop(columns = ['sui_indicator', 'sui_strata', \n",
    "    'sui_strata_name', 'sui_numerator', 'sui_denominator'], inplace = True)\n",
    "\n",
    "# Get the shape\n",
    "suicide_rate.shape"
   ]
  },
  {
   "cell_type": "code",
   "execution_count": 75,
   "id": "be776a07-3638-404b-bdd0-61ca230d677b",
   "metadata": {},
   "outputs": [
    {
     "data": {
      "text/plain": [
       "((51, 3), (52, 3))"
      ]
     },
     "execution_count": 75,
     "metadata": {},
     "output_type": "execute_result"
    }
   ],
   "source": [
    "# Split up the rows and remerge as columns\n",
    "sui_1 = suicide_rate[suicide_rate['year']=='2012-2014']\n",
    "sui_2 = suicide_rate[suicide_rate['year']=='2015-2017']\n",
    "\n",
    "# Drop differentiating columns\n",
    "sui_1.drop(columns = ['year'], inplace = True)\n",
    "sui_2.drop(columns = ['year'], inplace = True)\n",
    "\n",
    "# Rename columns\n",
    "sui_1.columns = ['county', 'sui_rate_2012_2014', 'sui_age_adjusted_rate_2012_2014']\n",
    "sui_2.columns = ['county', 'sui_rate_2015_2017', 'sui_age_adjusted_rate_2015_2017']\n",
    "\n",
    "# Save these guys as CSVs for safekeeping\n",
    "sui_1.to_csv('./03_output/suicide_rate_2012_2014.csv', index = False)\n",
    "sui_2.to_csv('./03_output/suicide_rate_2015_2017.csv', index = False)\n",
    "\n",
    "# Get the shapes\n",
    "sui_1.shape, sui_2.shape"
   ]
  },
  {
   "cell_type": "code",
   "execution_count": 76,
   "id": "56e8f431-5274-433b-a141-ac378c66a3d0",
   "metadata": {},
   "outputs": [
    {
     "data": {
      "text/plain": [
       "(57, 5)"
      ]
     },
     "execution_count": 76,
     "metadata": {},
     "output_type": "execute_result"
    }
   ],
   "source": [
    "# Merge them back together - goal: (57, 5)\n",
    "suicide_rate = counties.merge(sui_1, on = 'county', how = 'left').merge(\n",
    "    sui_2, on = 'county', how = 'left')\n",
    "suicide_rate.shape "
   ]
  },
  {
   "cell_type": "code",
   "execution_count": 77,
   "id": "bd599aba-217e-45de-8c60-134c4dce3563",
   "metadata": {},
   "outputs": [
    {
     "data": {
      "text/plain": [
       "county                             0\n",
       "sui_rate_2012_2014                 6\n",
       "sui_age_adjusted_rate_2012_2014    6\n",
       "sui_rate_2015_2017                 5\n",
       "sui_age_adjusted_rate_2015_2017    5\n",
       "dtype: int64"
      ]
     },
     "execution_count": 77,
     "metadata": {},
     "output_type": "execute_result"
    }
   ],
   "source": [
    "# Check NAs again\n",
    "suicide_rate.isna().sum()"
   ]
  },
  {
   "cell_type": "markdown",
   "id": "fe54a8b3-4219-4671-b1d4-17f64d7af27b",
   "metadata": {},
   "source": [
    "The original dataframe didn't have any NAs because whenever the given report didn't include a particular county, it simply wasn't listed.  Because I merged the sub-dfs onto a base that does include all counties, there are now NAs.  However, between the two reports, most counties are covered.  Therefore, when a county is covered in both reports, I averaged the two values together to get an estimate centered on 2015, but when a county was only covered in one report or the other, I used that value.  Counties that were not covered in either report were left NA for now and imputed later."
   ]
  },
  {
   "cell_type": "code",
   "execution_count": 78,
   "id": "d51d8889-9747-4095-ad13-88c8f7e748d5",
   "metadata": {},
   "outputs": [
    {
     "data": {
      "text/plain": [
       "county                             0\n",
       "sui_rate_2012_2014                 6\n",
       "sui_age_adjusted_rate_2012_2014    6\n",
       "sui_rate_2015_2017                 5\n",
       "sui_age_adjusted_rate_2015_2017    5\n",
       "sui_rate_avg                       8\n",
       "sui_adjusted_rate_avg              8\n",
       "dtype: int64"
      ]
     },
     "execution_count": 78,
     "metadata": {},
     "output_type": "execute_result"
    }
   ],
   "source": [
    "# Create new columns with the averages\n",
    "suicide_rate['sui_rate_avg'] = (\n",
    "  suicide_rate['sui_rate_2012_2014'] + suicide_rate['sui_rate_2015_2017'])/2\n",
    "suicide_rate['sui_adjusted_rate_avg'] = (\n",
    "  suicide_rate['sui_age_adjusted_rate_2012_2014'] + suicide_rate[\n",
    "      'sui_age_adjusted_rate_2015_2017'])/2\n",
    "suicide_rate.isna().sum()"
   ]
  },
  {
   "cell_type": "code",
   "execution_count": 79,
   "id": "df19d689-d780-4983-bc05-a42417757996",
   "metadata": {},
   "outputs": [
    {
     "data": {
      "text/html": [
       "<div>\n",
       "<style scoped>\n",
       "    .dataframe tbody tr th:only-of-type {\n",
       "        vertical-align: middle;\n",
       "    }\n",
       "\n",
       "    .dataframe tbody tr th {\n",
       "        vertical-align: top;\n",
       "    }\n",
       "\n",
       "    .dataframe thead th {\n",
       "        text-align: right;\n",
       "    }\n",
       "</style>\n",
       "<table border=\"1\" class=\"dataframe\">\n",
       "  <thead>\n",
       "    <tr style=\"text-align: right;\">\n",
       "      <th></th>\n",
       "      <th>county</th>\n",
       "      <th>sui_rate_2012_2014</th>\n",
       "      <th>sui_age_adjusted_rate_2012_2014</th>\n",
       "      <th>sui_rate_2015_2017</th>\n",
       "      <th>sui_age_adjusted_rate_2015_2017</th>\n",
       "      <th>sui_rate_avg</th>\n",
       "      <th>sui_adjusted_rate_avg</th>\n",
       "    </tr>\n",
       "  </thead>\n",
       "  <tbody>\n",
       "    <tr>\n",
       "      <th>4</th>\n",
       "      <td>Colusa</td>\n",
       "      <td>24.28</td>\n",
       "      <td>26.57</td>\n",
       "      <td>NaN</td>\n",
       "      <td>NaN</td>\n",
       "      <td>NaN</td>\n",
       "      <td>NaN</td>\n",
       "    </tr>\n",
       "    <tr>\n",
       "      <th>6</th>\n",
       "      <td>Del Norte</td>\n",
       "      <td>24.16</td>\n",
       "      <td>22.69</td>\n",
       "      <td>NaN</td>\n",
       "      <td>NaN</td>\n",
       "      <td>NaN</td>\n",
       "      <td>NaN</td>\n",
       "    </tr>\n",
       "    <tr>\n",
       "      <th>9</th>\n",
       "      <td>Glenn</td>\n",
       "      <td>NaN</td>\n",
       "      <td>NaN</td>\n",
       "      <td>29.80</td>\n",
       "      <td>28.31</td>\n",
       "      <td>NaN</td>\n",
       "      <td>NaN</td>\n",
       "    </tr>\n",
       "    <tr>\n",
       "      <th>23</th>\n",
       "      <td>Modoc</td>\n",
       "      <td>NaN</td>\n",
       "      <td>NaN</td>\n",
       "      <td>NaN</td>\n",
       "      <td>NaN</td>\n",
       "      <td>NaN</td>\n",
       "      <td>NaN</td>\n",
       "    </tr>\n",
       "    <tr>\n",
       "      <th>24</th>\n",
       "      <td>Mono</td>\n",
       "      <td>NaN</td>\n",
       "      <td>NaN</td>\n",
       "      <td>NaN</td>\n",
       "      <td>NaN</td>\n",
       "      <td>NaN</td>\n",
       "      <td>NaN</td>\n",
       "    </tr>\n",
       "    <tr>\n",
       "      <th>33</th>\n",
       "      <td>San Benito</td>\n",
       "      <td>NaN</td>\n",
       "      <td>NaN</td>\n",
       "      <td>10.34</td>\n",
       "      <td>11.24</td>\n",
       "      <td>NaN</td>\n",
       "      <td>NaN</td>\n",
       "    </tr>\n",
       "    <tr>\n",
       "      <th>44</th>\n",
       "      <td>Sierra</td>\n",
       "      <td>NaN</td>\n",
       "      <td>NaN</td>\n",
       "      <td>NaN</td>\n",
       "      <td>NaN</td>\n",
       "      <td>NaN</td>\n",
       "      <td>NaN</td>\n",
       "    </tr>\n",
       "    <tr>\n",
       "      <th>51</th>\n",
       "      <td>Trinity</td>\n",
       "      <td>NaN</td>\n",
       "      <td>NaN</td>\n",
       "      <td>39.51</td>\n",
       "      <td>43.87</td>\n",
       "      <td>NaN</td>\n",
       "      <td>NaN</td>\n",
       "    </tr>\n",
       "  </tbody>\n",
       "</table>\n",
       "</div>"
      ],
      "text/plain": [
       "        county  sui_rate_2012_2014  sui_age_adjusted_rate_2012_2014  \\\n",
       "4       Colusa               24.28                            26.57   \n",
       "6    Del Norte               24.16                            22.69   \n",
       "9        Glenn                 NaN                              NaN   \n",
       "23       Modoc                 NaN                              NaN   \n",
       "24        Mono                 NaN                              NaN   \n",
       "33  San Benito                 NaN                              NaN   \n",
       "44      Sierra                 NaN                              NaN   \n",
       "51     Trinity                 NaN                              NaN   \n",
       "\n",
       "    sui_rate_2015_2017  sui_age_adjusted_rate_2015_2017  sui_rate_avg  \\\n",
       "4                  NaN                              NaN           NaN   \n",
       "6                  NaN                              NaN           NaN   \n",
       "9                29.80                            28.31           NaN   \n",
       "23                 NaN                              NaN           NaN   \n",
       "24                 NaN                              NaN           NaN   \n",
       "33               10.34                            11.24           NaN   \n",
       "44                 NaN                              NaN           NaN   \n",
       "51               39.51                            43.87           NaN   \n",
       "\n",
       "    sui_adjusted_rate_avg  \n",
       "4                     NaN  \n",
       "6                     NaN  \n",
       "9                     NaN  \n",
       "23                    NaN  \n",
       "24                    NaN  \n",
       "33                    NaN  \n",
       "44                    NaN  \n",
       "51                    NaN  "
      ]
     },
     "execution_count": 79,
     "metadata": {},
     "output_type": "execute_result"
    }
   ],
   "source": [
    "# See which counties are covered in one and NA in one\n",
    "suicide_rate[suicide_rate['sui_rate_avg'].isna()]"
   ]
  },
  {
   "cell_type": "code",
   "execution_count": 80,
   "id": "a48030d4-0f06-4f31-bf9a-406b181f1a44",
   "metadata": {},
   "outputs": [
    {
     "data": {
      "text/plain": [
       "['Colusa',\n",
       " 'Del Norte',\n",
       " 'Glenn',\n",
       " 'Modoc',\n",
       " 'Mono',\n",
       " 'San Benito',\n",
       " 'Sierra',\n",
       " 'Trinity']"
      ]
     },
     "execution_count": 80,
     "metadata": {},
     "output_type": "execute_result"
    }
   ],
   "source": [
    "# Get a list\n",
    "list(suicide_rate[suicide_rate['sui_rate_avg'].isna()]['county'])"
   ]
  },
  {
   "cell_type": "code",
   "execution_count": 81,
   "id": "27f17917-a133-4301-ada1-52a94cfa6ea4",
   "metadata": {},
   "outputs": [],
   "source": [
    "# Generate some code, then comment out the long output\n",
    "a = ['Colusa', 'Del Norte']\n",
    "# for i in a:\n",
    "#   print('')\n",
    "#   print(f\"suicide_rate.loc[(suicide_rate['county']=='{i}'), 'sui_rate_avg'] = suicide_rate.loc[(suicide_rate['county']=='{i}'), 'sui_rate_2012_2014']\")\n",
    "#   print(f\"suicide_rate.loc[(suicide_rate['county']=='{i}'), 'sui_adjusted_rate_avg'] = suicide_rate.loc[(suicide_rate['county']=='{i}'), 'sui_age_adjusted_rate_2012_2014']\")"
   ]
  },
  {
   "cell_type": "code",
   "execution_count": 82,
   "id": "50adf392-26b0-4e50-b25d-61db0a5b8d10",
   "metadata": {},
   "outputs": [],
   "source": [
    "# Generate some code, then comment out the long output\n",
    "a = ['Glenn', 'San Benito', 'Trinity']\n",
    "# for i in a:\n",
    "#   print('')\n",
    "#   print(f\"suicide_rate.loc[(suicide_rate['county']=='{i}'), 'sui_rate_avg'] = suicide_rate.loc[(suicide_rate['county']=='{i}'), 'sui_rate_2015_2017']\")\n",
    "#   print(f\"suicide_rate.loc[(suicide_rate['county']=='{i}'), 'sui_adjusted_rate_avg'] = suicide_rate.loc[(suicide_rate['county']=='{i}'), 'sui_age_adjusted_rate_2015_2017']\")"
   ]
  },
  {
   "cell_type": "code",
   "execution_count": 83,
   "id": "906b0e41-f7ae-40cd-87f8-30a832bdbfcb",
   "metadata": {},
   "outputs": [
    {
     "data": {
      "text/plain": [
       "county                   0\n",
       "sui_rate_avg             3\n",
       "sui_adjusted_rate_avg    3\n",
       "dtype: int64"
      ]
     },
     "execution_count": 83,
     "metadata": {},
     "output_type": "execute_result"
    }
   ],
   "source": [
    "# Run that code to fill in the NAs\n",
    "suicide_rate.loc[(suicide_rate['county']=='Colusa'), 'sui_rate_avg'] = suicide_rate.loc[(suicide_rate['county']=='Colusa'), 'sui_rate_2012_2014']\n",
    "suicide_rate.loc[(suicide_rate['county']=='Colusa'), 'sui_adjusted_rate_avg'] = suicide_rate.loc[(suicide_rate['county']=='Colusa'), 'sui_age_adjusted_rate_2012_2014']\n",
    "\n",
    "suicide_rate.loc[(suicide_rate['county']=='Del Norte'), 'sui_rate_avg'] = suicide_rate.loc[(suicide_rate['county']=='Del Norte'), 'sui_rate_2012_2014']\n",
    "suicide_rate.loc[(suicide_rate['county']=='Del Norte'), 'sui_adjusted_rate_avg'] = suicide_rate.loc[(suicide_rate['county']=='Del Norte'), 'sui_age_adjusted_rate_2012_2014']\n",
    "\n",
    "suicide_rate.loc[(suicide_rate['county']=='Glenn'), 'sui_rate_avg'] = suicide_rate.loc[(suicide_rate['county']=='Glenn'), 'sui_rate_2015_2017']\n",
    "suicide_rate.loc[(suicide_rate['county']=='Glenn'), 'sui_adjusted_rate_avg'] = suicide_rate.loc[(suicide_rate['county']=='Glenn'), 'sui_age_adjusted_rate_2015_2017']\n",
    "\n",
    "suicide_rate.loc[(suicide_rate['county']=='San Benito'), 'sui_rate_avg'] = suicide_rate.loc[(suicide_rate['county']=='San Benito'), 'sui_rate_2015_2017']\n",
    "suicide_rate.loc[(suicide_rate['county']=='San Benito'), 'sui_adjusted_rate_avg'] = suicide_rate.loc[(suicide_rate['county']=='San Benito'), 'sui_age_adjusted_rate_2015_2017']\n",
    "\n",
    "suicide_rate.loc[(suicide_rate['county']=='Trinity'), 'sui_rate_avg'] = suicide_rate.loc[(suicide_rate['county']=='Trinity'), 'sui_rate_2015_2017']\n",
    "suicide_rate.loc[(suicide_rate['county']=='Trinity'), 'sui_adjusted_rate_avg'] = suicide_rate.loc[(suicide_rate['county']=='Trinity'), 'sui_age_adjusted_rate_2015_2017']\n",
    "\n",
    "# Drop redundant columns\n",
    "suicide_rate = suicide_rate[[\n",
    "    'county', 'sui_rate_avg', 'sui_adjusted_rate_avg']]\n",
    "\n",
    "# Check the NAs again\n",
    "suicide_rate.isna().sum()"
   ]
  },
  {
   "cell_type": "code",
   "execution_count": 84,
   "id": "46d1eb22-25a6-4d89-a354-a8fcc72487d5",
   "metadata": {},
   "outputs": [],
   "source": [
    "# Save to csv \n",
    "suicide_rate.to_csv('./03_output/suicide_rate_eks.csv', index = False)"
   ]
  },
  {
   "cell_type": "markdown",
   "id": "23e84dd7-36e9-4206-830f-e94d7e4a5a1e",
   "metadata": {},
   "source": [
    "#### Graduation Cohort & Dropout Rate"
   ]
  },
  {
   "cell_type": "code",
   "execution_count": 85,
   "id": "5fe4f721-92b7-4b65-a4ae-adc5aa90a16b",
   "metadata": {},
   "outputs": [
    {
     "data": {
      "text/plain": [
       "(198022, 34)"
      ]
     },
     "execution_count": 85,
     "metadata": {},
     "output_type": "execute_result"
    }
   ],
   "source": [
    "# Read it in\n",
    "graduation_rate_2019 = pd.read_csv('./01_original_datasets/graduation_rate_ish_2019.txt', sep='\\t')\n",
    "\n",
    "# Get the shape\n",
    "graduation_rate_2019.shape"
   ]
  },
  {
   "cell_type": "code",
   "execution_count": 86,
   "id": "3b3c1c2d-1eaa-4b8e-84d9-dbb8726e9d74",
   "metadata": {},
   "outputs": [
    {
     "data": {
      "text/plain": [
       "(57, 34)"
      ]
     },
     "execution_count": 86,
     "metadata": {},
     "output_type": "execute_result"
    }
   ],
   "source": [
    "# Reduce to a single y variable, one row per county\n",
    "\n",
    "# Real counties only\n",
    "graduation_rate_2019 = graduation_rate_2019[graduation_rate_2019['AggregateLevel']=='C']\n",
    "# I don't care whether it's a charter school or not.\n",
    "graduation_rate_2019 = graduation_rate_2019[graduation_rate_2019['CharterSchool']=='All']\n",
    "# I don't care whether it's a DASS school or not.\n",
    "graduation_rate_2019 = graduation_rate_2019[graduation_rate_2019['DASS']=='All']\n",
    "# I do care whether there are disparities in graduation rates, but not for THIS model.\n",
    "graduation_rate_2019 = graduation_rate_2019[graduation_rate_2019['ReportingCategory']=='TA']\n",
    "\n",
    "# Get the shape\n",
    "graduation_rate_2019.shape"
   ]
  },
  {
   "cell_type": "code",
   "execution_count": 87,
   "id": "ec9583f4-b3c4-4378-93f9-79ba4529bc86",
   "metadata": {},
   "outputs": [
    {
     "data": {
      "text/plain": [
       "(57, 3)"
      ]
     },
     "execution_count": 87,
     "metadata": {},
     "output_type": "execute_result"
    }
   ],
   "source": [
    "# Drop columns\n",
    "dropout_rate_2019 = graduation_rate_2019[['CountyName', 'CohortStudents', 'Dropout (Rate)']]\n",
    "\n",
    "# Get the shape\n",
    "dropout_rate_2019.shape"
   ]
  },
  {
   "cell_type": "code",
   "execution_count": 88,
   "id": "c69c873c-69be-4039-8e23-b801e4283f62",
   "metadata": {},
   "outputs": [
    {
     "data": {
      "text/plain": [
       "CountyName        0\n",
       "CohortStudents    0\n",
       "Dropout (Rate)    0\n",
       "dtype: int64"
      ]
     },
     "execution_count": 88,
     "metadata": {},
     "output_type": "execute_result"
    }
   ],
   "source": [
    "# Look for missing data\n",
    "dropout_rate_2019.isna().sum()"
   ]
  },
  {
   "cell_type": "code",
   "execution_count": 89,
   "id": "1b5b3e89-b4f0-4f2c-ba41-ab5d7b2ad749",
   "metadata": {},
   "outputs": [],
   "source": [
    "# Rename the columns\n",
    "dropout_rate_2019.columns = ['county', \n",
    "    'graduation_2019_cohort_size', 'dropout_rate_2019_cohort']"
   ]
  },
  {
   "cell_type": "code",
   "execution_count": 90,
   "id": "272a851a-01a3-4cd6-bbaa-10cf1a4bda94",
   "metadata": {},
   "outputs": [],
   "source": [
    "# Save to csv \n",
    "dropout_rate_2019.to_csv('./03_output/dropout_rate_2019.csv', index = False)"
   ]
  },
  {
   "cell_type": "markdown",
   "id": "fe2c123c-89e4-48c9-b5a6-89c79cb59d02",
   "metadata": {},
   "source": [
    "#### Unemployment Rate"
   ]
  },
  {
   "cell_type": "code",
   "execution_count": 91,
   "id": "af2c4c26-27ad-4bbf-85ab-746dbb7d1645",
   "metadata": {},
   "outputs": [
    {
     "data": {
      "text/plain": [
       "(708, 9)"
      ]
     },
     "execution_count": 91,
     "metadata": {},
     "output_type": "execute_result"
    }
   ],
   "source": [
    "# Read it in\n",
    "joblessness = pd.read_csv('./01_original_datasets/Calfornia_Unemployment_Data_By County_2015_may-13-2024.csv')\n",
    "\n",
    "# Get the shape\n",
    "joblessness.shape"
   ]
  },
  {
   "cell_type": "code",
   "execution_count": 92,
   "id": "9c5663a2-c632-4b78-87c4-09c446cb855b",
   "metadata": {},
   "outputs": [
    {
     "name": "stdout",
     "output_type": "stream",
     "text": [
      "====================\n",
      "Year\n",
      "1\n",
      "====================\n",
      "Period\n",
      "12\n",
      "====================\n",
      "Area\n",
      "58\n",
      "====================\n",
      "Adjusted\n",
      "2\n",
      "====================\n",
      "Preliminary\n",
      "1\n",
      "====================\n",
      "Labor Force\n",
      "622\n",
      "====================\n",
      "Employment\n",
      "638\n",
      "====================\n",
      "Unemployment\n",
      "452\n",
      "====================\n",
      "Unemployment Rate\n",
      "121\n"
     ]
    }
   ],
   "source": [
    "# Take a look at the column counts\n",
    "col_counts(joblessness)"
   ]
  },
  {
   "cell_type": "code",
   "execution_count": 93,
   "id": "f954f188-9b12-40a2-96aa-87218e3bf623",
   "metadata": {},
   "outputs": [
    {
     "data": {
      "text/plain": [
       "(696, 6)"
      ]
     },
     "execution_count": 93,
     "metadata": {},
     "output_type": "execute_result"
    }
   ],
   "source": [
    "# Drop unnecessary rows\n",
    "joblessness = joblessness[joblessness['Adjusted']=='Not Adj']\n",
    "\n",
    "# Drop unnecessary columns\n",
    "joblessness = joblessness[['Period', 'Area', 'Labor Force',\n",
    "       'Employment', 'Unemployment', 'Unemployment Rate']]\n",
    "\n",
    "# Get the shape\n",
    "joblessness.shape"
   ]
  },
  {
   "cell_type": "code",
   "execution_count": 94,
   "id": "528e9daf-aaf2-46a7-a3e2-cd0164e8bef5",
   "metadata": {},
   "outputs": [
    {
     "data": {
      "text/plain": [
       "Period               0\n",
       "Area                 0\n",
       "Labor Force          0\n",
       "Employment           0\n",
       "Unemployment         0\n",
       "Unemployment Rate    0\n",
       "dtype: int64"
      ]
     },
     "execution_count": 94,
     "metadata": {},
     "output_type": "execute_result"
    }
   ],
   "source": [
    "# Look for missing data\n",
    "joblessness.isna().sum()"
   ]
  },
  {
   "cell_type": "code",
   "execution_count": 95,
   "id": "ca050752-9049-428e-b4d2-26a8cf7f19ed",
   "metadata": {},
   "outputs": [],
   "source": [
    "# fix county names\n",
    "county_list = []\n",
    "for i in joblessness['Area']:\n",
    "  county_list.append(i.replace(' County', ''))\n",
    "\n",
    "joblessness['Area'] = county_list"
   ]
  },
  {
   "cell_type": "markdown",
   "id": "b9711c74-8a3b-471b-873a-87ac6cc22284",
   "metadata": {},
   "source": [
    "This dataset is broken down by month.  I aggregated it to an overall estimate for 2015 by averaging each month within a county."
   ]
  },
  {
   "cell_type": "code",
   "execution_count": 96,
   "id": "835e325e-b25e-40d5-9580-a9bb6d3eccc0",
   "metadata": {},
   "outputs": [],
   "source": [
    "# Define a function to average each county\n",
    "def county_average(county_name, dataframe, column_name, target):\n",
    "  '''A function to take the average of a variable within\n",
    "  a level of another variable.\n",
    "  Arg:\n",
    "    county_name: the level of the variable to subset by\n",
    "    dataframe: the df to do this on\n",
    "    column_name: the variable to subset by\n",
    "    target: the variable to take the average of\n",
    "  Return:\n",
    "    the average of 'target'\n",
    "  Raise:\n",
    "    TypeErrors, IndexErrors/KeyErrors, math errors'''\n",
    "  df = dataframe[dataframe[column_name]==county_name]\n",
    "  x = df[target].mean()\n",
    "  return x"
   ]
  },
  {
   "cell_type": "code",
   "execution_count": 97,
   "id": "2d88219c-0700-43c2-be1f-5fc37d635080",
   "metadata": {},
   "outputs": [
    {
     "data": {
      "text/plain": [
       "(57, 3)"
      ]
     },
     "execution_count": 97,
     "metadata": {},
     "output_type": "execute_result"
    }
   ],
   "source": [
    "# Define a new dataframe\n",
    "unemployment = counties.copy(deep = True)\n",
    "\n",
    "# Pull out the averages we want\n",
    "for i in list(unemployment['county']):\n",
    "  unemployment.loc[unemployment['county']==i, 1] = county_average(\n",
    "    i, joblessness, 'Area', 'Unemployment Rate')\n",
    "unemployment.columns = ['county', 'unemployment_rate']\n",
    "\n",
    "for i in list(unemployment['county']):\n",
    "  unemployment.loc[unemployment['county']==i, 2] = county_average(\n",
    "    i, joblessness, 'Area', 'Labor Force')\n",
    "unemployment.columns = ['county', 'unemployment_rate', 'labor_force_size']\n",
    "\n",
    "# Get the shape\n",
    "unemployment.shape"
   ]
  },
  {
   "cell_type": "code",
   "execution_count": 98,
   "id": "daade656-33b0-4ccc-950d-4ac8e2f9d30a",
   "metadata": {},
   "outputs": [],
   "source": [
    "# Save to csv\n",
    "unemployment.to_csv('./03_output/unemployment_eks.csv', index = False)"
   ]
  },
  {
   "cell_type": "markdown",
   "id": "7b706f22-98e7-45a9-8520-4424c1534d12",
   "metadata": {},
   "source": [
    "#### Overall Merge"
   ]
  },
  {
   "cell_type": "code",
   "execution_count": 99,
   "id": "eeecce1d-bb96-4f91-90f8-f18ea37dba06",
   "metadata": {},
   "outputs": [
    {
     "data": {
      "text/plain": [
       "(57, 44)"
      ]
     },
     "execution_count": 99,
     "metadata": {},
     "output_type": "execute_result"
    }
   ],
   "source": [
    "# Moment of truth \n",
    "emilys_dfs_merged = counties.merge(\n",
    "  abortion_costs, left_on = 'county', right_on = 'county', how = 'left').merge(\n",
    "    abortion_counts, left_on = 'county', right_on = 'county', how = 'left').merge(\n",
    "      daycare_slots, left_on = 'county', right_on = 'county', how = 'left').merge(\n",
    "        dropout_rate_2019, left_on = 'county', right_on = 'county', how = 'left').merge(\n",
    "          ecig_availability, left_on = 'county', right_on = 'county', how = 'left').merge(\n",
    "            poverty_rate, left_on = 'county', right_on = 'county', how = 'left').merge(\n",
    "              sui_1, left_on = 'county', right_on = 'county', how = 'left').merge(\n",
    "                sui_2, left_on = 'county', right_on = 'county', how = 'left').merge(\n",
    "                  unemployment, left_on = 'county', right_on = 'county', how = 'left').merge(\n",
    "    suicide_rate, left_on = 'county', right_on = 'county', how = 'left')\n",
    "\n",
    "# Get the shape\n",
    "emilys_dfs_merged.shape"
   ]
  },
  {
   "cell_type": "markdown",
   "id": "a9a7db43-cb6c-4000-b543-f66596eb8fb3",
   "metadata": {},
   "source": [
    "# EMILY DELETE THIS YOU-SPECIFIC LINE\n",
    "```diff 02_data_eks/03_output/suicide_rate_2012_2014.csv 02_data_eks/02_cleaned_datasets/suicide_rate_2012_2014_simplified_eks.csv```\n",
    "\n",
    "diff 02_data_eks/03_output/suicide_rate_2015_2017.csv 02_data_eks/02_cleaned_datasets/suicide_rate_2015_2017_simplified_eks.csv\n",
    "\n",
    "diff 02_data_eks/03_output/dropout_rate_2019.csv 02_data_eks/02_cleaned_datasets/dropout_rate_2019_simplified_eks.csv\n",
    "\n",
    "diff 02_data_eks/03_output/emilys_dfs_merged.csv 02_data_eks/02_cleaned_datasets/emilys_dfs_merged.csv"
   ]
  },
  {
   "cell_type": "code",
   "execution_count": 100,
   "id": "69f15b71-2019-4476-a030-5b8b7b8c3514",
   "metadata": {},
   "outputs": [
    {
     "data": {
      "text/plain": [
       "(57, 44)"
      ]
     },
     "execution_count": 100,
     "metadata": {},
     "output_type": "execute_result"
    }
   ],
   "source": [
    "emilys_dfs_merged.shape"
   ]
  },
  {
   "cell_type": "code",
   "execution_count": 101,
   "id": "f329b53f-f5bd-40d6-b297-7b3ea153885f",
   "metadata": {},
   "outputs": [],
   "source": [
    "# Save mine to CSV\n",
    "emilys_dfs_merged.to_csv('./03_output/emilys_dfs_merged.csv', index = False)\n",
    "# Note: Unemployment rate was actually added later, so these files won't match exactly."
   ]
  },
  {
   "cell_type": "code",
   "execution_count": 102,
   "id": "e6c0e712-852a-49d0-b09a-83648b4ea93b",
   "metadata": {},
   "outputs": [
    {
     "data": {
      "text/plain": [
       "(57, 61)"
      ]
     },
     "execution_count": 102,
     "metadata": {},
     "output_type": "execute_result"
    }
   ],
   "source": [
    "# Combine mine and Eli's\n",
    "elis_dfs = pd.read_csv('./02_cleaned_datasets/eli_concat.csv')\n",
    "\n",
    "# goal: (57, 57)\n",
    "eli_emily_dfs_merged = emilys_dfs_merged.merge(elis_dfs, left_on = 'county', right_on = 'county', how = 'left')\n",
    "eli_emily_dfs_merged.shape"
   ]
  },
  {
   "cell_type": "markdown",
   "id": "fd9d1f78-a0d0-45e0-9be4-9d7c91ab04e4",
   "metadata": {},
   "source": [
    "#### Group Data Cleaning"
   ]
  },
  {
   "cell_type": "markdown",
   "id": "b4e15b9f-d048-49cb-8d00-4f838b32f551",
   "metadata": {},
   "source": [
    "The following data cleaning steps were taken made together during a group call.  I ran them on my computer, and distributed the resulting dataframe as a CSV."
   ]
  },
  {
   "cell_type": "code",
   "execution_count": 103,
   "id": "0a3b3e96-4c05-4387-9999-799f5d3c3990",
   "metadata": {},
   "outputs": [
    {
     "data": {
      "text/plain": [
       "county                                   0\n",
       "total_expenditures                       1\n",
       "abortion_rs_count_total                  1\n",
       "abortion_rs_count_total_suppressed       0\n",
       "daycare_slots_child_facility_capacity    0\n",
       "                                        ..\n",
       "std_gonorrhea_supressed                  0\n",
       "std_syphilis_cases                       0\n",
       "std_population                           0\n",
       "std_syphilis_rate                        0\n",
       "std_syphilis_supressed                   0\n",
       "Length: 61, dtype: int64"
      ]
     },
     "execution_count": 103,
     "metadata": {},
     "output_type": "execute_result"
    }
   ],
   "source": [
    "# Give it a more convenient name\n",
    "big_df = eli_emily_dfs_merged.copy(deep = True)\n",
    "\n",
    "# Check for NAs\n",
    "big_df.isna().sum()"
   ]
  },
  {
   "cell_type": "code",
   "execution_count": 104,
   "id": "b6e621c4-a401-49d2-9b36-f28211bba8b9",
   "metadata": {},
   "outputs": [
    {
     "data": {
      "text/plain": [
       "(57, 44)"
      ]
     },
     "execution_count": 104,
     "metadata": {},
     "output_type": "execute_result"
    }
   ],
   "source": [
    "# Drop columns with too many NAs - not practical to impute that much\n",
    "big_df.drop(columns = ['povr_whole_white_estimate',\n",
    "       'povr_whole_cont_native_estimate', 'povr_whole_asian_estimate',\n",
    "       'povr_whole_black_estimate', 'povr_whole_latine_estimate',\n",
    "       'povr_whole_island_native_estimate', 'povr_whole_multiracial_estimate',\n",
    "       'povr_whole_other_race_estimate', 'povr_kids_asian_estimate', 'povr_kids_cont_native_estimate',\n",
    "       'povr_kids_black_estimate', 'povr_kids_latine_estimate',\n",
    "       'povr_kids_island_native_estimate', 'povr_kids_white_estimate',\n",
    "       'povr_kids_multiracial_estimate', 'povr_kids_other_race_estimate',\n",
    "       'povr_kids_total_estimate'], inplace = True)\n",
    "\n",
    "# Get the shape\n",
    "big_df.shape"
   ]
  },
  {
   "cell_type": "code",
   "execution_count": 105,
   "id": "ddce73f8-971a-4546-8258-b40f0e9989be",
   "metadata": {},
   "outputs": [
    {
     "data": {
      "text/plain": [
       "(57, 33)"
      ]
     },
     "execution_count": 105,
     "metadata": {},
     "output_type": "execute_result"
    }
   ],
   "source": [
    "# Drop counts columns where rates are available\n",
    "big_df.drop(columns = ['std_chlamydia_cases', 'std_gonorrhea_cases', \n",
    "    'std_syphilis_cases', 'adolescent_birth_births'], inplace=True)\n",
    "\n",
    "# Drop redundant columns\n",
    "big_df.drop(columns = ['labor_force_size', 'sui_rate_2012_2014', 'sui_rate_2015_2017', \n",
    "    'sui_age_adjusted_rate_2012_2014', 'sui_age_adjusted_rate_2015_2017', \n",
    "    'adolescent_birth_population', 'sui_rate_avg'], inplace = True)\n",
    "\n",
    "# Get the shape\n",
    "big_df.shape"
   ]
  },
  {
   "cell_type": "code",
   "execution_count": 106,
   "id": "5214fb6d-2637-48ed-86b4-f206c235590a",
   "metadata": {},
   "outputs": [],
   "source": [
    "# Fix a string column\n",
    "big_df.rename(columns = {\n",
    "    'total_expenditures': 'abortion_medicaid_expenditures'}, inplace = True)\n",
    "\n",
    "# Impute 0 where suppressed\n",
    "big_df['abortion_medicaid_expenditures'] = big_df['abortion_medicaid_expenditures'].fillna('$0')\n",
    "\n",
    "# Get a list\n",
    "exp = list(big_df['abortion_medicaid_expenditures'])\n",
    "\n",
    "# Get rid of the $\n",
    "x = []\n",
    "for i in exp:\n",
    "  j = i.replace(' ', '')\n",
    "  k = j.replace(',', '')\n",
    "  x.append(k[1:])\n",
    "\n",
    "# Put back in\n",
    "big_df['abortion_medicaid_expenditures'] = x\n",
    "\n",
    "# Set dtype\n",
    "big_df['abortion_medicaid_expenditures'] = big_df['abortion_medicaid_expenditures'].astype('float')"
   ]
  },
  {
   "cell_type": "code",
   "execution_count": 107,
   "id": "0d85f617-381e-4945-969d-35743c6f96d1",
   "metadata": {},
   "outputs": [],
   "source": [
    "# Save to CSV\n",
    "big_df.to_csv('./03_output/big_df_eks.csv', index = False)"
   ]
  },
  {
   "cell_type": "markdown",
   "id": "a8635922-d5d0-498a-bcb8-c60fae4a76ee",
   "metadata": {},
   "source": [
    "#### Combine GINI Coefficients"
   ]
  },
  {
   "cell_type": "markdown",
   "id": "cd1135b4-b981-4f9e-8543-b79ac3d4674d",
   "metadata": {},
   "source": [
    "Eli found a dataset on income inequality that covered nearly all of the counties, but was from a range of years.  Radha found one from the same source that was specifically from 2015, but many of the counties had been evaluated as groups rather than individually.  I combined these estimates similarly to the suicide rate estimates."
   ]
  },
  {
   "cell_type": "code",
   "execution_count": 108,
   "id": "b7bb0c4d-0ad5-4c85-86ae-c934b35f3a13",
   "metadata": {},
   "outputs": [],
   "source": [
    "# This df had gone around a few times by now\n",
    "big_df = pd.read_csv('./02_cleaned_datasets/ca_dropout_and_predictors_v1.csv')\n",
    "\n",
    "# Subset for sanity\n",
    "gini = big_df[['county', 'gini_coefficient_2015', 'gini_suppressed_2015', \n",
    "  'gini_combined_2015', 'gini_coefficient_range', 'gini_suppressed_range']]"
   ]
  },
  {
   "cell_type": "code",
   "execution_count": 109,
   "id": "67aae8d4-3cb8-43b8-a321-17e684b23bec",
   "metadata": {},
   "outputs": [],
   "source": [
    "# Define conditions\n",
    "a_na = gini['gini_coefficient_2015'].isna()\n",
    "a_pop = gini['gini_coefficient_2015'].notna()\n",
    "b_na = gini['gini_coefficient_range'].isna()\n",
    "b_pop = gini['gini_coefficient_range'].notna()\n",
    "c_0 = gini['gini_combined_2015']==0\n",
    "c_1 = gini['gini_combined_2015']==1"
   ]
  },
  {
   "cell_type": "code",
   "execution_count": 110,
   "id": "cfc1527e-755b-4930-8b8c-75f2e80d8fa7",
   "metadata": {},
   "outputs": [],
   "source": [
    "# Fill in the appropriate values\n",
    "gini.loc[(a_na & b_pop), 'gini_coef'] = gini.loc[\n",
    "  (a_na & b_pop), 'gini_coefficient_range']\n",
    "gini.loc[(a_na & b_pop), 'gini_suppressed'] = gini.loc[\n",
    "  (a_na & b_pop), 'gini_suppressed_range']\n",
    "\n",
    "gini.loc[(a_pop & b_na), 'gini_coef'] = gini.loc[\n",
    "  (a_pop & b_na), 'gini_coefficient_2015']\n",
    "gini.loc[(a_pop & b_na), 'gini_suppressed'] = gini.loc[\n",
    "  (a_pop & b_na), 'gini_suppressed_2015']\n",
    "\n",
    "gini.loc[(a_pop & b_pop & c_0), 'gini_coef'] = gini.loc[\n",
    "  (a_pop & b_pop & c_0), 'gini_coefficient_2015']\n",
    "gini.loc[(a_pop & b_pop & c_0), 'gini_suppressed'] = gini.loc[\n",
    "  (a_pop & b_pop & c_0), 'gini_suppressed_2015']\n",
    "\n",
    "gini.loc[(a_pop & b_pop & c_1), 'gini_coef'] = (gini.loc[\n",
    "  (a_pop & b_pop & c_1), 'gini_coefficient_2015'] + gini.loc[\n",
    "  (a_pop & b_pop & c_1), 'gini_coefficient_range'])/2"
   ]
  },
  {
   "cell_type": "code",
   "execution_count": 111,
   "id": "2cdd76bb-468d-4367-815f-80d11c53c6f6",
   "metadata": {},
   "outputs": [],
   "source": [
    "# Mark the new column as suppressed if either of the contributing columns were suppressed\n",
    "gini['total_suppression'] = gini[\n",
    "  'gini_suppressed_2015'] + gini['gini_suppressed_range']\n",
    "gini['total_suppression'] = gini['total_suppression'].fillna(0)\n",
    "\n",
    "gini.loc[(a_pop & b_pop & c_1), 'gini_suppressed'] = gini.loc[\n",
    "  (a_pop & b_pop & c_1), 'total_suppression']\n",
    "\n",
    "gini = gini[['county', 'gini_coef', 'gini_suppressed']]"
   ]
  },
  {
   "cell_type": "code",
   "execution_count": 112,
   "id": "7e6b5005-ef3f-4060-a7fd-8d8b8ad5edb6",
   "metadata": {},
   "outputs": [],
   "source": [
    "# Drop redundant columns\n",
    "big_df.drop(columns = ['gini_coefficient_2015', \n",
    "  'gini_suppressed_2015', 'gini_combined_2015', \n",
    "  'gini_coefficient_range', 'gini_suppressed_range'], inplace = True)\n",
    "\n",
    "# Merge\n",
    "new_df = big_df.merge(gini, how = 'left', on = 'county')\n",
    "\n",
    "# Save to CSV\n",
    "new_df.to_csv('./03_output/ca_dropout_and_predictors_v2.csv', index = False)"
   ]
  }
 ],
 "metadata": {
  "kernelspec": {
   "display_name": "Python 3 (ipykernel)",
   "language": "python",
   "name": "python3"
  },
  "language_info": {
   "codemirror_mode": {
    "name": "ipython",
    "version": 3
   },
   "file_extension": ".py",
   "mimetype": "text/x-python",
   "name": "python",
   "nbconvert_exporter": "python",
   "pygments_lexer": "ipython3",
   "version": "3.11.7"
  }
 },
 "nbformat": 4,
 "nbformat_minor": 5
}
