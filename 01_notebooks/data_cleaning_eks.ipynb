{
 "cells": [
  {
   "cell_type": "markdown",
   "id": "b306ff9e-f5d2-473d-99fb-c411c77fd9c3",
   "metadata": {},
   "source": [
    "### **Dataset Cleaning - Emily's Sets**"
   ]
  },
  {
   "cell_type": "code",
   "execution_count": 1,
   "id": "efb2882f-f96f-4b12-8edd-1fbcafce9275",
   "metadata": {},
   "outputs": [],
   "source": [
    "# Imports\n",
    "import pandas as pd\n",
    "import numpy as np\n",
    "import os"
   ]
  },
  {
   "cell_type": "code",
   "execution_count": 2,
   "id": "2afc86ad-f397-48e7-b194-88cecf6e76dd",
   "metadata": {},
   "outputs": [
    {
     "data": {
      "text/plain": [
       "'C:\\\\Users\\\\emily\\\\Git_Stuff\\\\General_Assembly\\\\04_Projects\\\\project-4\\\\dsb318-group4\\\\01_notebooks_eks'"
      ]
     },
     "execution_count": 2,
     "metadata": {},
     "output_type": "execute_result"
    }
   ],
   "source": [
    "os.getcwd()"
   ]
  },
  {
   "cell_type": "code",
   "execution_count": 3,
   "id": "6b1eeee0-3119-48f1-b29c-0bf41e2c3df1",
   "metadata": {},
   "outputs": [
    {
     "data": {
      "text/plain": [
       "['00_ignore',\n",
       " '01_original_datasets',\n",
       " '02_cleaned_datasets',\n",
       " '03_output',\n",
       " '04_data-dictionaries',\n",
       " 'ca_dropout_and_predictors_v6_eks.csv']"
      ]
     },
     "execution_count": 3,
     "metadata": {},
     "output_type": "execute_result"
    }
   ],
   "source": [
    "os.chdir('./../02_data_eks')\n",
    "os.listdir()"
   ]
  },
  {
   "cell_type": "markdown",
   "id": "7227bc8e-a526-4e4e-b73f-c97d4e1a1a63",
   "metadata": {},
   "source": [
    "#### Abortion Costs"
   ]
  },
  {
   "cell_type": "code",
   "execution_count": 4,
   "id": "425c84c3-1bf6-45b5-a590-c6eb25b05b42",
   "metadata": {},
   "outputs": [
    {
     "data": {
      "text/plain": [
       "(815, 5)"
      ]
     },
     "execution_count": 4,
     "metadata": {},
     "output_type": "execute_result"
    }
   ],
   "source": [
    "# Read it in\n",
    "abortion_costs = pd.read_csv('./01_original_datasets/abortions_funded_costs.csv')\n",
    "\n",
    "# Rename columns\n",
    "col_names = [col.lower().replace(' ', '_') for col in abortion_costs.columns]\n",
    "abortion_costs.columns = col_names\n",
    "\n",
    "# Get the dimensions\n",
    "abortion_costs.shape"
   ]
  },
  {
   "cell_type": "code",
   "execution_count": 5,
   "id": "4f93df45-d91e-46ca-ba47-ab30e63579d0",
   "metadata": {},
   "outputs": [
    {
     "data": {
      "text/plain": [
       "(114, 5)"
      ]
     },
     "execution_count": 5,
     "metadata": {},
     "output_type": "execute_result"
    }
   ],
   "source": [
    "# 2015 only\n",
    "abortion_costs = abortion_costs[abortion_costs['calendar_year']==2015]\n",
    "\n",
    "# Real counties only\n",
    "abortion_costs = abortion_costs[abortion_costs['county']!='Unknown']\n",
    "abortion_costs = abortion_costs[abortion_costs['county']!='Total'] \n",
    "\n",
    "# Get the shape\n",
    "abortion_costs.shape"
   ]
  },
  {
   "cell_type": "code",
   "execution_count": 6,
   "id": "0d548fca-78f1-4304-8fd3-3b50863fd8f5",
   "metadata": {},
   "outputs": [
    {
     "name": "stdout",
     "output_type": "stream",
     "text": [
      "====================\n",
      "calendar_year\n",
      "1\n",
      "====================\n",
      "delivery_system\n",
      "2\n",
      "====================\n",
      "county\n",
      "58\n",
      "====================\n",
      "total_expenditures\n",
      "55\n",
      "====================\n",
      "date_of_data\n",
      "1\n"
     ]
    }
   ],
   "source": [
    "# Take a look at the column counts - this will help me identify unnecessary features\n",
    "for i in list(abortion_costs.columns):\n",
    "  print('='*20)\n",
    "  print(i)\n",
    "  print(abortion_costs[i].nunique())"
   ]
  },
  {
   "cell_type": "code",
   "execution_count": 7,
   "id": "defaff99-b36b-43ad-9a3d-f6d67c9255c7",
   "metadata": {},
   "outputs": [
    {
     "data": {
      "text/plain": [
       "calendar_year          0\n",
       "delivery_system        0\n",
       "county                 0\n",
       "total_expenditures    58\n",
       "date_of_data           0\n",
       "dtype: int64"
      ]
     },
     "execution_count": 7,
     "metadata": {},
     "output_type": "execute_result"
    }
   ],
   "source": [
    "# Look for missing data\n",
    "abortion_costs.isna().sum()"
   ]
  },
  {
   "cell_type": "markdown",
   "id": "ca4d8abd-10b1-425e-a495-1d802128c493",
   "metadata": {},
   "source": [
    "Just the one column has NAs, and it is exactly the number of counties."
   ]
  },
  {
   "cell_type": "code",
   "execution_count": 8,
   "id": "fb6e451b-8f8b-4657-943e-f0b4594ebbe0",
   "metadata": {},
   "outputs": [
    {
     "name": "stdout",
     "output_type": "stream",
     "text": [
      "====================\n",
      "calendar_year\n",
      "1\n",
      "====================\n",
      "delivery_system\n",
      "1\n",
      "====================\n",
      "county\n",
      "56\n",
      "====================\n",
      "total_expenditures\n",
      "55\n",
      "====================\n",
      "date_of_data\n",
      "1\n"
     ]
    }
   ],
   "source": [
    "# Take a look at the column counts \n",
    "for i in list(abortion_costs.dropna().columns):\n",
    "  print('='*20)\n",
    "  print(i)\n",
    "  print(abortion_costs.dropna()[i].nunique())"
   ]
  },
  {
   "cell_type": "markdown",
   "id": "517d0a5a-9da5-4469-8a42-4dee8848f4b5",
   "metadata": {},
   "source": [
    "It looks like an entire category of `delivery_system` is missing."
   ]
  },
  {
   "cell_type": "code",
   "execution_count": 9,
   "id": "6e086d88-ec03-46b5-9903-a53d27e49651",
   "metadata": {},
   "outputs": [
    {
     "data": {
      "text/plain": [
       "delivery_system\n",
       "Fee-for-Service     0\n",
       "Managed Care       58\n",
       "Name: total_expenditures, dtype: int64"
      ]
     },
     "execution_count": 9,
     "metadata": {},
     "output_type": "execute_result"
    }
   ],
   "source": [
    "# Check that hypothesis\n",
    "abortion_costs['total_expenditures'].isna().groupby(abortion_costs['delivery_system']).sum()"
   ]
  },
  {
   "cell_type": "code",
   "execution_count": 10,
   "id": "25510ac9-da5c-4b9e-a652-36444f8478a9",
   "metadata": {},
   "outputs": [
    {
     "data": {
      "text/plain": [
       "delivery_system  total_expenditures\n",
       "Fee-for-Service  False                 56\n",
       "Managed Care     True                  58\n",
       "Name: count, dtype: int64"
      ]
     },
     "execution_count": 10,
     "metadata": {},
     "output_type": "execute_result"
    }
   ],
   "source": [
    "# Check that hypothesis\n",
    "abortion_costs['total_expenditures'].isna().groupby(abortion_costs['delivery_system']).value_counts(dropna = False)"
   ]
  },
  {
   "cell_type": "markdown",
   "id": "9404497c-461b-46ec-b4a7-4d115f2eafdd",
   "metadata": {},
   "source": [
    "Two counties seem to be missing from the Fee-for-Service level that are present in the Managed Care level, but they're NA there.  They're not suppressed for small numbers or anything; they just aren't present in the dataset at all."
   ]
  },
  {
   "cell_type": "code",
   "execution_count": 11,
   "id": "ec6e9ec5-0ab1-4a0b-8c83-8720d1457da6",
   "metadata": {},
   "outputs": [
    {
     "data": {
      "text/plain": [
       "(56, 2)"
      ]
     },
     "execution_count": 11,
     "metadata": {},
     "output_type": "execute_result"
    }
   ],
   "source": [
    "# Remove the unnecessary category (rows)\n",
    "abortion_costs.dropna(inplace = True)\n",
    "\n",
    "# Drop unnecessary columns\n",
    "drop_cols = ['calendar_year', 'delivery_system', 'date_of_data']\n",
    "abortion_costs.drop(columns = drop_cols, inplace = True)\n",
    "\n",
    "# Get the shape\n",
    "abortion_costs.shape"
   ]
  },
  {
   "cell_type": "code",
   "execution_count": 12,
   "id": "74b89569-a3d1-4221-8d04-06b18fa43910",
   "metadata": {},
   "outputs": [],
   "source": [
    "# Save to csv \n",
    "abortion_costs.to_csv('./03_output/abortion_costs_eks.csv', index = False)"
   ]
  },
  {
   "cell_type": "markdown",
   "id": "16a3da3c-779e-4a2f-951a-3369e4362f3b",
   "metadata": {},
   "source": [
    "The datasets that resulted from my initial cleaning, that went on to be part of the final analysis, can be found in `./02_cleaned_datasets`.  I have edited this code to send them to `./03_output` instead, to prevent these files from being overwritten over and over.  This is the same throughout this notebook.  Curious readers - or at least those using Git Bash on a PC - can run the following command through their terminal to confirm that the files are the same."
   ]
  },
  {
   "cell_type": "markdown",
   "id": "d7641607-b968-42b8-b19c-013f051a37d7",
   "metadata": {},
   "source": [
    "```diff 02_data/03_output/<dataset name>_eks.csv 02_data/02_cleaned_datasets/<dataset name>_simplified_eks.csv```"
   ]
  },
  {
   "cell_type": "markdown",
   "id": "51ecf7bb-cba5-41c9-8ec4-feb4376532e8",
   "metadata": {},
   "source": [
    "# EMILY DELETE THIS YOU-SPECIFIC LINE"
   ]
  },
  {
   "cell_type": "markdown",
   "id": "e10ad85f-392a-46ba-901b-470e04a1e862",
   "metadata": {},
   "source": [
    "```diff 02_data_eks/03_output/<dataset name>_eks.csv 02_data_eks/02_cleaned_datasets/<dataset name>_simplified_eks.csv```"
   ]
  },
  {
   "cell_type": "markdown",
   "id": "3d48b7c4-988d-46f7-ba67-5cd2fb9443bf",
   "metadata": {},
   "source": [
    "#### Abortion Counts"
   ]
  },
  {
   "cell_type": "markdown",
   "id": "e5571ba8-789c-4cef-91a5-ccb7cb348042",
   "metadata": {},
   "source": [
    "#### Daycare Slots"
   ]
  },
  {
   "cell_type": "markdown",
   "id": "9fa7db59-3f1f-4b67-b805-76e88e605df5",
   "metadata": {},
   "source": [
    "#### E-cigarettes"
   ]
  },
  {
   "cell_type": "markdown",
   "id": "b207c1a4-f396-40a3-8888-574e0b33706a",
   "metadata": {},
   "source": [
    "#### Poverty Rate"
   ]
  },
  {
   "cell_type": "markdown",
   "id": "f0a237ee-e059-4fd5-a0ca-14bf3a6f1b64",
   "metadata": {},
   "source": [
    "#### Suicide Rate"
   ]
  },
  {
   "cell_type": "markdown",
   "id": "23e84dd7-36e9-4206-830f-e94d7e4a5a1e",
   "metadata": {},
   "source": [
    "#### Graduation Cohort & Dropout Rate"
   ]
  },
  {
   "cell_type": "markdown",
   "id": "fe2c123c-89e4-48c9-b5a6-89c79cb59d02",
   "metadata": {},
   "source": [
    "#### Unemployment Rate"
   ]
  },
  {
   "cell_type": "markdown",
   "id": "7b706f22-98e7-45a9-8520-4424c1534d12",
   "metadata": {},
   "source": [
    "#### Dimensionality Reduction"
   ]
  }
 ],
 "metadata": {
  "kernelspec": {
   "display_name": "Python 3 (ipykernel)",
   "language": "python",
   "name": "python3"
  },
  "language_info": {
   "codemirror_mode": {
    "name": "ipython",
    "version": 3
   },
   "file_extension": ".py",
   "mimetype": "text/x-python",
   "name": "python",
   "nbconvert_exporter": "python",
   "pygments_lexer": "ipython3",
   "version": "3.11.7"
  }
 },
 "nbformat": 4,
 "nbformat_minor": 5
}
