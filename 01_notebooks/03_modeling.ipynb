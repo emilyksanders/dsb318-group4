{
 "cells": [
  {
   "cell_type": "code",
   "execution_count": 18,
   "id": "5c45f75d-27b8-4bc4-8046-31836df457f6",
   "metadata": {
    "tags": []
   },
   "outputs": [],
   "source": [
    "#imports\n",
    "import pandas as pd\n",
    "import numpy as np\n",
    "import matplotlib.pyplot as plt\n",
    "from sklearn.model_selection import train_test_split, cross_val_score, GridSearchCV\n",
    "from sklearn.ensemble import RandomForestRegressor\n",
    "from sklearn.preprocessing import StandardScaler\n",
    "from sklearn import metrics\n",
    "from sklearn.linear_model import Lasso, LassoCV\n",
    "from sklearn.cluster import KMeans, DBSCAN\n",
    "from sklearn.metrics import silhouette_score, mean_squared_error"
   ]
  },
  {
   "cell_type": "code",
   "execution_count": 6,
   "id": "bc44da95-5646-4494-9dac-05fecf96efab",
   "metadata": {
    "tags": []
   },
   "outputs": [],
   "source": [
    "#choosing top 10 for correlated and top 10 for not correlated\n",
    "df = pd.read_csv('./df_poly.csv').set_index('county')\n",
    "y_df = pd.read_csv('./ca_dropout_and_predictors_v5.csv').set_index('county')['dropout_log']"
   ]
  },
  {
   "cell_type": "code",
   "execution_count": 7,
   "id": "4d1a3ac6-9d90-4bdb-862f-8444bcc74548",
   "metadata": {
    "tags": []
   },
   "outputs": [],
   "source": [
    "X = df[['ecigs_sold_pct_tobacco_stores_2016 gini_coef', 'ecigs_sold_pct_tobacco_stores_2016', 'ecigs_sold_pct_tobacco_stores_2016 povr_whole_total_estimate', 'ecigs_sold_pct_tobacco_stores_2016 std_chlamydia_rate', 'daycare_slots_child_rate_slots ecigs_sold_pct_tobacco_stores_2016', 'daycare_slots_infant_pct_nonwhite ecigs_sold_pct_tobacco_stores_2016','daycare_slots_child_pct_nonwhite ecigs_sold_pct_tobacco_stores_2016','std_chlamydia_rate','std_chlamydia_rate sui_adjusted_rate_avg', 'std_chlamydia_rate gini_coef']]\n",
    "y = y_df"
   ]
  },
  {
   "cell_type": "markdown",
   "id": "07c19461-7a52-401e-be2e-c7ecede06ab7",
   "metadata": {},
   "source": [
    "# Run a standard scaler and then a random forest"
   ]
  },
  {
   "cell_type": "code",
   "execution_count": 9,
   "id": "18a75282-e956-4b44-9985-4187fabfc58e",
   "metadata": {
    "tags": []
   },
   "outputs": [],
   "source": [
    "X_train, X_test, y_train, y_test = train_test_split(X, y, test_size = 2, random_state=31)"
   ]
  },
  {
   "cell_type": "code",
   "execution_count": 10,
   "id": "adde0832-be9c-4df8-8be2-edd03716d5e6",
   "metadata": {
    "tags": []
   },
   "outputs": [],
   "source": [
    "sc = StandardScaler()"
   ]
  },
  {
   "cell_type": "code",
   "execution_count": 11,
   "id": "335e2ef3-42db-4402-a3d0-efaa467a6477",
   "metadata": {
    "tags": []
   },
   "outputs": [],
   "source": [
    "Z_train = sc.fit_transform(X_train)\n",
    "Z_test = sc.transform(X_test)"
   ]
  },
  {
   "cell_type": "code",
   "execution_count": 12,
   "id": "94feaee6-fee8-44d4-b4c5-6a9f9810b3ea",
   "metadata": {
    "tags": []
   },
   "outputs": [],
   "source": [
    "rf = RandomForestRegressor(n_estimators=100, max_depth = 3)"
   ]
  },
  {
   "cell_type": "code",
   "execution_count": 13,
   "id": "6b29b007-98b0-4c9b-b0d5-3720ed9556eb",
   "metadata": {
    "tags": []
   },
   "outputs": [
    {
     "data": {
      "text/html": [
       "<style>#sk-container-id-1 {color: black;}#sk-container-id-1 pre{padding: 0;}#sk-container-id-1 div.sk-toggleable {background-color: white;}#sk-container-id-1 label.sk-toggleable__label {cursor: pointer;display: block;width: 100%;margin-bottom: 0;padding: 0.3em;box-sizing: border-box;text-align: center;}#sk-container-id-1 label.sk-toggleable__label-arrow:before {content: \"▸\";float: left;margin-right: 0.25em;color: #696969;}#sk-container-id-1 label.sk-toggleable__label-arrow:hover:before {color: black;}#sk-container-id-1 div.sk-estimator:hover label.sk-toggleable__label-arrow:before {color: black;}#sk-container-id-1 div.sk-toggleable__content {max-height: 0;max-width: 0;overflow: hidden;text-align: left;background-color: #f0f8ff;}#sk-container-id-1 div.sk-toggleable__content pre {margin: 0.2em;color: black;border-radius: 0.25em;background-color: #f0f8ff;}#sk-container-id-1 input.sk-toggleable__control:checked~div.sk-toggleable__content {max-height: 200px;max-width: 100%;overflow: auto;}#sk-container-id-1 input.sk-toggleable__control:checked~label.sk-toggleable__label-arrow:before {content: \"▾\";}#sk-container-id-1 div.sk-estimator input.sk-toggleable__control:checked~label.sk-toggleable__label {background-color: #d4ebff;}#sk-container-id-1 div.sk-label input.sk-toggleable__control:checked~label.sk-toggleable__label {background-color: #d4ebff;}#sk-container-id-1 input.sk-hidden--visually {border: 0;clip: rect(1px 1px 1px 1px);clip: rect(1px, 1px, 1px, 1px);height: 1px;margin: -1px;overflow: hidden;padding: 0;position: absolute;width: 1px;}#sk-container-id-1 div.sk-estimator {font-family: monospace;background-color: #f0f8ff;border: 1px dotted black;border-radius: 0.25em;box-sizing: border-box;margin-bottom: 0.5em;}#sk-container-id-1 div.sk-estimator:hover {background-color: #d4ebff;}#sk-container-id-1 div.sk-parallel-item::after {content: \"\";width: 100%;border-bottom: 1px solid gray;flex-grow: 1;}#sk-container-id-1 div.sk-label:hover label.sk-toggleable__label {background-color: #d4ebff;}#sk-container-id-1 div.sk-serial::before {content: \"\";position: absolute;border-left: 1px solid gray;box-sizing: border-box;top: 0;bottom: 0;left: 50%;z-index: 0;}#sk-container-id-1 div.sk-serial {display: flex;flex-direction: column;align-items: center;background-color: white;padding-right: 0.2em;padding-left: 0.2em;position: relative;}#sk-container-id-1 div.sk-item {position: relative;z-index: 1;}#sk-container-id-1 div.sk-parallel {display: flex;align-items: stretch;justify-content: center;background-color: white;position: relative;}#sk-container-id-1 div.sk-item::before, #sk-container-id-1 div.sk-parallel-item::before {content: \"\";position: absolute;border-left: 1px solid gray;box-sizing: border-box;top: 0;bottom: 0;left: 50%;z-index: -1;}#sk-container-id-1 div.sk-parallel-item {display: flex;flex-direction: column;z-index: 1;position: relative;background-color: white;}#sk-container-id-1 div.sk-parallel-item:first-child::after {align-self: flex-end;width: 50%;}#sk-container-id-1 div.sk-parallel-item:last-child::after {align-self: flex-start;width: 50%;}#sk-container-id-1 div.sk-parallel-item:only-child::after {width: 0;}#sk-container-id-1 div.sk-dashed-wrapped {border: 1px dashed gray;margin: 0 0.4em 0.5em 0.4em;box-sizing: border-box;padding-bottom: 0.4em;background-color: white;}#sk-container-id-1 div.sk-label label {font-family: monospace;font-weight: bold;display: inline-block;line-height: 1.2em;}#sk-container-id-1 div.sk-label-container {text-align: center;}#sk-container-id-1 div.sk-container {/* jupyter's `normalize.less` sets `[hidden] { display: none; }` but bootstrap.min.css set `[hidden] { display: none !important; }` so we also need the `!important` here to be able to override the default hidden behavior on the sphinx rendered scikit-learn.org. See: https://github.com/scikit-learn/scikit-learn/issues/21755 */display: inline-block !important;position: relative;}#sk-container-id-1 div.sk-text-repr-fallback {display: none;}</style><div id=\"sk-container-id-1\" class=\"sk-top-container\"><div class=\"sk-text-repr-fallback\"><pre>RandomForestRegressor(max_depth=3)</pre><b>In a Jupyter environment, please rerun this cell to show the HTML representation or trust the notebook. <br />On GitHub, the HTML representation is unable to render, please try loading this page with nbviewer.org.</b></div><div class=\"sk-container\" hidden><div class=\"sk-item\"><div class=\"sk-estimator sk-toggleable\"><input class=\"sk-toggleable__control sk-hidden--visually\" id=\"sk-estimator-id-1\" type=\"checkbox\" checked><label for=\"sk-estimator-id-1\" class=\"sk-toggleable__label sk-toggleable__label-arrow\">RandomForestRegressor</label><div class=\"sk-toggleable__content\"><pre>RandomForestRegressor(max_depth=3)</pre></div></div></div></div></div>"
      ],
      "text/plain": [
       "RandomForestRegressor(max_depth=3)"
      ]
     },
     "execution_count": 13,
     "metadata": {},
     "output_type": "execute_result"
    }
   ],
   "source": [
    "rf.fit(X_train, y_train)"
   ]
  },
  {
   "cell_type": "code",
   "execution_count": 14,
   "id": "f4f285dd-2d48-43c3-a4c4-b4c412e55dc5",
   "metadata": {
    "tags": []
   },
   "outputs": [
    {
     "data": {
      "text/plain": [
       "0.8554770603733869"
      ]
     },
     "execution_count": 14,
     "metadata": {},
     "output_type": "execute_result"
    }
   ],
   "source": [
    "rf.score(X_train, y_train)"
   ]
  },
  {
   "cell_type": "code",
   "execution_count": 15,
   "id": "dee24f5b-c13a-4b5e-85d1-a024529da891",
   "metadata": {
    "tags": []
   },
   "outputs": [
    {
     "data": {
      "text/plain": [
       "0.24773222411377427"
      ]
     },
     "execution_count": 15,
     "metadata": {},
     "output_type": "execute_result"
    }
   ],
   "source": [
    "rf.score(X_test, y_test)"
   ]
  },
  {
   "cell_type": "code",
   "execution_count": 19,
   "id": "aea974a5-1241-4c14-bb87-ee1e8fce3cd0",
   "metadata": {
    "tags": []
   },
   "outputs": [
    {
     "data": {
      "text/plain": [
       "0.14176529157161033"
      ]
     },
     "execution_count": 19,
     "metadata": {},
     "output_type": "execute_result"
    }
   ],
   "source": [
    "y_pred = rf.predict(X_test)\n",
    "np.sqrt(mean_squared_error(y_test, y_pred))"
   ]
  },
  {
   "cell_type": "markdown",
   "id": "d6d56bf5-7e25-494b-a1b4-71d08bf01a40",
   "metadata": {},
   "source": [
    "R2 score for train looks okay but the model seems very overfit as the train and test R2 are very far apart."
   ]
  },
  {
   "cell_type": "markdown",
   "id": "cdd984f9-04c6-442e-9046-85a83496717e",
   "metadata": {},
   "source": [
    "# Run a lasso to help with feature engineering"
   ]
  },
  {
   "cell_type": "code",
   "execution_count": 21,
   "id": "edf06918-6d1b-40a7-96ed-afa71e279873",
   "metadata": {
    "tags": []
   },
   "outputs": [],
   "source": [
    "#going to cross validate over a bunch of alphas\n",
    "l_alphas = np.linspace(1, 100, 1000)"
   ]
  },
  {
   "cell_type": "code",
   "execution_count": 22,
   "id": "d36c584a-d9cb-4d74-bf4f-02b15eede86e",
   "metadata": {
    "tags": []
   },
   "outputs": [],
   "source": [
    "lasso_cv = LassoCV(alphas = l_alphas)"
   ]
  },
  {
   "cell_type": "code",
   "execution_count": 23,
   "id": "5cf2ac77-5ef3-46dd-89f4-299c3676f578",
   "metadata": {
    "scrolled": true,
    "tags": []
   },
   "outputs": [
    {
     "data": {
      "text/html": [
       "<style>#sk-container-id-2 {color: black;}#sk-container-id-2 pre{padding: 0;}#sk-container-id-2 div.sk-toggleable {background-color: white;}#sk-container-id-2 label.sk-toggleable__label {cursor: pointer;display: block;width: 100%;margin-bottom: 0;padding: 0.3em;box-sizing: border-box;text-align: center;}#sk-container-id-2 label.sk-toggleable__label-arrow:before {content: \"▸\";float: left;margin-right: 0.25em;color: #696969;}#sk-container-id-2 label.sk-toggleable__label-arrow:hover:before {color: black;}#sk-container-id-2 div.sk-estimator:hover label.sk-toggleable__label-arrow:before {color: black;}#sk-container-id-2 div.sk-toggleable__content {max-height: 0;max-width: 0;overflow: hidden;text-align: left;background-color: #f0f8ff;}#sk-container-id-2 div.sk-toggleable__content pre {margin: 0.2em;color: black;border-radius: 0.25em;background-color: #f0f8ff;}#sk-container-id-2 input.sk-toggleable__control:checked~div.sk-toggleable__content {max-height: 200px;max-width: 100%;overflow: auto;}#sk-container-id-2 input.sk-toggleable__control:checked~label.sk-toggleable__label-arrow:before {content: \"▾\";}#sk-container-id-2 div.sk-estimator input.sk-toggleable__control:checked~label.sk-toggleable__label {background-color: #d4ebff;}#sk-container-id-2 div.sk-label input.sk-toggleable__control:checked~label.sk-toggleable__label {background-color: #d4ebff;}#sk-container-id-2 input.sk-hidden--visually {border: 0;clip: rect(1px 1px 1px 1px);clip: rect(1px, 1px, 1px, 1px);height: 1px;margin: -1px;overflow: hidden;padding: 0;position: absolute;width: 1px;}#sk-container-id-2 div.sk-estimator {font-family: monospace;background-color: #f0f8ff;border: 1px dotted black;border-radius: 0.25em;box-sizing: border-box;margin-bottom: 0.5em;}#sk-container-id-2 div.sk-estimator:hover {background-color: #d4ebff;}#sk-container-id-2 div.sk-parallel-item::after {content: \"\";width: 100%;border-bottom: 1px solid gray;flex-grow: 1;}#sk-container-id-2 div.sk-label:hover label.sk-toggleable__label {background-color: #d4ebff;}#sk-container-id-2 div.sk-serial::before {content: \"\";position: absolute;border-left: 1px solid gray;box-sizing: border-box;top: 0;bottom: 0;left: 50%;z-index: 0;}#sk-container-id-2 div.sk-serial {display: flex;flex-direction: column;align-items: center;background-color: white;padding-right: 0.2em;padding-left: 0.2em;position: relative;}#sk-container-id-2 div.sk-item {position: relative;z-index: 1;}#sk-container-id-2 div.sk-parallel {display: flex;align-items: stretch;justify-content: center;background-color: white;position: relative;}#sk-container-id-2 div.sk-item::before, #sk-container-id-2 div.sk-parallel-item::before {content: \"\";position: absolute;border-left: 1px solid gray;box-sizing: border-box;top: 0;bottom: 0;left: 50%;z-index: -1;}#sk-container-id-2 div.sk-parallel-item {display: flex;flex-direction: column;z-index: 1;position: relative;background-color: white;}#sk-container-id-2 div.sk-parallel-item:first-child::after {align-self: flex-end;width: 50%;}#sk-container-id-2 div.sk-parallel-item:last-child::after {align-self: flex-start;width: 50%;}#sk-container-id-2 div.sk-parallel-item:only-child::after {width: 0;}#sk-container-id-2 div.sk-dashed-wrapped {border: 1px dashed gray;margin: 0 0.4em 0.5em 0.4em;box-sizing: border-box;padding-bottom: 0.4em;background-color: white;}#sk-container-id-2 div.sk-label label {font-family: monospace;font-weight: bold;display: inline-block;line-height: 1.2em;}#sk-container-id-2 div.sk-label-container {text-align: center;}#sk-container-id-2 div.sk-container {/* jupyter's `normalize.less` sets `[hidden] { display: none; }` but bootstrap.min.css set `[hidden] { display: none !important; }` so we also need the `!important` here to be able to override the default hidden behavior on the sphinx rendered scikit-learn.org. See: https://github.com/scikit-learn/scikit-learn/issues/21755 */display: inline-block !important;position: relative;}#sk-container-id-2 div.sk-text-repr-fallback {display: none;}</style><div id=\"sk-container-id-2\" class=\"sk-top-container\"><div class=\"sk-text-repr-fallback\"><pre>LassoCV(alphas=array([  1.        ,   1.0990991 ,   1.1981982 ,   1.2972973 ,\n",
       "         1.3963964 ,   1.4954955 ,   1.59459459,   1.69369369,\n",
       "         1.79279279,   1.89189189,   1.99099099,   2.09009009,\n",
       "         2.18918919,   2.28828829,   2.38738739,   2.48648649,\n",
       "         2.58558559,   2.68468468,   2.78378378,   2.88288288,\n",
       "         2.98198198,   3.08108108,   3.18018018,   3.27927928,\n",
       "         3.37837838,   3.47747748,   3.57657658,   3.67567568,\n",
       "         3.77477477,   3.87387387,   3.97297297,...\n",
       "        96.92792793,  97.02702703,  97.12612613,  97.22522523,\n",
       "        97.32432432,  97.42342342,  97.52252252,  97.62162162,\n",
       "        97.72072072,  97.81981982,  97.91891892,  98.01801802,\n",
       "        98.11711712,  98.21621622,  98.31531532,  98.41441441,\n",
       "        98.51351351,  98.61261261,  98.71171171,  98.81081081,\n",
       "        98.90990991,  99.00900901,  99.10810811,  99.20720721,\n",
       "        99.30630631,  99.40540541,  99.5045045 ,  99.6036036 ,\n",
       "        99.7027027 ,  99.8018018 ,  99.9009009 , 100.        ]))</pre><b>In a Jupyter environment, please rerun this cell to show the HTML representation or trust the notebook. <br />On GitHub, the HTML representation is unable to render, please try loading this page with nbviewer.org.</b></div><div class=\"sk-container\" hidden><div class=\"sk-item\"><div class=\"sk-estimator sk-toggleable\"><input class=\"sk-toggleable__control sk-hidden--visually\" id=\"sk-estimator-id-2\" type=\"checkbox\" checked><label for=\"sk-estimator-id-2\" class=\"sk-toggleable__label sk-toggleable__label-arrow\">LassoCV</label><div class=\"sk-toggleable__content\"><pre>LassoCV(alphas=array([  1.        ,   1.0990991 ,   1.1981982 ,   1.2972973 ,\n",
       "         1.3963964 ,   1.4954955 ,   1.59459459,   1.69369369,\n",
       "         1.79279279,   1.89189189,   1.99099099,   2.09009009,\n",
       "         2.18918919,   2.28828829,   2.38738739,   2.48648649,\n",
       "         2.58558559,   2.68468468,   2.78378378,   2.88288288,\n",
       "         2.98198198,   3.08108108,   3.18018018,   3.27927928,\n",
       "         3.37837838,   3.47747748,   3.57657658,   3.67567568,\n",
       "         3.77477477,   3.87387387,   3.97297297,...\n",
       "        96.92792793,  97.02702703,  97.12612613,  97.22522523,\n",
       "        97.32432432,  97.42342342,  97.52252252,  97.62162162,\n",
       "        97.72072072,  97.81981982,  97.91891892,  98.01801802,\n",
       "        98.11711712,  98.21621622,  98.31531532,  98.41441441,\n",
       "        98.51351351,  98.61261261,  98.71171171,  98.81081081,\n",
       "        98.90990991,  99.00900901,  99.10810811,  99.20720721,\n",
       "        99.30630631,  99.40540541,  99.5045045 ,  99.6036036 ,\n",
       "        99.7027027 ,  99.8018018 ,  99.9009009 , 100.        ]))</pre></div></div></div></div></div>"
      ],
      "text/plain": [
       "LassoCV(alphas=array([  1.        ,   1.0990991 ,   1.1981982 ,   1.2972973 ,\n",
       "         1.3963964 ,   1.4954955 ,   1.59459459,   1.69369369,\n",
       "         1.79279279,   1.89189189,   1.99099099,   2.09009009,\n",
       "         2.18918919,   2.28828829,   2.38738739,   2.48648649,\n",
       "         2.58558559,   2.68468468,   2.78378378,   2.88288288,\n",
       "         2.98198198,   3.08108108,   3.18018018,   3.27927928,\n",
       "         3.37837838,   3.47747748,   3.57657658,   3.67567568,\n",
       "         3.77477477,   3.87387387,   3.97297297,...\n",
       "        96.92792793,  97.02702703,  97.12612613,  97.22522523,\n",
       "        97.32432432,  97.42342342,  97.52252252,  97.62162162,\n",
       "        97.72072072,  97.81981982,  97.91891892,  98.01801802,\n",
       "        98.11711712,  98.21621622,  98.31531532,  98.41441441,\n",
       "        98.51351351,  98.61261261,  98.71171171,  98.81081081,\n",
       "        98.90990991,  99.00900901,  99.10810811,  99.20720721,\n",
       "        99.30630631,  99.40540541,  99.5045045 ,  99.6036036 ,\n",
       "        99.7027027 ,  99.8018018 ,  99.9009009 , 100.        ]))"
      ]
     },
     "execution_count": 23,
     "metadata": {},
     "output_type": "execute_result"
    }
   ],
   "source": [
    "lasso_cv.fit(Z_train, y_train)"
   ]
  },
  {
   "cell_type": "code",
   "execution_count": 24,
   "id": "bd3e2a94-ee90-4a61-801c-51dc29eb8cb8",
   "metadata": {
    "tags": []
   },
   "outputs": [
    {
     "data": {
      "text/plain": [
       "100.0"
      ]
     },
     "execution_count": 24,
     "metadata": {},
     "output_type": "execute_result"
    }
   ],
   "source": [
    "lasso_cv.alpha_"
   ]
  },
  {
   "cell_type": "code",
   "execution_count": 25,
   "id": "221d17c5-ff2c-4fdd-9de6-e622a019e1d3",
   "metadata": {
    "tags": []
   },
   "outputs": [
    {
     "data": {
      "text/plain": [
       "0.0"
      ]
     },
     "execution_count": 25,
     "metadata": {},
     "output_type": "execute_result"
    }
   ],
   "source": [
    "lasso_cv.score(Z_train, y_train)"
   ]
  },
  {
   "cell_type": "code",
   "execution_count": 26,
   "id": "7719eebe-6799-4276-946c-fe62b786b626",
   "metadata": {
    "tags": []
   },
   "outputs": [
    {
     "data": {
      "text/html": [
       "<style>#sk-container-id-3 {color: black;}#sk-container-id-3 pre{padding: 0;}#sk-container-id-3 div.sk-toggleable {background-color: white;}#sk-container-id-3 label.sk-toggleable__label {cursor: pointer;display: block;width: 100%;margin-bottom: 0;padding: 0.3em;box-sizing: border-box;text-align: center;}#sk-container-id-3 label.sk-toggleable__label-arrow:before {content: \"▸\";float: left;margin-right: 0.25em;color: #696969;}#sk-container-id-3 label.sk-toggleable__label-arrow:hover:before {color: black;}#sk-container-id-3 div.sk-estimator:hover label.sk-toggleable__label-arrow:before {color: black;}#sk-container-id-3 div.sk-toggleable__content {max-height: 0;max-width: 0;overflow: hidden;text-align: left;background-color: #f0f8ff;}#sk-container-id-3 div.sk-toggleable__content pre {margin: 0.2em;color: black;border-radius: 0.25em;background-color: #f0f8ff;}#sk-container-id-3 input.sk-toggleable__control:checked~div.sk-toggleable__content {max-height: 200px;max-width: 100%;overflow: auto;}#sk-container-id-3 input.sk-toggleable__control:checked~label.sk-toggleable__label-arrow:before {content: \"▾\";}#sk-container-id-3 div.sk-estimator input.sk-toggleable__control:checked~label.sk-toggleable__label {background-color: #d4ebff;}#sk-container-id-3 div.sk-label input.sk-toggleable__control:checked~label.sk-toggleable__label {background-color: #d4ebff;}#sk-container-id-3 input.sk-hidden--visually {border: 0;clip: rect(1px 1px 1px 1px);clip: rect(1px, 1px, 1px, 1px);height: 1px;margin: -1px;overflow: hidden;padding: 0;position: absolute;width: 1px;}#sk-container-id-3 div.sk-estimator {font-family: monospace;background-color: #f0f8ff;border: 1px dotted black;border-radius: 0.25em;box-sizing: border-box;margin-bottom: 0.5em;}#sk-container-id-3 div.sk-estimator:hover {background-color: #d4ebff;}#sk-container-id-3 div.sk-parallel-item::after {content: \"\";width: 100%;border-bottom: 1px solid gray;flex-grow: 1;}#sk-container-id-3 div.sk-label:hover label.sk-toggleable__label {background-color: #d4ebff;}#sk-container-id-3 div.sk-serial::before {content: \"\";position: absolute;border-left: 1px solid gray;box-sizing: border-box;top: 0;bottom: 0;left: 50%;z-index: 0;}#sk-container-id-3 div.sk-serial {display: flex;flex-direction: column;align-items: center;background-color: white;padding-right: 0.2em;padding-left: 0.2em;position: relative;}#sk-container-id-3 div.sk-item {position: relative;z-index: 1;}#sk-container-id-3 div.sk-parallel {display: flex;align-items: stretch;justify-content: center;background-color: white;position: relative;}#sk-container-id-3 div.sk-item::before, #sk-container-id-3 div.sk-parallel-item::before {content: \"\";position: absolute;border-left: 1px solid gray;box-sizing: border-box;top: 0;bottom: 0;left: 50%;z-index: -1;}#sk-container-id-3 div.sk-parallel-item {display: flex;flex-direction: column;z-index: 1;position: relative;background-color: white;}#sk-container-id-3 div.sk-parallel-item:first-child::after {align-self: flex-end;width: 50%;}#sk-container-id-3 div.sk-parallel-item:last-child::after {align-self: flex-start;width: 50%;}#sk-container-id-3 div.sk-parallel-item:only-child::after {width: 0;}#sk-container-id-3 div.sk-dashed-wrapped {border: 1px dashed gray;margin: 0 0.4em 0.5em 0.4em;box-sizing: border-box;padding-bottom: 0.4em;background-color: white;}#sk-container-id-3 div.sk-label label {font-family: monospace;font-weight: bold;display: inline-block;line-height: 1.2em;}#sk-container-id-3 div.sk-label-container {text-align: center;}#sk-container-id-3 div.sk-container {/* jupyter's `normalize.less` sets `[hidden] { display: none; }` but bootstrap.min.css set `[hidden] { display: none !important; }` so we also need the `!important` here to be able to override the default hidden behavior on the sphinx rendered scikit-learn.org. See: https://github.com/scikit-learn/scikit-learn/issues/21755 */display: inline-block !important;position: relative;}#sk-container-id-3 div.sk-text-repr-fallback {display: none;}</style><div id=\"sk-container-id-3\" class=\"sk-top-container\"><div class=\"sk-text-repr-fallback\"><pre>Lasso(alpha=100)</pre><b>In a Jupyter environment, please rerun this cell to show the HTML representation or trust the notebook. <br />On GitHub, the HTML representation is unable to render, please try loading this page with nbviewer.org.</b></div><div class=\"sk-container\" hidden><div class=\"sk-item\"><div class=\"sk-estimator sk-toggleable\"><input class=\"sk-toggleable__control sk-hidden--visually\" id=\"sk-estimator-id-3\" type=\"checkbox\" checked><label for=\"sk-estimator-id-3\" class=\"sk-toggleable__label sk-toggleable__label-arrow\">Lasso</label><div class=\"sk-toggleable__content\"><pre>Lasso(alpha=100)</pre></div></div></div></div></div>"
      ],
      "text/plain": [
       "Lasso(alpha=100)"
      ]
     },
     "execution_count": 26,
     "metadata": {},
     "output_type": "execute_result"
    }
   ],
   "source": [
    "lasso = Lasso(alpha = 100)\n",
    "lasso.fit(Z_train, y_train)"
   ]
  },
  {
   "cell_type": "code",
   "execution_count": 27,
   "id": "6adbaef9-4c9c-4624-93ee-0d8ffca65543",
   "metadata": {
    "tags": []
   },
   "outputs": [
    {
     "data": {
      "text/plain": [
       "0.0"
      ]
     },
     "execution_count": 27,
     "metadata": {},
     "output_type": "execute_result"
    }
   ],
   "source": [
    "lasso.score(Z_train, y_train)"
   ]
  },
  {
   "cell_type": "code",
   "execution_count": 29,
   "id": "5c1dbf48-974e-405a-8876-7ba56b7d49ee",
   "metadata": {
    "tags": []
   },
   "outputs": [
    {
     "data": {
      "text/plain": [
       "0.26936868837872685"
      ]
     },
     "execution_count": 29,
     "metadata": {},
     "output_type": "execute_result"
    }
   ],
   "source": [
    "y_pred = lasso.predict(Z_test)\n",
    "np.sqrt(mean_squared_error(y_test, y_pred))"
   ]
  },
  {
   "cell_type": "markdown",
   "id": "96f589b4-146e-45e0-bd69-54a00c6eec68",
   "metadata": {},
   "source": [
    "# Try clustering"
   ]
  },
  {
   "cell_type": "code",
   "execution_count": 130,
   "id": "7dc0a629-67fb-4d9d-a6f3-955ff64ae016",
   "metadata": {
    "tags": []
   },
   "outputs": [
    {
     "name": "stderr",
     "output_type": "stream",
     "text": [
      "/Users/eliwinton/anaconda3/lib/python3.11/site-packages/sklearn/cluster/_kmeans.py:1412: FutureWarning: The default value of `n_init` will change from 10 to 'auto' in 1.4. Set the value of `n_init` explicitly to suppress the warning\n",
      "  super()._check_params_vs_input(X, default_n_init=10)\n"
     ]
    },
    {
     "data": {
      "text/html": [
       "<style>#sk-container-id-22 {color: black;}#sk-container-id-22 pre{padding: 0;}#sk-container-id-22 div.sk-toggleable {background-color: white;}#sk-container-id-22 label.sk-toggleable__label {cursor: pointer;display: block;width: 100%;margin-bottom: 0;padding: 0.3em;box-sizing: border-box;text-align: center;}#sk-container-id-22 label.sk-toggleable__label-arrow:before {content: \"▸\";float: left;margin-right: 0.25em;color: #696969;}#sk-container-id-22 label.sk-toggleable__label-arrow:hover:before {color: black;}#sk-container-id-22 div.sk-estimator:hover label.sk-toggleable__label-arrow:before {color: black;}#sk-container-id-22 div.sk-toggleable__content {max-height: 0;max-width: 0;overflow: hidden;text-align: left;background-color: #f0f8ff;}#sk-container-id-22 div.sk-toggleable__content pre {margin: 0.2em;color: black;border-radius: 0.25em;background-color: #f0f8ff;}#sk-container-id-22 input.sk-toggleable__control:checked~div.sk-toggleable__content {max-height: 200px;max-width: 100%;overflow: auto;}#sk-container-id-22 input.sk-toggleable__control:checked~label.sk-toggleable__label-arrow:before {content: \"▾\";}#sk-container-id-22 div.sk-estimator input.sk-toggleable__control:checked~label.sk-toggleable__label {background-color: #d4ebff;}#sk-container-id-22 div.sk-label input.sk-toggleable__control:checked~label.sk-toggleable__label {background-color: #d4ebff;}#sk-container-id-22 input.sk-hidden--visually {border: 0;clip: rect(1px 1px 1px 1px);clip: rect(1px, 1px, 1px, 1px);height: 1px;margin: -1px;overflow: hidden;padding: 0;position: absolute;width: 1px;}#sk-container-id-22 div.sk-estimator {font-family: monospace;background-color: #f0f8ff;border: 1px dotted black;border-radius: 0.25em;box-sizing: border-box;margin-bottom: 0.5em;}#sk-container-id-22 div.sk-estimator:hover {background-color: #d4ebff;}#sk-container-id-22 div.sk-parallel-item::after {content: \"\";width: 100%;border-bottom: 1px solid gray;flex-grow: 1;}#sk-container-id-22 div.sk-label:hover label.sk-toggleable__label {background-color: #d4ebff;}#sk-container-id-22 div.sk-serial::before {content: \"\";position: absolute;border-left: 1px solid gray;box-sizing: border-box;top: 0;bottom: 0;left: 50%;z-index: 0;}#sk-container-id-22 div.sk-serial {display: flex;flex-direction: column;align-items: center;background-color: white;padding-right: 0.2em;padding-left: 0.2em;position: relative;}#sk-container-id-22 div.sk-item {position: relative;z-index: 1;}#sk-container-id-22 div.sk-parallel {display: flex;align-items: stretch;justify-content: center;background-color: white;position: relative;}#sk-container-id-22 div.sk-item::before, #sk-container-id-22 div.sk-parallel-item::before {content: \"\";position: absolute;border-left: 1px solid gray;box-sizing: border-box;top: 0;bottom: 0;left: 50%;z-index: -1;}#sk-container-id-22 div.sk-parallel-item {display: flex;flex-direction: column;z-index: 1;position: relative;background-color: white;}#sk-container-id-22 div.sk-parallel-item:first-child::after {align-self: flex-end;width: 50%;}#sk-container-id-22 div.sk-parallel-item:last-child::after {align-self: flex-start;width: 50%;}#sk-container-id-22 div.sk-parallel-item:only-child::after {width: 0;}#sk-container-id-22 div.sk-dashed-wrapped {border: 1px dashed gray;margin: 0 0.4em 0.5em 0.4em;box-sizing: border-box;padding-bottom: 0.4em;background-color: white;}#sk-container-id-22 div.sk-label label {font-family: monospace;font-weight: bold;display: inline-block;line-height: 1.2em;}#sk-container-id-22 div.sk-label-container {text-align: center;}#sk-container-id-22 div.sk-container {/* jupyter's `normalize.less` sets `[hidden] { display: none; }` but bootstrap.min.css set `[hidden] { display: none !important; }` so we also need the `!important` here to be able to override the default hidden behavior on the sphinx rendered scikit-learn.org. See: https://github.com/scikit-learn/scikit-learn/issues/21755 */display: inline-block !important;position: relative;}#sk-container-id-22 div.sk-text-repr-fallback {display: none;}</style><div id=\"sk-container-id-22\" class=\"sk-top-container\"><div class=\"sk-text-repr-fallback\"><pre>KMeans(n_clusters=3, random_state=31)</pre><b>In a Jupyter environment, please rerun this cell to show the HTML representation or trust the notebook. <br />On GitHub, the HTML representation is unable to render, please try loading this page with nbviewer.org.</b></div><div class=\"sk-container\" hidden><div class=\"sk-item\"><div class=\"sk-estimator sk-toggleable\"><input class=\"sk-toggleable__control sk-hidden--visually\" id=\"sk-estimator-id-22\" type=\"checkbox\" checked><label for=\"sk-estimator-id-22\" class=\"sk-toggleable__label sk-toggleable__label-arrow\">KMeans</label><div class=\"sk-toggleable__content\"><pre>KMeans(n_clusters=3, random_state=31)</pre></div></div></div></div></div>"
      ],
      "text/plain": [
       "KMeans(n_clusters=3, random_state=31)"
      ]
     },
     "execution_count": 130,
     "metadata": {},
     "output_type": "execute_result"
    }
   ],
   "source": [
    "# Fit a K-means clustering model\n",
    "km = KMeans(n_clusters=3, random_state=31)\n",
    "\n",
    "km.fit(X_scaled)"
   ]
  },
  {
   "cell_type": "code",
   "execution_count": 131,
   "id": "2d9a13ae-44ca-46df-a03d-29c63301036e",
   "metadata": {
    "tags": []
   },
   "outputs": [
    {
     "data": {
      "text/plain": [
       "316.88688813569706"
      ]
     },
     "execution_count": 131,
     "metadata": {},
     "output_type": "execute_result"
    }
   ],
   "source": [
    "km.inertia_"
   ]
  },
  {
   "cell_type": "code",
   "execution_count": 133,
   "id": "50a2fc15-9e9f-44c5-813d-2083302bd1a7",
   "metadata": {
    "tags": []
   },
   "outputs": [
    {
     "data": {
      "text/plain": [
       "0.22595014637439376"
      ]
     },
     "execution_count": 133,
     "metadata": {},
     "output_type": "execute_result"
    }
   ],
   "source": [
    "silhouette_score(X_scaled, km.labels_)"
   ]
  },
  {
   "cell_type": "code",
   "execution_count": 144,
   "id": "3b051d41-ced2-491e-8370-1716bbd1db98",
   "metadata": {
    "scrolled": true,
    "tags": []
   },
   "outputs": [
    {
     "data": {
      "text/plain": [
       "[570.0,\n",
       " 389.37013634188804,\n",
       " 341.33738944473146,\n",
       " 272.16270864080695,\n",
       " 230.94433142391608,\n",
       " 227.7296166693218,\n",
       " 185.80030554294655,\n",
       " 153.57108334312446,\n",
       " 146.73903572216017,\n",
       " 134.93081666756075,\n",
       " 114.46308366720585,\n",
       " 100.37094428229241,\n",
       " 93.14612339773296,\n",
       " 86.99026434144076,\n",
       " 84.04992483304933,\n",
       " 74.74001466571315,\n",
       " 68.93411570618557,\n",
       " 64.33124132486113,\n",
       " 59.24252859493364,\n",
       " 55.35081463749498,\n",
       " 49.488978954808275,\n",
       " 47.59047838117718,\n",
       " 43.348306293893174,\n",
       " 41.997187470792795,\n",
       " 40.55949828479813,\n",
       " 38.42219874251097,\n",
       " 35.468766281301974,\n",
       " 31.071742920144594,\n",
       " 29.498579509607758,\n",
       " 27.45211948581138,\n",
       " 25.524291952416633,\n",
       " 23.264890407568835,\n",
       " 20.83713785961912,\n",
       " 18.993463266119235,\n",
       " 17.107473428905536,\n",
       " 16.145119984125408,\n",
       " 15.27725680461881,\n",
       " 12.659604579596296,\n",
       " 11.874479188315853]"
      ]
     },
     "execution_count": 144,
     "metadata": {},
     "output_type": "execute_result"
    }
   ],
   "source": [
    "inertia_list = []\n",
    "\n",
    "for k in range(1, 40):\n",
    "    kmeans = KMeans(n_clusters=k, n_init='auto', random_state=31) \n",
    "    kmeans.fit(X_scaled)\n",
    "    inertia_list.append(kmeans.inertia_)\n",
    "\n",
    "inertia_list"
   ]
  },
  {
   "cell_type": "code",
   "execution_count": 145,
   "id": "00e51da6-7a52-41b4-949d-e0273412ca16",
   "metadata": {
    "tags": []
   },
   "outputs": [
    {
     "data": {
      "image/png": "[encoded data removed]",
      "text/plain": [
       "<Figure size 640x480 with 1 Axes>"
      ]
     },
     "metadata": {},
     "output_type": "display_data"
    }
   ],
   "source": [
    "plt.plot(range(1, 40), inertia_list, marker = 'o')\n",
    "plt.xlabel('# of Clusters')\n",
    "plt.ylabel('Score')\n",
    "plt.title('Inertia Scores');"
   ]
  },
  {
   "cell_type": "code",
   "execution_count": 148,
   "id": "8cde4a15-ce3d-4aa5-9761-5ae05ec27245",
   "metadata": {
    "tags": []
   },
   "outputs": [
    {
     "data": {
      "text/plain": [
       "[0.28474706123145677,\n",
       " 0.16945359233745655,\n",
       " 0.19589387623464619,\n",
       " 0.24999668231013175,\n",
       " 0.18583875032823488,\n",
       " 0.21669688550054148,\n",
       " 0.21261488138363502,\n",
       " 0.17643011858871008,\n",
       " 0.18571958284291615,\n",
       " 0.21614587843252125,\n",
       " 0.23469722794380582,\n",
       " 0.24017480836600466,\n",
       " 0.22209572390187626,\n",
       " 0.21524653913141886,\n",
       " 0.23502081224254798,\n",
       " 0.2265876168532373,\n",
       " 0.2210684497097041,\n",
       " 0.23575687908973098,\n",
       " 0.23855719443186377,\n",
       " 0.19909137954418502,\n",
       " 0.19251540238098513,\n",
       " 0.19316575431769922,\n",
       " 0.18068982435666486,\n",
       " 0.15520159778702608,\n",
       " 0.14809724432320795,\n",
       " 0.14321623647277393,\n",
       " 0.14594544109635874,\n",
       " 0.1360718243362155,\n",
       " 0.1317255580573503,\n",
       " 0.13614500684079409,\n",
       " 0.14179778563837347,\n",
       " 0.15153294205911796,\n",
       " 0.1492100261293388,\n",
       " 0.14710302301035805,\n",
       " 0.1428573701897179,\n",
       " 0.12771032227797605,\n",
       " 0.1357856074462841,\n",
       " 0.12312595833204815]"
      ]
     },
     "execution_count": 148,
     "metadata": {},
     "output_type": "execute_result"
    }
   ],
   "source": [
    "silhouette_list = []\n",
    "\n",
    "for k in range(2, 40):\n",
    "    kmeans = KMeans(n_clusters=k, n_init='auto', random_state=31)\n",
    "    kmeans.fit(X_scaled)\n",
    "    silhouette_list.append(silhouette_score(X_scaled, kmeans.labels_))\n",
    "\n",
    "silhouette_list"
   ]
  },
  {
   "cell_type": "code",
   "execution_count": 149,
   "id": "d03f96cf-30af-4571-bbd9-e76bd66607e7",
   "metadata": {
    "tags": []
   },
   "outputs": [
    {
     "data": {
      "image/png": "[encoded data removed]",
      "text/plain": [
       "<Figure size 640x480 with 1 Axes>"
      ]
     },
     "metadata": {},
     "output_type": "display_data"
    }
   ],
   "source": [
    "plt.plot(range(2, 40), silhouette_list, marker = 'o', color = 'blue')\n",
    "plt.title('Silhouettes Scores')\n",
    "plt.xlabel('# of clusters')\n",
    "plt.ylabel('Silhouette Score');"
   ]
  },
  {
   "cell_type": "markdown",
   "id": "fce3dd21-156a-4779-ac72-ca4b93475c4c",
   "metadata": {},
   "source": [
    "None of them are great but I would say somewhere around 13 clusters might be ideal"
   ]
  }
 ],
 "metadata": {
  "kernelspec": {
   "display_name": "Python 3 (ipykernel)",
   "language": "python",
   "name": "python3"
  },
  "language_info": {
   "codemirror_mode": {
    "name": "ipython",
    "version": 3
   },
   "file_extension": ".py",
   "mimetype": "text/x-python",
   "name": "python",
   "nbconvert_exporter": "python",
   "pygments_lexer": "ipython3",
   "version": "3.11.5"
  }
 },
 "nbformat": 4,
 "nbformat_minor": 5
}
